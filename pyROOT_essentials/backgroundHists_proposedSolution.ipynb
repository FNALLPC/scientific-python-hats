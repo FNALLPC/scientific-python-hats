{
 "cells": [
  {
   "cell_type": "markdown",
   "metadata": {},
   "source": [
    "Now that we have our hatsTrees that have the interesting physical variables calculated, let's do some analysis with them. To combine our MC background samples, we will need to compute weights for them. Fortunately, we have these defined in python `.ini` files.\n",
    "\n",
    "`.ini` files are a standard format for python configuration files. They have a simple syntax and are quite flexible -- this is another example of where python can help us from falling in the trap of re-inventing the wheel by writing custom code for every simple task, like parsing text files.\n",
    "\n",
    "Let's take a look at `hatsConfig.ini`."
   ]
  },
  {
   "cell_type": "code",
   "execution_count": 1,
   "metadata": {
    "collapsed": false
   },
   "outputs": [
    {
     "name": "stdout",
     "output_type": "stream",
     "text": [
      "[hatsXsects]       #      (pb)\r\n",
      "QCD_HT300to500     :   347700.00     \r\n",
      "QCD_HT500to700     :    32100.00      \r\n",
      "QCD_HT700to1000    :     6831.00       \r\n",
      "QCD_HT1000to1500   :     1207.00       \r\n",
      "QCD_HT1500to2000   :      119.90      \r\n",
      "QCD_HT2000toInf    :       25.24\r\n",
      "#Data               :        1.00\r\n",
      "\r\n",
      "[hatsNprocessed]   #  (# processed)\r\n",
      "QCD_HT300to500     :     4920846\r\n",
      "QCD_HT500to700     :     3845821\r\n",
      "QCD_HT700to1000    :     1959216\r\n",
      "QCD_HT1000to1500   :    16813667\r\n",
      "QCD_HT1500to2000   :    19186048\r\n",
      "QCD_HT2000toInf    :    15486719\r\n",
      "#Data               :           1\r\n"
     ]
    }
   ],
   "source": [
    "!cat hatsConfig.ini"
   ]
  },
  {
   "cell_type": "code",
   "execution_count": 2,
   "metadata": {
    "collapsed": false
   },
   "outputs": [
    {
     "data": {
      "text/plain": [
       "['hatsConfig.ini']"
      ]
     },
     "execution_count": 2,
     "metadata": {},
     "output_type": "execute_result"
    }
   ],
   "source": [
    "from ConfigParser import RawConfigParser\n",
    "config = RawConfigParser()   \n",
    "config.optionxform = str       # Last two lines are done because ConfigParser will not preserve case\n",
    "config.read(\"hatsConfig.ini\")"
   ]
  },
  {
   "cell_type": "markdown",
   "metadata": {},
   "source": [
    "Here is a nifty way to create a dict of the cross sections and number of events:"
   ]
  },
  {
   "cell_type": "code",
   "execution_count": 3,
   "metadata": {
    "collapsed": false,
    "scrolled": true
   },
   "outputs": [
    {
     "name": "stdout",
     "output_type": "stream",
     "text": [
      "cross sections:\n",
      "{'QCD_HT1000to1500': 1207.0,\n",
      " 'QCD_HT1500to2000': 119.9,\n",
      " 'QCD_HT2000toInf': 25.24,\n",
      " 'QCD_HT300to500': 347700.0,\n",
      " 'QCD_HT500to700': 32100.0,\n",
      " 'QCD_HT700to1000': 6831.0}\n",
      "number of events processed:\n",
      "{'QCD_HT1000to1500': 16813667,\n",
      " 'QCD_HT1500to2000': 19186048,\n",
      " 'QCD_HT2000toInf': 15486719,\n",
      " 'QCD_HT300to500': 4920846,\n",
      " 'QCD_HT500to700': 3845821,\n",
      " 'QCD_HT700to1000': 1959216}\n"
     ]
    }
   ],
   "source": [
    "crossSections = dict([sample, float(xsec)] for sample, xsec in config.items('hatsXsects'))\n",
    "nProcessed    = dict([sample, int(nPro)] for sample, nPro in config.items('hatsNprocessed'))\n",
    "\n",
    "from pprint import pprint\n",
    "print \"cross sections:\" \n",
    "pprint(crossSections)\n",
    "print \"number of events processed:\"\n",
    "pprint(nProcessed)"
   ]
  },
  {
   "cell_type": "markdown",
   "metadata": {},
   "source": [
    "python `dict`s are extremely useful, because we can give descriptive names to the data they hold. Let's use our dicts to calculate the weights for our MC background samples."
   ]
  },
  {
   "cell_type": "code",
   "execution_count": 4,
   "metadata": {
    "collapsed": false
   },
   "outputs": [
    {
     "name": "stdout",
     "output_type": "stream",
     "text": [
      "{'QCD_HT1000to1500': 0.0003249347635425102,\n",
      " 'QCD_HT1500to2000': 2.8286877228454485e-05,\n",
      " 'QCD_HT2000toInf': 7.37702544306737e-06,\n",
      " 'QCD_HT300to500': 0.3198278406930356,\n",
      " 'QCD_HT500to700': 0.0377804663952992,\n",
      " 'QCD_HT700to1000': 0.015781682998743433,\n",
      " 'data': 1}\n"
     ]
    }
   ],
   "source": [
    "weights = {}\n",
    "luminosity = 1.42    # This is just an example value\n",
    "fudge_factor = 1.0/0.313716235739\n",
    "for sample in crossSections.keys():\n",
    "    weights[sample] = luminosity * crossSections[sample]*fudge_factor/nProcessed[sample]\n",
    "weights[\"data\"]=1\n",
    "pprint(weights)"
   ]
  },
  {
   "cell_type": "markdown",
   "metadata": {
    "collapsed": true
   },
   "source": [
    "We can make dicts to hold TChains of all our data, and then draw them with weights:"
   ]
  },
  {
   "cell_type": "code",
   "execution_count": 5,
   "metadata": {
    "collapsed": false
   },
   "outputs": [
    {
     "data": {
      "application/javascript": [
       "\n",
       "require(['notebook'],\n",
       "  function() {\n",
       "    IPython.CodeCell.config_defaults.highlight_modes['magic_text/x-c++src'] = {'reg':[/^%%cpp/]};\n",
       "    console.log(\"JupyROOT - %%cpp magic configured\");\n",
       "  }\n",
       ");\n"
      ]
     },
     "metadata": {},
     "output_type": "display_data"
    },
    {
     "name": "stdout",
     "output_type": "stream",
     "text": [
      "Welcome to JupyROOT 6.08/05\n"
     ]
    }
   ],
   "source": [
    "import ROOT as r"
   ]
  },
  {
   "cell_type": "code",
   "execution_count": 7,
   "metadata": {
    "collapsed": false
   },
   "outputs": [
    {
     "name": "stdout",
     "output_type": "stream",
     "text": [
      "Hello World!\n"
     ]
    }
   ],
   "source": [
    "print \"Hello World!\""
   ]
  },
  {
   "cell_type": "code",
   "execution_count": 8,
   "metadata": {
    "collapsed": false
   },
   "outputs": [
    {
     "name": "stdout",
     "output_type": "stream",
     "text": [
      "{'QCD_HT1000to1500': <ROOT.TChain object (\"hatsDijets\") at 0x5cca030>,\n",
      " 'QCD_HT1500to2000': <ROOT.TChain object (\"hatsDijets\") at 0x5d00d80>,\n",
      " 'QCD_HT2000toInf': <ROOT.TChain object (\"hatsDijets\") at 0x5cd6450>,\n",
      " 'QCD_HT300to500': <ROOT.TChain object (\"hatsDijets\") at 0x5cd2af0>,\n",
      " 'QCD_HT500to700': <ROOT.TChain object (\"hatsDijets\") at 0x5cf9160>,\n",
      " 'QCD_HT700to1000': <ROOT.TChain object (\"hatsDijets\") at 0x5cd8940>,\n",
      " 'data': <ROOT.TChain object (\"hatsDijets\") at 0x5cd2af0>}\n"
     ]
    }
   ],
   "source": [
    "from os import listdir, path, popen\n",
    "hatsTreesDir = \"/store/user/hats/PyRoot/2017/hatsDijetTrees\"\n",
    "hatsChains = {}\n",
    "for sample in crossSections.keys():\n",
    "    sampleDir = hatsTreesDir + \"/hatsTrees_\" + sample\n",
    "    chain = r.TChain('hatsDijets')\n",
    "    for hatsFile in filter(None,popen(\"xrdfs root://cmseos.fnal.gov/ ls -u \"+sampleDir).read().split('\\n')):\n",
    "        chain.Add(hatsFile)\n",
    "    hatsChains[sample] = chain\n",
    "for hatsFile in filter(None,popen(\"xrdfs root://cmseos.fnal.gov/ ls -u \"+hatsTreesDir+\"/hatsTrees_data/\").read().split('\\n')):\n",
    "    chain.Add(hatsFile)\n",
    "hatsChains[\"data\"] = chain\n",
    "pprint(hatsChains)"
   ]
  },
  {
   "cell_type": "markdown",
   "metadata": {},
   "source": [
    "Now we can try to make weighted histograms of all the MC backgrounds using TChain.Draw(), and put them into a stackplot. Here we run into a classic pyROOT gotcha: it's not easy to prevent root from garbage collecting your histograms. It's best to keep them in an array that isn't within the scope of a loop."
   ]
  },
  {
   "cell_type": "code",
   "execution_count": 9,
   "metadata": {
    "collapsed": false
   },
   "outputs": [
    {
     "name": "stdout",
     "output_type": "stream",
     "text": [
      "{'cosThetaStar_QCD_HT1000to1500': <ROOT.TH1F object (\"cosThetaStar_QCD_HT1000to1500\") at 0x6159290>,\n",
      " 'cosThetaStar_QCD_HT1500to2000': <ROOT.TH1F object (\"cosThetaStar_QCD_HT1500to2000\") at 0x5ff59f0>,\n",
      " 'cosThetaStar_QCD_HT2000toInf': <ROOT.TH1F object (\"cosThetaStar_QCD_HT2000toInf\") at 0x5ff6c30>,\n",
      " 'cosThetaStar_QCD_HT300to500': <ROOT.TH1F object (\"cosThetaStar_QCD_HT300to500\") at 0x5fed3a0>,\n",
      " 'cosThetaStar_QCD_HT500to700': <ROOT.TH1F object (\"cosThetaStar_QCD_HT500to700\") at 0x6166400>,\n",
      " 'cosThetaStar_QCD_HT700to1000': <ROOT.TH1F object (\"cosThetaStar_QCD_HT700to1000\") at 0x6111740>,\n",
      " 'cosThetaStar_data': <ROOT.TH1F object (\"cosThetaStar_data\") at 0x6149240>,\n",
      " 'dijetEtBalance_QCD_HT1000to1500': <ROOT.TH1F object (\"dijetEtBalance_QCD_HT1000to1500\") at 0x5fe4030>,\n",
      " 'dijetEtBalance_QCD_HT1500to2000': <ROOT.TH1F object (\"dijetEtBalance_QCD_HT1500to2000\") at 0x5ff7700>,\n",
      " 'dijetEtBalance_QCD_HT2000toInf': <ROOT.TH1F object (\"dijetEtBalance_QCD_HT2000toInf\") at 0x5f43c20>,\n",
      " 'dijetEtBalance_QCD_HT300to500': <ROOT.TH1F object (\"dijetEtBalance_QCD_HT300to500\") at 0x614f3a0>,\n",
      " 'dijetEtBalance_QCD_HT500to700': <ROOT.TH1F object (\"dijetEtBalance_QCD_HT500to700\") at 0x6154a90>,\n",
      " 'dijetEtBalance_QCD_HT700to1000': <ROOT.TH1F object (\"dijetEtBalance_QCD_HT700to1000\") at 0x5fe9a90>,\n",
      " 'dijetEtBalance_data': <ROOT.TH1F object (\"dijetEtBalance_data\") at 0x61612f0>,\n",
      " 'dijetMass_QCD_HT1000to1500': <ROOT.TH1F object (\"dijetMass_QCD_HT1000to1500\") at 0x5ff48c0>,\n",
      " 'dijetMass_QCD_HT1500to2000': <ROOT.TH1F object (\"dijetMass_QCD_HT1500to2000\") at 0x6169320>,\n",
      " 'dijetMass_QCD_HT2000toInf': <ROOT.TH1F object (\"dijetMass_QCD_HT2000toInf\") at 0x5f44300>,\n",
      " 'dijetMass_QCD_HT300to500': <ROOT.TH1F object (\"dijetMass_QCD_HT300to500\") at 0x616a9a0>,\n",
      " 'dijetMass_QCD_HT500to700': <ROOT.TH1F object (\"dijetMass_QCD_HT500to700\") at 0x5fcbb40>,\n",
      " 'dijetMass_QCD_HT700to1000': <ROOT.TH1F object (\"dijetMass_QCD_HT700to1000\") at 0x610ce50>,\n",
      " 'dijetMass_data': <ROOT.TH1F object (\"dijetMass_data\") at 0x5fe3190>,\n",
      " 'leadingEta_QCD_HT1000to1500': <ROOT.TH1F object (\"leadingEta_QCD_HT1000to1500\") at 0x4dd0a50>,\n",
      " 'leadingEta_QCD_HT1500to2000': <ROOT.TH1F object (\"leadingEta_QCD_HT1500to2000\") at 0x5fd2fc0>,\n",
      " 'leadingEta_QCD_HT2000toInf': <ROOT.TH1F object (\"leadingEta_QCD_HT2000toInf\") at 0x616a190>,\n",
      " 'leadingEta_QCD_HT300to500': <ROOT.TH1F object (\"leadingEta_QCD_HT300to500\") at 0x5fea8f0>,\n",
      " 'leadingEta_QCD_HT500to700': <ROOT.TH1F object (\"leadingEta_QCD_HT500to700\") at 0x60cea50>,\n",
      " 'leadingEta_QCD_HT700to1000': <ROOT.TH1F object (\"leadingEta_QCD_HT700to1000\") at 0x6101790>,\n",
      " 'leadingEta_data': <ROOT.TH1F object (\"leadingEta_data\") at 0x5fe9530>,\n",
      " 'subleadingEta_QCD_HT1000to1500': <ROOT.TH1F object (\"subleadingEta_QCD_HT1000to1500\") at 0x6101fc0>,\n",
      " 'subleadingEta_QCD_HT1500to2000': <ROOT.TH1F object (\"subleadingEta_QCD_HT1500to2000\") at 0x5f432a0>,\n",
      " 'subleadingEta_QCD_HT2000toInf': <ROOT.TH1F object (\"subleadingEta_QCD_HT2000toInf\") at 0x5fe1290>,\n",
      " 'subleadingEta_QCD_HT300to500': <ROOT.TH1F object (\"subleadingEta_QCD_HT300to500\") at 0x6147f10>,\n",
      " 'subleadingEta_QCD_HT500to700': <ROOT.TH1F object (\"subleadingEta_QCD_HT500to700\") at 0x615c160>,\n",
      " 'subleadingEta_QCD_HT700to1000': <ROOT.TH1F object (\"subleadingEta_QCD_HT700to1000\") at 0x61535f0>,\n",
      " 'subleadingEta_data': <ROOT.TH1F object (\"subleadingEta_data\") at 0x616b030>}\n"
     ]
    },
    {
     "name": "stderr",
     "output_type": "stream",
     "text": [
      "Info in <TCanvas::MakeDefCanvas>:  created default TCanvas with name c1\n"
     ]
    }
   ],
   "source": [
    "hists = {}\n",
    "bounds = {'leadingEta':(-3.14,3.14), 'subleadingEta':(-3.14,3.14), 'dijetMass':(0,5000), 'cosThetaStar':(-1,1), 'dijetEtBalance':(0,5000)}\n",
    "for isample, sample in enumerate(hatsChains.keys()):\n",
    "    varNames=[]\n",
    "    for var in hatsChains[sample].GetListOfBranches():\n",
    "        varNames.append(var.GetName())\n",
    "    for varName in varNames:\n",
    "        histLabel = \"%s_%s\" % (varName, sample)\n",
    "        hists[histLabel]=r.TH1F(histLabel, histLabel, 100, bounds[varName][0], bounds[varName][1])\n",
    "        hatsChains[sample].Draw(\"%s>>%s\" % (varName, histLabel))\n",
    "        hists[histLabel].Scale(weights[sample])\n",
    "\n",
    "pprint(hists)"
   ]
  },
  {
   "cell_type": "markdown",
   "metadata": {},
   "source": [
    "Now that we've made histograms of all our variables in all our samples, we can put together stack plots of them all. We will leave that as an exercise to work on for the rest of the HATS. The histograms are organized in a dictionary that you should be able to navigate easily using their keys."
   ]
  },
  {
   "cell_type": "code",
   "execution_count": 10,
   "metadata": {
    "collapsed": false
   },
   "outputs": [
    {
     "data": {
      "image/png": "[encoded data removed]",
      "text/plain": [
       "<IPython.core.display.Image object>"
      ]
     },
     "metadata": {},
     "output_type": "display_data"
    }
   ],
   "source": [
    "canvas = r.TCanvas()\n",
    "hists[\"cosThetaStar_QCD_HT1000to1500\"].Draw()\n",
    "canvas.Draw()"
   ]
  },
  {
   "cell_type": "code",
   "execution_count": 11,
   "metadata": {
    "collapsed": false
   },
   "outputs": [
    {
     "name": "stdout",
     "output_type": "stream",
     "text": [
      "0 leadingEta_QCD_HT500to700\n",
      "1 leadingEta_QCD_HT700to1000\n",
      "2 dijetMass_QCD_HT700to1000\n",
      "3 leadingEta_data\n",
      "4 leadingEta_QCD_HT1000to1500\n",
      "5 dijetMass_QCD_HT300to500\n",
      "6 dijetEtBalance_QCD_HT2000toInf\n",
      "7 cosThetaStar_QCD_HT2000toInf\n",
      "8 dijetEtBalance_QCD_HT500to700\n",
      "9 dijetEtBalance_QCD_HT1500to2000\n",
      "10 subleadingEta_QCD_HT500to700\n",
      "11 cosThetaStar_QCD_HT1000to1500\n",
      "12 dijetMass_QCD_HT500to700\n",
      "13 dijetEtBalance_data\n",
      "14 subleadingEta_data\n",
      "15 leadingEta_QCD_HT1500to2000\n",
      "16 cosThetaStar_QCD_HT700to1000\n",
      "17 cosThetaStar_QCD_HT1500to2000\n",
      "18 subleadingEta_QCD_HT700to1000\n",
      "19 dijetMass_QCD_HT1000to1500\n",
      "20 cosThetaStar_data\n",
      "21 subleadingEta_QCD_HT1500to2000\n",
      "22 leadingEta_QCD_HT300to500\n",
      "23 dijetEtBalance_QCD_HT1000to1500\n",
      "24 leadingEta_QCD_HT2000toInf\n",
      "25 dijetMass_data\n",
      "26 subleadingEta_QCD_HT1000to1500\n",
      "27 dijetMass_QCD_HT2000toInf\n",
      "28 cosThetaStar_QCD_HT500to700\n",
      "29 subleadingEta_QCD_HT300to500\n",
      "30 dijetEtBalance_QCD_HT700to1000\n",
      "31 cosThetaStar_QCD_HT300to500\n",
      "32 dijetEtBalance_QCD_HT300to500\n",
      "33 dijetMass_QCD_HT1500to2000\n",
      "34 subleadingEta_QCD_HT2000toInf\n"
     ]
    }
   ],
   "source": [
    "for ihist, hname in enumerate(hists.iterkeys()):\n",
    "    print ihist, hname"
   ]
  },
  {
   "cell_type": "code",
   "execution_count": 12,
   "metadata": {
    "collapsed": false
   },
   "outputs": [
    {
     "name": "stdout",
     "output_type": "stream",
     "text": [
      "Doing leadingEta_QCD_HT500to700 ... \n",
      "Doing leadingEta_QCD_HT700to1000 ... \n",
      "Doing dijetMass_QCD_HT700to1000 ... \n",
      "Doing leadingEta_data ... \n",
      "Doing leadingEta_QCD_HT1000to1500 ... \n",
      "Doing dijetMass_QCD_HT300to500 ... \n",
      "Doing dijetEtBalance_QCD_HT2000toInf ... \n",
      "Doing cosThetaStar_QCD_HT2000toInf ... \n",
      "Doing dijetEtBalance_QCD_HT500to700 ... \n",
      "Doing dijetEtBalance_QCD_HT1500to2000 ... \n",
      "Doing subleadingEta_QCD_HT500to700 ... \n",
      "Doing cosThetaStar_QCD_HT1000to1500 ... \n",
      "Doing dijetMass_QCD_HT500to700 ... \n",
      "Doing dijetEtBalance_data ... \n",
      "Doing subleadingEta_data ... \n",
      "Doing leadingEta_QCD_HT1500to2000 ... \n",
      "Doing cosThetaStar_QCD_HT700to1000 ... \n",
      "Doing cosThetaStar_QCD_HT1500to2000 ... \n",
      "Doing subleadingEta_QCD_HT700to1000 ... \n",
      "Doing dijetMass_QCD_HT1000to1500 ... \n",
      "Doing cosThetaStar_data ... \n",
      "Doing subleadingEta_QCD_HT1500to2000 ... \n",
      "Doing leadingEta_QCD_HT300to500 ... \n",
      "Doing dijetEtBalance_QCD_HT1000to1500 ... \n",
      "Doing leadingEta_QCD_HT2000toInf ... \n",
      "Doing dijetMass_data ... \n",
      "Doing subleadingEta_QCD_HT1000to1500 ... \n",
      "Doing dijetMass_QCD_HT2000toInf ... \n",
      "Doing cosThetaStar_QCD_HT500to700 ... \n",
      "Doing subleadingEta_QCD_HT300to500 ... \n",
      "Doing dijetEtBalance_QCD_HT700to1000 ... \n",
      "Doing cosThetaStar_QCD_HT300to500 ... \n",
      "Doing dijetEtBalance_QCD_HT300to500 ... \n",
      "Doing dijetMass_QCD_HT1500to2000 ... \n",
      "Doing subleadingEta_QCD_HT2000toInf ... \n"
     ]
    }
   ],
   "source": [
    "#colors = [r.kBlack,r.kRed,r.kBlue,r.kGreen,r.kMagenta,r.kOrange,r.kCyan,r.kPink,r.kBlack+2,r.kRed+2,r.kBlue+2,r.kGreen+2]\n",
    "leadingEtaStack = r.THStack()\n",
    "subleadingEtaStack = r.THStack()\n",
    "dijetMassStack = r.THStack()\n",
    "cosThetaStarStack = r.THStack()\n",
    "dijetEtaBalanceStack = r.THStack()\n",
    "for ihist, hname in enumerate(hists.iterkeys()):\n",
    "    print \"Doing {} ... \".format(hname)\n",
    "    if \"data\" not in hname:\n",
    "        hists[hname].Scale(1.0/0.313716235739)\n",
    "    \n",
    "    if \"data\" in hname:\n",
    "        hists[hname].SetMarkerColor(r.kBlack)\n",
    "        hists[hname].SetLineColor(r.kBlack)\n",
    "        hists[hname].SetMarkerStyle(20)\n",
    "    elif \"leadingEta\" in hname and not \"subleadingEta\" in hname:\n",
    "        hists[hname].SetLineColor(leadingEtaStack.GetNhists()+2)\n",
    "        hists[hname].SetFillColor(leadingEtaStack.GetNhists()+2)\n",
    "        leadingEtaStack.Add(hists[hname])\n",
    "    elif \"subleadingEta\" in hname:\n",
    "        hists[hname].SetLineColor(subleadingEtaStack.GetNhists()+2)\n",
    "        hists[hname].SetFillColor(subleadingEtaStack.GetNhists()+2)\n",
    "        subleadingEtaStack.Add(hists[hname])\n",
    "    elif \"dijetMass\" in hname:\n",
    "        hists[hname].SetLineColor(dijetMassStack.GetNhists()+2)\n",
    "        hists[hname].SetFillColor(dijetMassStack.GetNhists()+2)\n",
    "        dijetMassStack.Add(hists[hname])\n",
    "    elif \"cosThetaStar\" in hname:\n",
    "        hists[hname].SetLineColor(cosThetaStarStack.GetNhists()+2)\n",
    "        hists[hname].SetFillColor(cosThetaStarStack.GetNhists()+2)\n",
    "        cosThetaStarStack.Add(hists[hname])\n",
    "    elif \"dijetEtaBalance\" in hname:\n",
    "        hists[hname].SetLineColor(dijetEtaBalanceStack.GetNhists()+2)\n",
    "        hists[hname].SetFillColor(dijetEtaBalanceStack.GetNhists()+2)\n",
    "        dijetEtaBalanceStack.Add(hists[hname])"
   ]
  },
  {
   "cell_type": "code",
   "execution_count": 22,
   "metadata": {
    "collapsed": false,
    "scrolled": false
   },
   "outputs": [
    {
     "data": {
      "image/png": "[encoded data removed]",
      "text/plain": [
       "<IPython.core.display.Image object>"
      ]
     },
     "metadata": {},
     "output_type": "display_data"
    }
   ],
   "source": [
    "#r.gROOT.SetStyle(\"Plain\")\n",
    "canvas2 = r.TCanvas()\n",
    "canvas2.SetLogy()\n",
    "leadingEtaStack.Draw()\n",
    "leadingEtaStack.GetYaxis().SetRangeUser(1.0,4e5)\n",
    "hists[\"leadingEta_data\"].Draw(\"Esame\")\n",
    "canvas2.Draw()\n",
    "leg = r.TLegend(0.7,0.7,0.9,0.9)\n",
    "for h in leadingEtaStack.GetHists():\n",
    "    leg.AddEntry(h,h.GetName().replace(\"leadingEta_\",\"\"),\"f\")\n",
    "leg.AddEntry(hists[\"leadingEta_data\"],hists[\"leadingEta_data\"].GetName().replace(\"leadingEta_\",\"\"),\"p\")\n",
    "leg.Draw(\"same\")"
   ]
  },
  {
   "cell_type": "code",
   "execution_count": 20,
   "metadata": {
    "collapsed": false
   },
   "outputs": [
    {
     "name": "stdout",
     "output_type": "stream",
     "text": [
      "59566423.0\n",
      "18686954.0\n",
      "0.313716235739\n"
     ]
    }
   ],
   "source": [
    "print leadingEtaStack.GetStack().Last().GetEntries()\n",
    "print hists[\"leadingEta_data\"].GetEntries()\n",
    "print hists[\"leadingEta_data\"].GetEntries()/leadingEtaStack.GetStack().Last().GetEntries()\n"
   ]
  },
  {
   "cell_type": "code",
   "execution_count": null,
   "metadata": {
    "collapsed": true
   },
   "outputs": [],
   "source": []
  }
 ],
 "metadata": {
  "kernelspec": {
   "display_name": "Python 2",
   "language": "python",
   "name": "python2"
  },
  "language_info": {
   "codemirror_mode": {
    "name": "ipython",
    "version": 2
   },
   "file_extension": ".py",
   "mimetype": "text/x-python",
   "name": "python",
   "nbconvert_exporter": "python",
   "pygments_lexer": "ipython2",
   "version": "2.7.11"
  }
 },
 "nbformat": 4,
 "nbformat_minor": 2
}
