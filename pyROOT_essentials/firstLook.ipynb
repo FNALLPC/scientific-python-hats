{
 "cells": [
  {
   "cell_type": "markdown",
   "metadata": {},
   "source": [
    "# A First Look At PyROOT\n",
    "\n",
    "This is an example of what you might do when you first look at some root files that you've never seen before. In this exercise, we will imagine that we're just getting started on some sort of dijet resonance analysis. Luckily, your signal, backgrounds, and data have all been ntuplized already, and the output ntuples are located on Fermilab eos at: \n",
    "\n",
    "`/store/user/hats/PyRoot/2017/qcd_samples`\n",
    "\n",
    "In Jupyter, we can execute shell commands by prepending the usual commands with `!`\n",
    "\n",
    "The following command is actually two steps:\n",
    "\n",
    "* The `xrdfs` command lists (AKA `ls`) the files stored on the USA-based xrootd redirector `cmsxrootd.fnal.gov` in the directory `/store/user/hats/PyRoot/2017/qcd_samples`\n",
    "* That command is \"piped\" (via the `|` symbol) into `sort -u`, which removes duplicate lines\n",
    "\n",
    "We have to remove duplicate lines because `xrdfs` has an annoying habit of listing the file N number of times where N is the number of physical backend servers."
   ]
  },
  {
   "cell_type": "code",
   "execution_count": 7,
   "metadata": {},
   "outputs": [
    {
     "name": "stdout",
     "output_type": "stream",
     "text": [
      "/store/user/hats/PyRoot/2017/qcd_samples/QCD_HT1000to1500_0_0\r\n",
      "/store/user/hats/PyRoot/2017/qcd_samples/QCD_HT1000to1500_0_1\r\n",
      "/store/user/hats/PyRoot/2017/qcd_samples/QCD_HT1000to1500_0_2\r\n",
      "/store/user/hats/PyRoot/2017/qcd_samples/QCD_HT1000to1500_0_3\r\n",
      "/store/user/hats/PyRoot/2017/qcd_samples/QCD_HT1500to2000_0_0\r\n",
      "/store/user/hats/PyRoot/2017/qcd_samples/QCD_HT1500to2000_0_1\r\n",
      "/store/user/hats/PyRoot/2017/qcd_samples/QCD_HT1500to2000_0_2\r\n",
      "/store/user/hats/PyRoot/2017/qcd_samples/QCD_HT1500to2000_0_3\r\n",
      "/store/user/hats/PyRoot/2017/qcd_samples/QCD_HT2000toInf_0_0\r\n",
      "/store/user/hats/PyRoot/2017/qcd_samples/QCD_HT2000toInf_0_1\r\n",
      "/store/user/hats/PyRoot/2017/qcd_samples/QCD_HT2000toInf_0_2\r\n",
      "/store/user/hats/PyRoot/2017/qcd_samples/QCD_HT2000toInf_0_3\r\n",
      "/store/user/hats/PyRoot/2017/qcd_samples/QCD_HT200to300_0_0\r\n",
      "/store/user/hats/PyRoot/2017/qcd_samples/QCD_HT200to300_0_1\r\n",
      "/store/user/hats/PyRoot/2017/qcd_samples/QCD_HT200to300_0_2\r\n",
      "/store/user/hats/PyRoot/2017/qcd_samples/QCD_HT200to300_0_3\r\n",
      "/store/user/hats/PyRoot/2017/qcd_samples/QCD_HT200to300_1_0\r\n",
      "/store/user/hats/PyRoot/2017/qcd_samples/QCD_HT200to300_1_1\r\n",
      "/store/user/hats/PyRoot/2017/qcd_samples/QCD_HT200to300_1_2\r\n",
      "/store/user/hats/PyRoot/2017/qcd_samples/QCD_HT200to300_1_3\r\n",
      "/store/user/hats/PyRoot/2017/qcd_samples/QCD_HT200to300_2_0\r\n",
      "/store/user/hats/PyRoot/2017/qcd_samples/QCD_HT200to300_2_1\r\n",
      "/store/user/hats/PyRoot/2017/qcd_samples/QCD_HT200to300_2_2\r\n",
      "/store/user/hats/PyRoot/2017/qcd_samples/QCD_HT200to300_2_3\r\n",
      "/store/user/hats/PyRoot/2017/qcd_samples/QCD_HT200to300_3_0\r\n",
      "/store/user/hats/PyRoot/2017/qcd_samples/QCD_HT200to300_3_1\r\n",
      "/store/user/hats/PyRoot/2017/qcd_samples/QCD_HT200to300_3_2\r\n",
      "/store/user/hats/PyRoot/2017/qcd_samples/QCD_HT200to300_3_3\r\n",
      "/store/user/hats/PyRoot/2017/qcd_samples/QCD_HT300to500_0_0\r\n",
      "/store/user/hats/PyRoot/2017/qcd_samples/QCD_HT300to500_0_1\r\n",
      "/store/user/hats/PyRoot/2017/qcd_samples/QCD_HT300to500_0_2\r\n",
      "/store/user/hats/PyRoot/2017/qcd_samples/QCD_HT300to500_0_3\r\n",
      "/store/user/hats/PyRoot/2017/qcd_samples/QCD_HT300to500_1_0\r\n",
      "/store/user/hats/PyRoot/2017/qcd_samples/QCD_HT300to500_1_1\r\n",
      "/store/user/hats/PyRoot/2017/qcd_samples/QCD_HT300to500_1_2\r\n",
      "/store/user/hats/PyRoot/2017/qcd_samples/QCD_HT300to500_1_3\r\n",
      "/store/user/hats/PyRoot/2017/qcd_samples/QCD_HT300to500_2_0\r\n",
      "/store/user/hats/PyRoot/2017/qcd_samples/QCD_HT300to500_2_1\r\n",
      "/store/user/hats/PyRoot/2017/qcd_samples/QCD_HT300to500_2_2\r\n",
      "/store/user/hats/PyRoot/2017/qcd_samples/QCD_HT300to500_2_3\r\n",
      "/store/user/hats/PyRoot/2017/qcd_samples/QCD_HT500to700_0_0\r\n",
      "/store/user/hats/PyRoot/2017/qcd_samples/QCD_HT500to700_0_1\r\n",
      "/store/user/hats/PyRoot/2017/qcd_samples/QCD_HT500to700_0_2\r\n",
      "/store/user/hats/PyRoot/2017/qcd_samples/QCD_HT500to700_0_3\r\n",
      "/store/user/hats/PyRoot/2017/qcd_samples/QCD_HT500to700_1_0\r\n",
      "/store/user/hats/PyRoot/2017/qcd_samples/QCD_HT500to700_1_1\r\n",
      "/store/user/hats/PyRoot/2017/qcd_samples/QCD_HT500to700_1_2\r\n",
      "/store/user/hats/PyRoot/2017/qcd_samples/QCD_HT500to700_1_3\r\n",
      "/store/user/hats/PyRoot/2017/qcd_samples/QCD_HT500to700_2_0\r\n",
      "/store/user/hats/PyRoot/2017/qcd_samples/QCD_HT500to700_2_1\r\n",
      "/store/user/hats/PyRoot/2017/qcd_samples/QCD_HT500to700_2_2\r\n",
      "/store/user/hats/PyRoot/2017/qcd_samples/QCD_HT500to700_2_3\r\n",
      "/store/user/hats/PyRoot/2017/qcd_samples/QCD_HT500to700_3_0\r\n",
      "/store/user/hats/PyRoot/2017/qcd_samples/QCD_HT500to700_3_1\r\n",
      "/store/user/hats/PyRoot/2017/qcd_samples/QCD_HT500to700_3_2\r\n",
      "/store/user/hats/PyRoot/2017/qcd_samples/QCD_HT500to700_3_3\r\n",
      "/store/user/hats/PyRoot/2017/qcd_samples/QCD_HT700to1000_0_0\r\n",
      "/store/user/hats/PyRoot/2017/qcd_samples/QCD_HT700to1000_0_1\r\n",
      "/store/user/hats/PyRoot/2017/qcd_samples/QCD_HT700to1000_0_2\r\n",
      "/store/user/hats/PyRoot/2017/qcd_samples/QCD_HT700to1000_0_3\r\n",
      "/store/user/hats/PyRoot/2017/qcd_samples/QCD_HT700to1000_1_0\r\n",
      "/store/user/hats/PyRoot/2017/qcd_samples/QCD_HT700to1000_1_1\r\n",
      "/store/user/hats/PyRoot/2017/qcd_samples/QCD_HT700to1000_1_2\r\n",
      "/store/user/hats/PyRoot/2017/qcd_samples/QCD_HT700to1000_1_3\r\n",
      "/store/user/hats/PyRoot/2017/qcd_samples/QCD_HT700to1000_2_0\r\n",
      "/store/user/hats/PyRoot/2017/qcd_samples/QCD_HT700to1000_2_1\r\n",
      "/store/user/hats/PyRoot/2017/qcd_samples/QCD_HT700to1000_2_2\r\n",
      "/store/user/hats/PyRoot/2017/qcd_samples/QCD_HT700to1000_2_3\r\n",
      "/store/user/hats/PyRoot/2017/qcd_samples/jhak.test\r\n",
      "/store/user/hats/PyRoot/2017/qcd_samples/recursiveFileList.py\r\n",
      "/store/user/hats/PyRoot/2017/qcd_samples/recursiveFileList.pyc\r\n",
      "/store/user/hats/PyRoot/2017/qcd_samples/shuffled_data\r\n",
      "/store/user/hats/PyRoot/2017/qcd_samples/shuffled_sig\r\n",
      "/store/user/hats/PyRoot/2017/qcd_samples/xrdcpRecursive.py\r\n"
     ]
    }
   ],
   "source": [
    "!xrdfs root://xrootd.accre.vanderbilt.edu/ ls /store/user/hats/PyRoot/2017/qcd_samples | sort -u"
   ]
  },
  {
   "cell_type": "markdown",
   "metadata": {},
   "source": [
    "Let's see our signal samples, which are in `shuffled_sig`:"
   ]
  },
  {
   "cell_type": "code",
   "execution_count": 8,
   "metadata": {},
   "outputs": [
    {
     "name": "stdout",
     "output_type": "stream",
     "text": [
      "/store/user/hats/PyRoot/2017/qcd_samples/shuffled_sig/sig_shuffled_0.root\r\n",
      "/store/user/hats/PyRoot/2017/qcd_samples/shuffled_sig/sig_shuffled_1.root\r\n",
      "/store/user/hats/PyRoot/2017/qcd_samples/shuffled_sig/sig_shuffled_10.root\r\n",
      "/store/user/hats/PyRoot/2017/qcd_samples/shuffled_sig/sig_shuffled_11.root\r\n",
      "/store/user/hats/PyRoot/2017/qcd_samples/shuffled_sig/sig_shuffled_12.root\r\n",
      "/store/user/hats/PyRoot/2017/qcd_samples/shuffled_sig/sig_shuffled_13.root\r\n",
      "/store/user/hats/PyRoot/2017/qcd_samples/shuffled_sig/sig_shuffled_14.root\r\n",
      "/store/user/hats/PyRoot/2017/qcd_samples/shuffled_sig/sig_shuffled_15.root\r\n",
      "/store/user/hats/PyRoot/2017/qcd_samples/shuffled_sig/sig_shuffled_16.root\r\n",
      "/store/user/hats/PyRoot/2017/qcd_samples/shuffled_sig/sig_shuffled_17.root\r\n",
      "/store/user/hats/PyRoot/2017/qcd_samples/shuffled_sig/sig_shuffled_18.root\r\n",
      "/store/user/hats/PyRoot/2017/qcd_samples/shuffled_sig/sig_shuffled_19.root\r\n",
      "/store/user/hats/PyRoot/2017/qcd_samples/shuffled_sig/sig_shuffled_2.root\r\n",
      "/store/user/hats/PyRoot/2017/qcd_samples/shuffled_sig/sig_shuffled_3.root\r\n",
      "/store/user/hats/PyRoot/2017/qcd_samples/shuffled_sig/sig_shuffled_4.root\r\n",
      "/store/user/hats/PyRoot/2017/qcd_samples/shuffled_sig/sig_shuffled_5.root\r\n",
      "/store/user/hats/PyRoot/2017/qcd_samples/shuffled_sig/sig_shuffled_6.root\r\n",
      "/store/user/hats/PyRoot/2017/qcd_samples/shuffled_sig/sig_shuffled_7.root\r\n",
      "/store/user/hats/PyRoot/2017/qcd_samples/shuffled_sig/sig_shuffled_8.root\r\n",
      "/store/user/hats/PyRoot/2017/qcd_samples/shuffled_sig/sig_shuffled_9.root\r\n"
     ]
    }
   ],
   "source": [
    "!xrdfs root://xrootd.accre.vanderbilt.edu/ ls /store/user/hats/PyRoot/2017/qcd_samples/shuffled_sig | sort | uniq"
   ]
  },
  {
   "cell_type": "markdown",
   "metadata": {},
   "source": [
    "As you can tell, these commands take some time to return, \n",
    "\n",
    "Let's use pyROOT to take a look at the basic structure of the file and the branches therein.\n",
    "\n",
    "> Note:\n",
    ">   One could do all of this in an interactive python session, using \n",
    ">\n",
    ">   `python -i`\n",
    ">\n",
    ">  Interactive pyROOT is very useful for quickly looking at ROOT files and other tasks, such as formatting ROOT graphics. If you are interested in this, please ask the instructor for a demonstration of where this can come in handy (e.g. reformatting plots in interactive pyROOT while a TCanvas is open)."
   ]
  },
  {
   "cell_type": "markdown",
   "metadata": {},
   "source": [
    "Commonly, pyROOT scripts start out with\n",
    "\n",
    "`from ROOT import *`\n",
    "\n",
    "but this is not allowed in JupyROOT. However, we can still save some typing by referring to ROOT with a shorter name:"
   ]
  },
  {
   "cell_type": "code",
   "execution_count": 9,
   "metadata": {},
   "outputs": [],
   "source": [
    "from ROOT import *"
   ]
  },
  {
   "cell_type": "code",
   "execution_count": 10,
   "metadata": {},
   "outputs": [],
   "source": [
    "import ROOT as r"
   ]
  },
  {
   "cell_type": "markdown",
   "metadata": {},
   "source": [
    "Once we've loaded ROOT, we can load our files remotely, without having to transfer them to our local machine first.\n",
    "\n",
    "If you get an `Auth Failed` error, make sure that you have a valid grid proxy with `voms-proxy-init -voms cms -valid 192:0`\n",
    "\n",
    "(note, we're hardcoding a specific host with this file here -- this is due to a bug in the current xrootd server version, which should be fixed soon)"
   ]
  },
  {
   "cell_type": "code",
   "execution_count": 14,
   "metadata": {},
   "outputs": [
    {
     "name": "stderr",
     "output_type": "stream",
     "text": [
      "Error in <TNetXNGFile::Open>: [FATAL] Auth failed\n"
     ]
    }
   ],
   "source": [
    "# Note the double-slash (\"//\") between the hostname and store. This is required.\n",
    "firstLookFile = r.TFile.Open(\"root://xrootd.accre.vanderbilt.edu//store/user/hats/PyRoot/2017/qcd_samples/shuffled_sig/sig_shuffled_0.root\")\n"
   ]
  },
  {
   "cell_type": "code",
   "execution_count": 12,
   "metadata": {},
   "outputs": [
    {
     "ename": "ReferenceError",
     "evalue": "attempt to access a null-pointer",
     "output_type": "error",
     "traceback": [
      "\u001b[0;31m\u001b[0m",
      "\u001b[0;31mReferenceError\u001b[0mTraceback (most recent call last)",
      "\u001b[0;32m<ipython-input-12-d46947d3cbb3>\u001b[0m in \u001b[0;36m<module>\u001b[0;34m()\u001b[0m\n\u001b[0;32m----> 1\u001b[0;31m \u001b[0mfirstLookFile\u001b[0m\u001b[0;34m.\u001b[0m\u001b[0mls\u001b[0m\u001b[0;34m(\u001b[0m\u001b[0;34m)\u001b[0m\u001b[0;34m\u001b[0m\u001b[0m\n\u001b[0m",
      "\u001b[0;31mReferenceError\u001b[0m: attempt to access a null-pointer"
     ]
    }
   ],
   "source": [
    "firstLookFile.ls()"
   ]
  },
  {
   "cell_type": "code",
   "execution_count": null,
   "metadata": {},
   "outputs": [],
   "source": [
    "firstLookTree = firstLookFile.Get(\"tree\")"
   ]
  },
  {
   "cell_type": "markdown",
   "metadata": {},
   "source": [
    "Already, we're benefitting from pyROOT's syntax. Note that a similar step in an interactive ROOT session would require a bit more effort:\n",
    "\n",
    "`TTree* firstLookTree = (TTree*) firstLookFile->Get(\"tree\")`"
   ]
  },
  {
   "cell_type": "markdown",
   "metadata": {},
   "source": [
    "Let's use a quick python loop to list all the branches in our tree."
   ]
  },
  {
   "cell_type": "code",
   "execution_count": null,
   "metadata": {},
   "outputs": [],
   "source": [
    "for branch in firstLookTree.GetListOfBranches():\n",
    "    print branch.GetName()"
   ]
  },
  {
   "cell_type": "markdown",
   "metadata": {},
   "source": [
    "Our analysis is going to look for dijet resonances using AK4 jets. So to get a feel for the data, let's look at what the AK4 jet pT spectrum looks like."
   ]
  },
  {
   "cell_type": "code",
   "execution_count": null,
   "metadata": {},
   "outputs": [],
   "source": [
    "can = r.TCanvas()      \n",
    "firstLookTree.Draw(\"jetAK4_pt\")\n",
    "can.Draw()"
   ]
  },
  {
   "cell_type": "markdown",
   "metadata": {},
   "source": [
    "> Note that in interactive pyROOT, one can simply call `firstLookTree.Draw(\"jetAK4_pt\")` without bothering to explicitly instantiate a TCanvas and call TCanvas.Draw() on it\n",
    "\n",
    "Let's do some quick changes to the plot. `r.gStyle` gives us access to common style changes for ROOT graphics."
   ]
  },
  {
   "cell_type": "code",
   "execution_count": null,
   "metadata": {},
   "outputs": [],
   "source": [
    "r.gStyle.SetOptStat(0)\n",
    "can.SetLogy()\n",
    "can.Draw()"
   ]
  },
  {
   "cell_type": "markdown",
   "metadata": {},
   "source": [
    "Let's quickly demonstrate python's introspection features. ROOT automatically builds a lot of things into a TCanvas that might not be obvious when you simply call `TTree.Draw('branchName')`, so let's see what's in our canvas and what methods we could call on it. And let's make the output more readable while we're at it. "
   ]
  },
  {
   "cell_type": "code",
   "execution_count": null,
   "metadata": {},
   "outputs": [],
   "source": [
    "import inspect\n",
    "from pprint import pprint\n",
    "for primitive in can.GetListOfPrimitives():\n",
    "    print primitive, pprint(inspect.getmembers(primitive, predicate=inspect.ismethod))"
   ]
  },
  {
   "cell_type": "markdown",
   "metadata": {
    "collapsed": true
   },
   "source": [
    "Now that we know what's in our trees and gotten a quick look to sanity-check the data, we'll get started trying to tackle the many gigs of data that are at hand. pyROOT is not the right tool for crunching this much data, so let's move on to preparing a C++ class to do the number crunching."
   ]
  },
  {
   "cell_type": "code",
   "execution_count": null,
   "metadata": {},
   "outputs": [],
   "source": [
    "firstLookTree.MakeClass(\"hatsTrees\")"
   ]
  },
  {
   "cell_type": "markdown",
   "metadata": {},
   "source": [
    "Let's see what this made for us:"
   ]
  },
  {
   "cell_type": "code",
   "execution_count": null,
   "metadata": {},
   "outputs": [],
   "source": [
    "!ls -lrth"
   ]
  },
  {
   "cell_type": "markdown",
   "metadata": {},
   "source": [
    "Our aim is to use this C++ class to do the CPU-intensive work of our analysis, but to keep it as a \"plugin\" inside our pyroot framework."
   ]
  },
  {
   "cell_type": "markdown",
   "metadata": {
    "collapsed": true
   },
   "source": [
    ">Please move on to the notebook `prepareCppClass.ipynb`"
   ]
  }
 ],
 "metadata": {
  "kernelspec": {
   "display_name": "hats-sci-py",
   "language": "python",
   "name": "hats-sci-py"
  }
 },
 "nbformat": 4,
 "nbformat_minor": 2
}
