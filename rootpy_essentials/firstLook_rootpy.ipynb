{
 "cells": [
  {
   "cell_type": "markdown",
   "metadata": {},
   "source": [
    "# First look at `rootpy`\n",
    "\n",
    "(**note** a lot of this tutorial draws comparisons with the pyROOT tutorial in this same repository, This notebook follows very closely the same steps done in the pyROOT firstLook notebook)\n",
    "\n",
    "The [rootpy](http://www.rootpy.org/) homepage describes itself as:\n",
    "\n",
    "```\n",
    "The rootpy project is a community-driven initiative aiming to provide a more pythonic interface with ROOT on top of the existing PyROOT bindings. Given Python’s reflective and dynamic nature, rootpy also aims to improve ROOT design flaws and supplement existing ROOT functionality. \n",
    "```\n",
    "\n",
    "The first thing we'll do is load a file via XRootD. The pyROOT code to load a file is\n",
    "```python\n",
    "import ROOT as r\n",
    "firstLookFile = r.TFile.Open(\"root://cmseos.fnal.gov//store/user/hats/PyRoot/2017/qcd_samples/shuffled_sig/sig_shuffled_0.root\")\n",
    "```\n",
    "\n",
    "In this snippet, `ROOT`, `TFile` and `TFile.Open` are direct mappings to the underlying ROOT libraries. In `pyROOT`, you have to explicitly burrow down through the `ROOT` object system.\n",
    "\n",
    "By comparison, the `rootpy` library makes user code more pythonic. It provides a lot of easy interfaces to simplify regular operations. The `pyROOT` code from before can be implemented as the following with `pyroot`:"
   ]
  },
  {
   "cell_type": "code",
   "execution_count": null,
   "metadata": {},
   "outputs": [],
   "source": [
    "from rootpy.io import root_open\n",
    "firstLookFile = root_open('root://cmseos.fnal.gov//store/user/hats/PyRoot/2017/qcd_samples/shuffled_sig/sig_shuffled_0.root')\n",
    "firstLookFile.ls()"
   ]
  },
  {
   "cell_type": "markdown",
   "metadata": {},
   "source": [
    "In `pyROOT`, you have to explicitly call `ROOT->TFile->Open`, just to load a file. On the other hand, `rootpy` can divine out that receiving a cardboard box requires a similarly sized back at the same time"
   ]
  },
  {
   "cell_type": "markdown",
   "metadata": {},
   "source": [
    "# Why `rootpy`?\n",
    "Rootpy extends the ROOT classes providing new functionalities, this means that the old ROOT methods are still available, but new ones are provided to make your life easier. For example you can acess the rootfile content with the attribute getter (the dot).\n",
    "\n",
    "If you recall, retrieving a `TTree` from a `TFile`, then printing the branch names with `pyROOT` required the following snippet:\n",
    "```python\n",
    "firstLookTree = firstLookFile.Get(\"tree\")\n",
    "for branch in firstLookTree.GetListOfBranches():\n",
    "    print branch.GetName()\n",
    "```\n",
    "\n",
    "Let's look at the equivalent code in `rootpy`:"
   ]
  },
  {
   "cell_type": "code",
   "execution_count": null,
   "metadata": {},
   "outputs": [],
   "source": [
    "hatsTree = firstLookFile.tree\n",
    "for branch in hatsTree.branches:\n",
    "  print branch.GetName()"
   ]
  },
  {
   "cell_type": "markdown",
   "metadata": {},
   "source": [
    "`Rootpy` helps simplify your code by adding additional members and functionality to the \"bare\" `pyROOT` objects. In this example, we can see that the \"`.`\" operator is overridden for `TFile` and `TTree` objects to handle getting children and the list of branches.\n",
    "\n",
    "You have to be careful -- `rootpy` does not wrap every single ROOT class. Some omissions are design choices, and others are just too hard. Also, using a bare ROOT method, will return a ROOT object and not a `rootpy` one, hence you might want to wrap the the method call with ```asrootpy()``` to convert it to a `rootpy` object (we will see an example later)\n",
    "\n",
    "Unlike ROOT or `pyROOT`, in `rootpy` there is no need to define the name and the title of the objects, unless you want to write them out to files."
   ]
  },
  {
   "cell_type": "code",
   "execution_count": null,
   "metadata": {},
   "outputs": [],
   "source": [
    "from rootpy.plotting import Canvas\n",
    "# No need for useless names and titles, but you can give them if you need!\n",
    "canvas = Canvas(800, 800)"
   ]
  },
  {
   "cell_type": "markdown",
   "metadata": {},
   "source": [
    "The Draw command of the `TTree` is overridden to allow a more pythonic interface (we will see it later). To check how it works, simply type:"
   ]
  },
  {
   "cell_type": "code",
   "execution_count": null,
   "metadata": {},
   "outputs": [],
   "source": [
    "help(hatsTree.Draw)"
   ]
  },
  {
   "cell_type": "markdown",
   "metadata": {},
   "source": [
    "One nice feature is that `Draw()` returns the histogram created, so we can play with it later on. "
   ]
  },
  {
   "cell_type": "code",
   "execution_count": null,
   "metadata": {},
   "outputs": [],
   "source": [
    "histo = hatsTree.Draw('jetAK4_pt')\n",
    "# Required to show the plot inline in Jupyter\n",
    "canvas.Draw()"
   ]
  },
  {
   "cell_type": "markdown",
   "metadata": {},
   "source": [
    "Let's update this plot to be a bit prettier. First, we need to change a global ROOT option"
   ]
  },
  {
   "cell_type": "code",
   "execution_count": null,
   "metadata": {},
   "outputs": [],
   "source": [
    "import ROOT\n",
    "ROOT.gStyle.SetOptStat(0)"
   ]
  },
  {
   "cell_type": "markdown",
   "metadata": {},
   "source": [
    "Styling histograms in ROOT can be a significant pain and waste of time. `Rootpy` tries to simplify the whole process by providing simple access to all the drawing parameters. Additionally, it extends the definition to matplotlib-compatible markers, lines and colors. **Web colors (hexadecimal format) are also available!**"
   ]
  },
  {
   "cell_type": "code",
   "execution_count": null,
   "metadata": {},
   "outputs": [],
   "source": [
    "histo.markersize = 1\n",
    "histo.markerstyle = 20\n",
    "histo.markercolor = '#336666' #supports matplotlib, hex and ROOT colors!\n",
    "histo.xaxis.title = 'p_{T} [GeV]'\n",
    "histo.yaxis.title = 'Entries'\n",
    "histo.title = 'Some nice title'\n",
    "histo.Draw()\n",
    "canvas.Draw()"
   ]
  },
  {
   "cell_type": "markdown",
   "metadata": {},
   "source": [
    "Histograms are iterable in `rootpy`. This means you can loop over the bins like you would loop over a list\n",
    "```python\n",
    "for hbin in histogram:\n",
    "  #do things\n",
    "  pass\n",
    "```\n",
    "\n",
    "Each bins contains information about the position (accesses through .x, .y, .z), value, error, and if it's an overflow. The content can be accessessed and written, making bin-by-bin calculations way easier."
   ]
  },
  {
   "cell_type": "code",
   "execution_count": null,
   "metadata": {},
   "outputs": [],
   "source": [
    "maxbin = max(histo, key = lambda x: x.value) #the histogram is iterable\n",
    "print 'Maximum bin information:'\n",
    "print '  # entries:     ', maxbin.value\n",
    "print '  uncertainty:   ', maxbin.error\n",
    "print '  x value:       ', maxbin.x.center\n",
    "print '  x bin low edge:', maxbin.x.low"
   ]
  },
  {
   "cell_type": "code",
   "execution_count": null,
   "metadata": {},
   "outputs": [],
   "source": []
  }
 ],
 "metadata": {
  "kernelspec": {
   "display_name": "hats-sci-py",
   "language": "python",
   "name": "hats-sci-py"
  },
  "language_info": {
   "codemirror_mode": {
    "name": "ipython",
    "version": 2
   },
   "file_extension": ".py",
   "mimetype": "text/x-python",
   "name": "python",
   "nbconvert_exporter": "python",
   "pygments_lexer": "ipython2",
   "version": "2.7.15+"
  }
 },
 "nbformat": 4,
 "nbformat_minor": 2
}
