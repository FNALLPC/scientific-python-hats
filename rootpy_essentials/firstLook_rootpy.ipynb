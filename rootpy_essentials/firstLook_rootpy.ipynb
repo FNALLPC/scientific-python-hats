{
 "cells": [
  {
   "cell_type": "markdown",
   "metadata": {},
   "source": [
    "# First look at `rootpy`\n",
    "\n",
    "(**note** a lot of this tutorial draws comparisons with the pyROOT tutorial in this same repository, This notebook follows very closely the same steps done in the pyROOT firstLook notebook)\n",
    "\n",
    "The [rootpy](http://www.rootpy.org/) homepage describes itself as:\n",
    "\n",
    "```\n",
    "The rootpy project is a community-driven initiative aiming to provide a more pythonic interface with ROOT on top of the existing PyROOT bindings. Given Python’s reflective and dynamic nature, rootpy also aims to improve ROOT design flaws and supplement existing ROOT functionality. \n",
    "```\n",
    "\n",
    "The first thing we'll do is load a file via XRootD. The pyROOT code to load a file is\n",
    "```python\n",
    "import ROOT as r\n",
    "firstLookFile = r.TFile.Open(\"root://cmseos.fnal.gov//store/user/hats/PyRoot/2017/qcd_samples/shuffled_sig/sig_shuffled_0.root\")\n",
    "```\n",
    "\n",
    "In this snippet, `ROOT`, `TFile` and `TFile.Open` are direct mappings to the underlying ROOT libraries. In `pyROOT`, you have to explicitly burrow down through the `ROOT` object system.\n",
    "\n",
    "By comparison, the `rootpy` library makes user code more pythonic. It provides a lot of easy interfaces to simplify regular operations. The `pyROOT` code from before can be implemented as the following with `pyroot`:"
   ]
  },
  {
   "cell_type": "code",
   "execution_count": 16,
   "metadata": {},
   "outputs": [
    {
     "name": "stdout",
     "output_type": "stream",
     "text": [
      "TNetXNGFile**\t\troot://cmseos.fnal.gov//store/user/hats/PyRoot/2017/qcd_samples/shuffled_sig/sig_shuffled_0.root\t\n",
      " TNetXNGFile*\t\troot://cmseos.fnal.gov//store/user/hats/PyRoot/2017/qcd_samples/shuffled_sig/sig_shuffled_0.root\t\n",
      "  KEY: TTree\ttree;1\ttree\n"
     ]
    }
   ],
   "source": [
    "from rootpy.io import root_open\n",
    "firstLookFile = root_open('root://cmseos.fnal.gov//store/user/hats/PyRoot/2017/qcd_samples/shuffled_sig/sig_shuffled_0.root')\n",
    "firstLookFile.ls()"
   ]
  },
  {
   "cell_type": "markdown",
   "metadata": {},
   "source": [
    "In `pyROOT`, you have to explicitly call `ROOT->TFile->Open`, just to load a file. On the other hand, `rootpy` can divine out that receiving a cardboard box requires a similarly sized back at the same time"
   ]
  },
  {
   "cell_type": "markdown",
   "metadata": {},
   "source": [
    "# Why `rootpy`?\n",
    "Rootpy extends the ROOT classes providing new functionalities, this means that the old ROOT methods are still available, but new ones are provided to make your life easier. For example you can acess the rootfile content with the attribute getter (the dot).\n",
    "\n",
    "If you recall, retrieving a `TTree` from a `TFile`, then printing the branch names with `pyROOT` required the following snippet:\n",
    "```python\n",
    "firstLookTree = firstLookFile.Get(\"tree\")\n",
    "for branch in firstLookTree.GetListOfBranches():\n",
    "    print branch.GetName()\n",
    "```\n",
    "\n",
    "Let's look at the equivalent code in `rootpy`:"
   ]
  },
  {
   "cell_type": "code",
   "execution_count": 17,
   "metadata": {},
   "outputs": [
    {
     "name": "stdout",
     "output_type": "stream",
     "text": [
      "ph_N\n",
      "ph_pdgId\n",
      "ph_charge\n",
      "ph_e\n",
      "ph_eta\n",
      "ph_phi\n",
      "ph_mass\n",
      "ph_pt\n",
      "ph_et\n",
      "ph_rho\n",
      "ph_superCluster_eta\n",
      "ph_superCluster_phi\n",
      "ph_sigmaIetaIeta\n",
      "ph_hOverE\n",
      "ph_isoGamma\n",
      "ph_isoCh\n",
      "ph_passEleVeto\n",
      "ph_passLooseId\n",
      "ph_passMediumId\n",
      "ph_passTightId\n",
      "ph_mvaVal\n",
      "ph_mvaCat\n",
      "rho\n",
      "jetAK4_N\n",
      "jetAK4_pt\n",
      "jetAK4_eta\n",
      "jetAK4_mass\n",
      "jetAK4_phi\n",
      "jetAK4_e\n",
      "jetAK4_jec\n",
      "jetAK4_jecUp\n",
      "jetAK4_jecDown\n",
      "jetAK4_IDLoose\n",
      "jetAK4_IDTight\n",
      "jetAK4_IDTightLepVeto\n",
      "jetAK4_charge\n",
      "jetAK4_csv\n",
      "jetAK4_vtxMass\n",
      "jetAK4_vtxNtracks\n",
      "jetAK4_vtx3DVal\n",
      "jetAK4_vtx3DSig\n",
      "jetAK4_partonFlavour\n",
      "jetAK4_hadronFlavour\n",
      "jetAK4_genParton_pdgID\n",
      "jetAK4_nbHadrons\n",
      "jetAK4_ncHadrons\n",
      "jetAK4_jer_sf\n",
      "jetAK4_jer_sf_up\n",
      "jetAK4_jer_sf_down\n",
      "jetAK4_jer_sigma_pt\n",
      "jetAK8_N\n",
      "jetAK8_pt\n",
      "jetAK8_eta\n",
      "jetAK8_mass\n",
      "jetAK8_phi\n",
      "jetAK8_e\n",
      "jetAK8_jec\n",
      "jetAK8_jecUp\n",
      "jetAK8_jecDown\n",
      "jetAK8_IDLoose\n",
      "jetAK8_IDTight\n",
      "jetAK8_IDTightLepVeto\n",
      "jetAK8_charge\n",
      "jetAK8_partonFlavour\n",
      "jetAK8_hadronFlavour\n",
      "jetAK8_genParton_pdgID\n",
      "jetAK8_nbHadrons\n",
      "jetAK8_ncHadrons\n",
      "jetAK8_jer_sf\n",
      "jetAK8_jer_sf_up\n",
      "jetAK8_jer_sf_down\n",
      "jetAK8_jer_sigma_pt\n",
      "jetAK8Puppi_jer_sf\n",
      "jetAK8Puppi_jer_sf_up\n",
      "jetAK8Puppi_jer_sf_down\n",
      "jetAK8Puppi_jer_sigma_pt\n",
      "jetAK8_Hbbtag\n",
      "jetAK8_csv\n",
      "jetAK8_tau1\n",
      "jetAK8_tau2\n",
      "jetAK8_tau3\n",
      "jetAK8_pruned_mass\n",
      "jetAK8_pruned_massCorr\n",
      "jetAK8_pruned_jec\n",
      "jetAK8_pruned_jecUp\n",
      "jetAK8_pruned_jecDown\n",
      "jetAK8_softdrop_mass\n",
      "jetAK8_softdrop_massCorr\n",
      "jetAK8_softdrop_jec\n",
      "jetAK8_softdrop_jecUp\n",
      "jetAK8_softdrop_jecDown\n",
      "jetAK8_subjet_softdrop_N\n",
      "jetAK8_subjet_softdrop_pt\n",
      "jetAK8_subjet_softdrop_eta\n",
      "jetAK8_subjet_softdrop_mass\n",
      "jetAK8_subjet_softdrop_phi\n",
      "jetAK8_subjet_softdrop_e\n",
      "jetAK8_subjet_softdrop_charge\n",
      "jetAK8_subjet_softdrop_genParton_pdgID\n",
      "jetAK8_subjet_softdrop_nbHadrons\n",
      "jetAK8_subjet_softdrop_ncHadrons\n",
      "jetAK8_subjet_softdrop_partonFlavour\n",
      "jetAK8_subjet_softdrop_hadronFlavour\n",
      "jetAK8_subjet_softdrop_csv\n",
      "jetAK8_puppi_pt\n",
      "jetAK8_puppi_eta\n",
      "jetAK8_puppi_mass\n",
      "jetAK8_puppi_phi\n",
      "jetAK8_puppi_e\n",
      "jetAK8_puppi_pruned_mass\n",
      "jetAK8_puppi_pruned_massCorr\n",
      "jetAK8_puppi_pruned_jec\n",
      "jetAK8_puppi_softdrop_mass\n",
      "jetAK8_puppi_softdrop_massCorr\n",
      "jetAK8_puppi_softdrop_jec\n",
      "jetAK8_puppi_tau1\n",
      "jetAK8_puppi_tau2\n",
      "jetAK8_puppi_tau3\n",
      "jetAK8_subjet_puppi_softdrop_N\n",
      "jetAK8_subjet_puppi_softdrop_pt\n",
      "jetAK8_subjet_puppi_softdrop_eta\n",
      "jetAK8_subjet_puppi_softdrop_mass\n",
      "jetAK8_subjet_puppi_softdrop_phi\n",
      "jetAK8_subjet_puppi_softdrop_e\n",
      "jetAK8_subjet_puppi_softdrop_charge\n",
      "jetAK8_subjet_puppi_softdrop_genParton_pdgID\n",
      "jetAK8_subjet_puppi_softdrop_nbHadrons\n",
      "jetAK8_subjet_puppi_softdrop_ncHadrons\n",
      "jetAK8_subjet_puppi_softdrop_partonFlavour\n",
      "jetAK8_subjet_puppi_softdrop_hadronFlavour\n",
      "jetAK8_subjet_puppi_softdrop_csv\n",
      "jetAK8_subjet_pruned_N\n",
      "jetAK8_subjet_pruned_pt\n",
      "jetAK8_subjet_pruned_eta\n",
      "jetAK8_subjet_pruned_mass\n",
      "jetAK8_subjet_pruned_phi\n",
      "jetAK8_subjet_pruned_e\n",
      "jetAK8_subjet_pruned_charge\n",
      "jetAK8_subjet_pruned_genParton_pdgID\n",
      "jetAK8_subjet_pruned_nbHadrons\n",
      "jetAK8_subjet_pruned_ncHadrons\n",
      "jetAK8_subjet_pruned_partonFlavour\n",
      "jetAK8_subjet_pruned_hadronFlavour\n",
      "jetAK8_subjet_pruned_csv\n",
      "HLT_isFired\n",
      "passFilter_HBHE\n",
      "passFilter_HBHELoose\n",
      "passFilter_HBHETight\n",
      "passFilter_HBHEIso\n",
      "passFilter_CSCHalo\n",
      "passFilter_CSCTightHalo2015\n",
      "passFilter_HCALlaser\n",
      "passFilter_ECALDeadCell\n",
      "passFilter_GoodVtx\n",
      "passFilter_TrkFailure\n",
      "passFilter_EEBadSc\n",
      "passFilter_ECALlaser\n",
      "passFilter_TrkPOG\n",
      "passFilter_TrkPOG_manystrip\n",
      "passFilter_TrkPOG_toomanystrip\n",
      "passFilter_TrkPOG_logError\n",
      "passFilter_METFilters\n",
      "passFilter_CSCTightHaloTrkMuUnvetoFilter\n",
      "passFilter_globalTightHalo2016\n",
      "passFilter_HcalStripHalo\n",
      "passFilter_chargedHadronTrackResolution\n",
      "passFilter_muonBadTrack\n",
      "EVENT_event\n",
      "EVENT_run\n",
      "EVENT_lumiBlock\n",
      "PV_N\n",
      "PV_filter\n",
      "PV_chi2\n",
      "PV_ndof\n",
      "PV_rho\n",
      "PV_z\n"
     ]
    }
   ],
   "source": [
    "hatsTree = firstLookFile.tree\n",
    "for branch in hatsTree.branches:\n",
    "  print branch.GetName()"
   ]
  },
  {
   "cell_type": "markdown",
   "metadata": {},
   "source": [
    "`Rootpy` helps simplify your code by adding additional members and functionality to the \"bare\" `pyROOT` objects. In this example, we can see that the \"`.`\" operator is overridden for `TFile` and `TTree` objects to handle getting children and the list of branches.\n",
    "\n",
    "You have to be careful -- `rootpy` does not wrap every single ROOT class. Some omissions are design choices, and others are just too hard. Also, using a bare ROOT method, will return a ROOT object and not a `rootpy` one, hence you might want to wrap the the method call with ```asrootpy()``` to convert it to a `rootpy` object (we will see an example later)\n",
    "\n",
    "Unlike ROOT or `pyROOT`, in `rootpy` there is no need to define the name and the title of the objects, unless you want to write them out to files."
   ]
  },
  {
   "cell_type": "code",
   "execution_count": 18,
   "metadata": {},
   "outputs": [],
   "source": [
    "from rootpy.plotting import Canvas\n",
    "# No need for useless names and titles, but you can give them if you need!\n",
    "canvas = Canvas(800, 800)"
   ]
  },
  {
   "cell_type": "markdown",
   "metadata": {},
   "source": [
    "The Draw command of the `TTree` is overridden to allow a more pythonic interface (we will see it later). To check how it works, simply type:"
   ]
  },
  {
   "cell_type": "code",
   "execution_count": 29,
   "metadata": {},
   "outputs": [
    {
     "name": "stdout",
     "output_type": "stream",
     "text": [
      "Help on method Draw in module rootpy.tree.tree:\n",
      "\n",
      "Draw(self, expression, selection='', options='', hist=None, create_hist=False, **kwargs) method of rootpy.tree.tree.Tree instance\n",
      "    Draw a TTree with a selection as usual, but return the created\n",
      "    histogram.\n",
      "    \n",
      "    Parameters\n",
      "    ----------\n",
      "    expression : str\n",
      "        The expression to draw. Multidimensional expressions are separated\n",
      "        by \":\". rootpy reverses the expressions along each dimension so the\n",
      "        order matches the order of the elements identifying a location in\n",
      "        the resulting histogram. By default ROOT takes the expression \"Y:X\"\n",
      "        to mean Y versus X but we argue that this is counterintuitive and\n",
      "        that the order should be \"X:Y\" so that the expression along the\n",
      "        first dimension identifies the location along the first axis, etc.\n",
      "    \n",
      "    selection : str or rootpy.tree.Cut, optional (default=\"\")\n",
      "        The cut expression. Only entries satisfying this selection are\n",
      "        included in the filled histogram.\n",
      "    \n",
      "    options : str, optional (default=\"\")\n",
      "        Draw options passed to ROOT.TTree.Draw\n",
      "    \n",
      "    hist : ROOT.TH1, optional (default=None)\n",
      "        The histogram to be filled. If not specified, rootpy will attempt\n",
      "        to find what ROOT created and return that.\n",
      "    \n",
      "    create_hist : bool (default=False)\n",
      "        If True and `hist`` is not specified and a histogram name is not\n",
      "        specified in the draw expression, then override ROOT's\n",
      "        default behaviour and fill a new histogram. ROOT will otherwise add\n",
      "        points to a TGraph or TPolyMarker3D if not drawing in more than\n",
      "        two dimensions.\n",
      "    \n",
      "    kwargs : dict, optional\n",
      "        Remaining keword arguments are used to set the style attributes of\n",
      "        the histogram.\n",
      "    \n",
      "    Returns\n",
      "    -------\n",
      "    If ``hist`` is specified, None is returned. If ``hist`` is left\n",
      "    unspecified, an attempt is made to retrieve the generated histogram\n",
      "    which is then returned.\n",
      "\n"
     ]
    }
   ],
   "source": [
    "help(hatsTree.Draw)"
   ]
  },
  {
   "cell_type": "markdown",
   "metadata": {},
   "source": [
    "One nice feature is that `Draw()` returns the histogram created, so we can play with it later on. "
   ]
  },
  {
   "cell_type": "code",
   "execution_count": 30,
   "metadata": {},
   "outputs": [
    {
     "data": {
      "image/png": "[encoded data removed]",
      "text/plain": [
       "<IPython.core.display.Image object>"
      ]
     },
     "metadata": {},
     "output_type": "display_data"
    }
   ],
   "source": [
    "histo = hatsTree.Draw('jetAK4_pt')\n",
    "# Required to show the plot inline in Jupyter\n",
    "canvas.Draw()"
   ]
  },
  {
   "cell_type": "markdown",
   "metadata": {},
   "source": [
    "Let's update this plot to be a bit prettier. First, we need to change a global ROOT option"
   ]
  },
  {
   "cell_type": "code",
   "execution_count": 21,
   "metadata": {},
   "outputs": [],
   "source": [
    "import ROOT\n",
    "ROOT.gStyle.SetOptStat(0)"
   ]
  },
  {
   "cell_type": "markdown",
   "metadata": {},
   "source": [
    "Styling histograms in ROOT can be a significant pain and waste of time. `Rootpy` tries to simplify the whole process by providing simple access to all the drawing parameters. Additionally, it extends the definition to matplotlib-compatible markers, lines and colors. **Web colors (hexadecimal format) are also available!**"
   ]
  },
  {
   "cell_type": "code",
   "execution_count": 22,
   "metadata": {},
   "outputs": [
    {
     "data": {
      "image/png": "[encoded data removed]",
      "text/plain": [
       "<IPython.core.display.Image object>"
      ]
     },
     "metadata": {},
     "output_type": "display_data"
    }
   ],
   "source": [
    "histo.markersize = 1\n",
    "histo.markerstyle = 20\n",
    "histo.markercolor = '#336666' #supports matplotlib, hex and ROOT colors!\n",
    "histo.xaxis.title = 'p_{T} [GeV]'\n",
    "histo.yaxis.title = 'Entries'\n",
    "histo.title = 'Some nice title'\n",
    "histo.Draw()\n",
    "canvas.Draw()"
   ]
  },
  {
   "cell_type": "markdown",
   "metadata": {},
   "source": [
    "Histograms are iterable in `rootpy`. This means you can loop over the bins like you would loop over a list\n",
    "```python\n",
    "for hbin in histogram:\n",
    "  #do things\n",
    "  pass\n",
    "```\n",
    "\n",
    "Each bins contains information about the position (accesses through .x, .y, .z), value, error, and if it's an overflow. The content can be accessessed and written, making bin-by-bin calculations way easier."
   ]
  },
  {
   "cell_type": "code",
   "execution_count": 23,
   "metadata": {},
   "outputs": [
    {
     "name": "stdout",
     "output_type": "stream",
     "text": [
      "Maximum bin information:\n",
      "  # entries:      11456.0\n",
      "  uncertainty:    107.032705282\n",
      "  x value:        22.75\n",
      "  x bin low edge: 19.5\n"
     ]
    }
   ],
   "source": [
    "maxbin = max(histo, key = lambda x: x.value) #the histogram is iterable\n",
    "print 'Maximum bin information:'\n",
    "print '  # entries:     ', maxbin.value\n",
    "print '  uncertainty:   ', maxbin.error\n",
    "print '  x value:       ', maxbin.x.center\n",
    "print '  x bin low edge:', maxbin.x.low"
   ]
  },
  {
   "cell_type": "code",
   "execution_count": null,
   "metadata": {},
   "outputs": [],
   "source": []
  }
 ],
 "metadata": {
  "kernelspec": {
   "display_name": "hats-sci-py",
   "language": "python",
   "name": "hats-sci-py"
  },
  "language_info": {
   "codemirror_mode": {
    "name": "ipython",
    "version": 2
   },
   "file_extension": ".py",
   "mimetype": "text/x-python",
   "name": "python",
   "nbconvert_exporter": "python",
   "pygments_lexer": "ipython2",
   "version": "2.7.14+"
  }
 },
 "nbformat": 4,
 "nbformat_minor": 2
}
