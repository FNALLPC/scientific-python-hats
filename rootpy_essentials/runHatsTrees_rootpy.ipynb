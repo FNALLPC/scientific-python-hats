{
 "cells": [
  {
   "cell_type": "markdown",
   "metadata": {},
   "source": [
    "# Processing `TTrees` with `rootpy`\n",
    "(**note** a lot of this tutorial draws comparisons with the `pyROOT` tutorial in this same repository, This notebook follows very closely the same steps done in the `pyROOT` firstLook notebook)\n",
    "\n",
    "This notebooks mimicks the behavior of ```sample_code/runHatsTrees.py``` from the `pyROOT` tutorial to showcase few more nice features of rootpy, but the major downside of a somewhat slower performance with respect to a pure C++ implementation. Nonetheless this approach is very usefule when a limited amount of data is involved\n",
    "\n",
    "We will use ROOT's `TStopwatch` to evaluate the performance of the code"
   ]
  },
  {
   "cell_type": "code",
   "execution_count": null,
   "metadata": {},
   "outputs": [],
   "source": [
    "from rootpy.io import root_open\n",
    "from rootpy.tree import Tree\n",
    "from rootpy.vector import LorentzVector\n",
    "from ROOT import TStopwatch, TLorentzVector"
   ]
  },
  {
   "cell_type": "markdown",
   "metadata": {},
   "source": [
    "We want to load one of our signal `TFiles`, grab a `TTree` out of it, then tell ROOT which branches we're interested in. "
   ]
  },
  {
   "cell_type": "code",
   "execution_count": null,
   "metadata": {},
   "outputs": [],
   "source": [
    "tfile = root_open('root://cmseos.fnal.gov//store/user/hats/PyRoot/2017/qcd_samples/shuffled_sig/sig_shuffled_0.root')\n",
    "tree = tfile.tree\n",
    "tree.SetBranchStatus(\"*\",0)\n",
    "for name in [\"jetAK4_pt\", 'jetAK4_eta', \"jetAK4_mass\", \"jetAK4_phi\",\n",
    "             \"jetAK4_e\", \"jetAK4_jec\", \"jetAK4_IDLoose\"]:\n",
    "    tree.SetBranchStatus(name, 1)"
   ]
  },
  {
   "cell_type": "markdown",
   "metadata": {},
   "source": [
    "`Rootpy` redefines the way `TTrees` are defined filled, allowing an easier and more pythonic syntax. Let's open an output file and create a new `TTree` with some output branches. In our c++ implementation, this code was\n",
    "\n",
    "```c++\n",
    "\n",
    "   TFile* hatsDijetsFile  = new TFile(outFileName.c_str(), \"RECREATE\");\n",
    "   TTree* hatsDijetsTree  = new TTree(\"hatsDijets\", \"hatsDijets\");\n",
    "   TLorentzVector leadingJet      =  TLorentzVector();\n",
    "   TLorentzVector subleadingJet   =  TLorentzVector();\n",
    "   TLorentzVector boostedLeading  =  TLorentzVector();\n",
    "   TLorentzVector dijet           =  TLorentzVector();\n",
    "   float leadingEta      =  -100;\n",
    "   float subleadingEta   =  -100;\n",
    "   float cosThetaStar    =  -100;\n",
    "   float dijetEtBalance  =  -100;\n",
    "   float dijetMass       =  -100;\n",
    "   hatsDijetsTree->Branch(\"leadingEta\", &leadingEta);\n",
    "   hatsDijetsTree->Branch(\"subleadingEta\", &subleadingEta);\n",
    "   hatsDijetsTree->Branch(\"cosThetaStar\", &cosThetaStar);\n",
    "   hatsDijetsTree->Branch(\"dijetEtBalance\", &dijetEtBalance);\n",
    "   hatsDijetsTree->Branch(\"dijetMass\", &dijetMass);\n",
    "```\n",
    "\n",
    "The `rootpy` version of the same code is the following, far simpler code:"
   ]
  },
  {
   "cell_type": "code",
   "execution_count": null,
   "metadata": {},
   "outputs": [],
   "source": [
    "hatsDijetsFile = root_open('output.root', \"RECREATE\") # also 'w', like with normal files works\n",
    "hatsDijetsTree = Tree(\"hatsDijets\") #the title is assigned automatically \n",
    "hatsDijetsTree.create_branches({\n",
    "    'leadingEta' : 'F',\n",
    "    'subleadingEta' : 'F',\n",
    "    'cosThetaStar' : 'F',\n",
    "    'dijetEtBalance' : 'F',\n",
    "    'dijetMass' : 'F',\n",
    "})"
   ]
  },
  {
   "cell_type": "markdown",
   "metadata": {},
   "source": [
    "Once we've opened our output file, we can loop over the input files, filling the output trees as we go"
   ]
  },
  {
   "cell_type": "code",
   "execution_count": null,
   "metadata": {},
   "outputs": [],
   "source": [
    "clock = TStopwatch()\n",
    "clock.Start()\n",
    "leadingJet    = LorentzVector()\n",
    "subleadingJet = LorentzVector()\n",
    "evaluated = 0\n",
    "for entry in tree:\n",
    "    evaluated += 1\n",
    "    leadingJet.SetPtEtaPhiE(\n",
    "        entry.jetAK4_pt[0], \n",
    "        entry.jetAK4_eta[0], \n",
    "        entry.jetAK4_phi[0], \n",
    "        entry.jetAK4_e[0]\n",
    "    )\n",
    "    subleadingJet.SetPtEtaPhiE(\n",
    "        entry.jetAK4_pt[1], \n",
    "        entry.jetAK4_eta[1], \n",
    "        entry.jetAK4_phi[1], \n",
    "        entry.jetAK4_e[1]\n",
    "    )\n",
    "      \n",
    "    hatsDijetsTree.leadingEta = leadingJet.Eta()\n",
    "    hatsDijetsTree.subleadingEta = subleadingJet.Eta()\n",
    "    dijet = leadingJet + subleadingJet\n",
    "    hatsDijetsTree.dijetMass = dijet.M()\n",
    "    hatsDijetsTree.dijetEtBalance = subleadingJet.Et() / leadingJet.Et()\n",
    "    boostedLeading = leadingJet\n",
    "    boostedLeading.Boost(-(dijet.BoostVector()))\n",
    "    hatsDijetsTree.cosThetaStar = boostedLeading.Pz()/boostedLeading.P()\n",
    "    hatsDijetsTree.fill()\n",
    "hatsDijetsFile.cd()\n",
    "hatsDijetsTree.write()\n",
    "hatsDijetsFile.close()\n",
    "clock.Stop()"
   ]
  },
  {
   "cell_type": "markdown",
   "metadata": {},
   "source": [
    "Now, let's use the `TStopwatch` see how our code performed"
   ]
  },
  {
   "cell_type": "code",
   "execution_count": null,
   "metadata": {},
   "outputs": [],
   "source": [
    "print 'Tree loop profiling stats:'\n",
    "print '# entries examined:', evaluated\n",
    "print 'Real Time used:', clock.RealTime(), '(per event: %.5f)' % (clock.RealTime()/evaluated)\n",
    "print 'CPU Time used:', clock.CpuTime(), '(per event: %.5f)' % (clock.CpuTime()/evaluated)"
   ]
  },
  {
   "cell_type": "markdown",
   "metadata": {},
   "source": [
    "You can see that we defined the lorentz vectors outside the for loop, this is done because LorentzVector creation is an intensive process in ROOT, `rootpy` makes it way faster! \n",
    "Try to re-run the two previous code blocks with the following changes:\n",
    "   * move the LorentzVectors inside the for loop\n",
    "   * replace rootpy's LorentzVectors with ROOT's `TLorentzVector` (inside and outside the for loop)\n",
    "\n",
    "And see how the performance varies as the code is changed.\n",
    "\n",
    "Next, we'll experiment more with histograms in [backgroundHists_rootpy](backgroundHists_rootpy.ipynb)"
   ]
  },
  {
   "cell_type": "code",
   "execution_count": null,
   "metadata": {},
   "outputs": [],
   "source": []
  }
 ],
 "metadata": {
  "kernelspec": {
   "display_name": "hats-sci-py",
   "language": "python",
   "name": "hats-sci-py"
  },
  "language_info": {
   "codemirror_mode": {
    "name": "ipython",
    "version": 2
   },
   "file_extension": ".py",
   "mimetype": "text/x-python",
   "name": "python",
   "nbconvert_exporter": "python",
   "pygments_lexer": "ipython2",
   "version": "2.7.15+"
  }
 },
 "nbformat": 4,
 "nbformat_minor": 2
}
