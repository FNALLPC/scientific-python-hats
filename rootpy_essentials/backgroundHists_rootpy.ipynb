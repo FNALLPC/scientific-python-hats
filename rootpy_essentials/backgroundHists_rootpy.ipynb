{
 "cells": [
  {
   "cell_type": "markdown",
   "metadata": {},
   "source": [
    "# Analysis of a full dataset with `rootpy`\n",
    "(**note** a lot of this tutorial draws comparisons with the `pyROOT` tutorial in this same repository)\n",
    "\n",
    "This notebook follows closely the procedure of ```backgroundHists```, but stores the histograms in a different way to showcase the rootpy views system\n",
    "\n",
    "Let's begin by loading some libraries and setting some global ROOT options."
   ]
  },
  {
   "cell_type": "code",
   "execution_count": null,
   "metadata": {},
   "outputs": [],
   "source": [
    "from rootpy.io import root_open\n",
    "from rootpy.tree import TreeChain\n",
    "from rootpy.plotting import Hist, HistStack, Canvas, views, Legend\n",
    "import ROOT\n",
    "from glob import glob\n",
    "from os import popen\n",
    "ROOT.gStyle.SetOptStat(0)\n",
    "ROOT.TH1.AddDirectory(False)"
   ]
  },
  {
   "cell_type": "markdown",
   "metadata": {},
   "source": [
    "Now, let's create the histogram templates to have consistent binnings across the samples. `Rootpy` makes it very easy to create simple histograms as well as variable-binning ones"
   ]
  },
  {
   "cell_type": "code",
   "execution_count": null,
   "metadata": {},
   "outputs": [],
   "source": [
    "templates = {\n",
    "    # Simple histogram\n",
    "    'dijetMass' : Hist(100, 0, 100),\n",
    "    # Variable-binned histogram\n",
    "    'cosThetaStar' : Hist([0, 0.2, 0.5, 0.8, 0.9, 1.])\n",
    "}"
   ]
  },
  {
   "cell_type": "markdown",
   "metadata": {},
   "source": [
    "Compute the weights to be used for each sample, for a more detailed description have a look at the [backgroundHists notebook](../pyROOT_essentials/backgroundHists.ipynb)"
   ]
  },
  {
   "cell_type": "code",
   "execution_count": null,
   "metadata": {},
   "outputs": [],
   "source": [
    "from ConfigParser import RawConfigParser\n",
    "config = RawConfigParser()   \n",
    "config.optionxform = str\n",
    "config.read(\"hatsConfig.ini\")\n",
    "crossSections = dict([sample, float(xsec)] for sample, xsec in config.items('hatsXsects'))\n",
    "nProcessed    = dict([sample, int(nPro)] for sample, nPro in config.items('hatsNprocessed'))\n",
    "weights = {}\n",
    "luminosity = 1.42    # This is just an example value\n",
    "for sample in crossSections.keys():\n",
    "    weights[sample] = luminosity * crossSections[sample]/nProcessed[sample]"
   ]
  },
  {
   "cell_type": "markdown",
   "metadata": {},
   "source": [
    "Now we can open our trees and produce the histograms we need.\n",
    "\n",
    "Another bit of `rootpy` niceness is the ability to use python's `with` statement to open/write/close files. With `pyROOT`, you would have to perform something similar to the following once you're done modifying a ROOT file\n",
    "\n",
    "```python\n",
    "myFile.cd()\n",
    "myTree.write()\n",
    "myFile.close()\n",
    "```\n",
    "\n",
    "with the caveat that any exception might bypass those statements, leaving a corrupted ROOT file. `Rootpy`, on the other hand lets you handle the same with\n",
    "\n",
    "```python\n",
    "with root_open('testfile.root', 'w') as outfile\n",
    "    # do some work\n",
    "```\n",
    "\n",
    "And python will guarantee that `testfile.root` will be properly written when the program exits.\n",
    "\n",
    "Let's process all of our trees to produce a set of histograms and write to a file named `histograms.root`.\n",
    "\n",
    "**NOTE** - to speed the process up for the interactive tutorial, we only iterate once. To produce all the histograms, remove the `break` statements."
   ]
  },
  {
   "cell_type": "code",
   "execution_count": null,
   "metadata": {
    "scrolled": false
   },
   "outputs": [],
   "source": [
    "with root_open('histograms.root', 'w') as outfile:\n",
    "    for sample in weights:\n",
    "        print 'creating histograms for', sample\n",
    "        sample_dir = outfile.mkdir(sample)\n",
    "        sample_dir.cd()\n",
    "        #get all the root files in the direcotry\n",
    "        chain = TreeChain(\n",
    "            'hatsDijets',\n",
    "            filter(None,popen(\"xrdfs root://red-gridftp3.unl.edu/ ls -u /store/user/hats/PyRoot/2017/hatsDijetTrees/hatsTrees_%s/\" % sample).read().split('\\n'))\n",
    "        )\n",
    "        for varname, template in templates.iteritems():\n",
    "            out_hist = chain.Draw(varname, hist=template.Clone())\n",
    "            sample_dir.WriteTObject(out_hist, varname)"
   ]
  },
  {
   "cell_type": "markdown",
   "metadata": {},
   "source": [
    "Many times, we have a ROOT file with a set of histograms that we want to treat consistently (same names, titles, scaling, etc...). `Rootpy`'s views help dealing with it. A view is the extension of a `TDirectory`/`TFile` containing histograms on which we want to apply some pre-processing, each view define the type of preprocessing (`StyleView`, `TitleView`, `SubdirectoryView`, `SumView`, etc...). Views can chained to obtain the desired effect. You can obtain the histogram from any view by calling the `Get()` method, like on a `TFile`.\n",
    "\n",
    "**NOTE** - `histograms-full.root` isn't the file you produced in the previous cell. This was produced beforehand over all the inputs."
   ]
  },
  {
   "cell_type": "code",
   "execution_count": null,
   "metadata": {},
   "outputs": [],
   "source": [
    "histo_file = root_open('histograms-full.root')\n",
    "QCD_HT500to700 = views.StyleView(\n",
    "    views.TitleView(\n",
    "        views.ScaleView(\n",
    "            histo_file.QCD_HT500to700, #input directory\n",
    "            weights['QCD_HT500to700']\n",
    "        ),\n",
    "        'QCD_HT500to700' #the title\n",
    "    ),\n",
    "    fillstyle = 'solid',\n",
    "    drawstyle = 'hist', #how do we want to draw it, by default\n",
    "    fillcolor = '#0067a9',\n",
    "    inlegend = True, #in case of a stack histo, do we want it in the Legend?\n",
    "    legendstyle = 'f', #how do we want the legend marker? (f,l,p)\n",
    "    linecolor = 'black',\n",
    "    linewidth = 1\n",
    "    #markerstyle ...\n",
    "    #markercolor ...\n",
    ")"
   ]
  },
  {
   "cell_type": "markdown",
   "metadata": {},
   "source": [
    "Now, each histogram will have the same style, without having to create and modify each histogram manually."
   ]
  },
  {
   "cell_type": "code",
   "execution_count": null,
   "metadata": {},
   "outputs": [],
   "source": [
    "canvas = Canvas(400, 400)\n",
    "htemp = QCD_HT500to700.Get('dijetMass')\n",
    "htemp.Draw()\n",
    "canvas.Draw()"
   ]
  },
  {
   "cell_type": "code",
   "execution_count": null,
   "metadata": {},
   "outputs": [],
   "source": [
    "htemp = QCD_HT500to700.Get('cosThetaStar')\n",
    "htemp.Draw()\n",
    "canvas.Draw()"
   ]
  },
  {
   "cell_type": "markdown",
   "metadata": {},
   "source": [
    "Now, complete the exercise making a set of stack plots, either using rootpy's [HistStack](http://www.rootpy.org/reference/generated/rootpy.plotting.HistStack.html) or [StackView](http://www.rootpy.org/reference/generated/rootpy.plotting.views.StackView.html) functionality. You'll want to combine all the MC histograms with the appropriate weights into a single set of histograms. If there's time, figure out how to overlay the data on the MC."
   ]
  },
  {
   "cell_type": "code",
   "execution_count": null,
   "metadata": {},
   "outputs": [],
   "source": []
  }
 ],
 "metadata": {
  "kernelspec": {
   "display_name": "hats-sci-py",
   "language": "python",
   "name": "hats-sci-py"
  },
  "language_info": {
   "codemirror_mode": {
    "name": "ipython",
    "version": 2
   },
   "file_extension": ".py",
   "mimetype": "text/x-python",
   "name": "python",
   "nbconvert_exporter": "python",
   "pygments_lexer": "ipython2",
   "version": "2.7.14+"
  }
 },
 "nbformat": 4,
 "nbformat_minor": 2
}
