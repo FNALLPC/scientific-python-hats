{
 "cells": [
  {
   "cell_type": "markdown",
   "metadata": {
    "slideshow": {
     "slide_type": "slide"
    }
   },
   "source": [
    "# histbook\n",
    "\n",
    "Numpy-native histogramming"
   ]
  },
  {
   "cell_type": "markdown",
   "metadata": {
    "slideshow": {
     "slide_type": "slide"
    }
   },
   "source": [
    "Numpy, Pandas, Spark, and just about every statistical toolbox has a \"histogram\" command, but HEP physicists would find them underwhelming:\n",
    "\n",
    "   * they usually go directly from data in memory to a plot: no interface for accumulating data from disk, accessing bin contents programmatically, or even setting bin ranges by hand\n",
    "   * some don't have weights, particularly negative weights; and I've never seen profile plots"
   ]
  },
  {
   "cell_type": "markdown",
   "metadata": {
    "slideshow": {
     "slide_type": "fragment"
    }
   },
   "source": [
    "Could use ROOT, but `TH1` doesn't have a `Fill` method for whole arrays. (Surely that's doable...)"
   ]
  },
  {
   "cell_type": "markdown",
   "metadata": {
    "slideshow": {
     "slide_type": "fragment"
    }
   },
   "source": [
    "Besides, I've been wanting to improve histogram interfaces for a while.   `:)`"
   ]
  },
  {
   "cell_type": "markdown",
   "metadata": {
    "slideshow": {
     "slide_type": "slide"
    }
   },
   "source": [
    "histbook's interface is familiar (to HEP), except that we fill a whole array instead of one value:"
   ]
  },
  {
   "cell_type": "code",
   "execution_count": null,
   "metadata": {},
   "outputs": [],
   "source": [
    "import numpy\n",
    "from histbook import *\n",
    "h = Hist(bin(\"x\", 10, -5, 5))"
   ]
  },
  {
   "cell_type": "code",
   "execution_count": null,
   "metadata": {},
   "outputs": [],
   "source": [
    "h.fill(x=numpy.random.normal(-1.5, 1, 1000000))        # fill with some data"
   ]
  },
  {
   "cell_type": "code",
   "execution_count": null,
   "metadata": {
    "slideshow": {
     "slide_type": "fragment"
    }
   },
   "outputs": [],
   "source": [
    "h.fill(x=numpy.random.normal(1.5, 1, 1000000))         # fill with more data"
   ]
  },
  {
   "cell_type": "markdown",
   "metadata": {
    "slideshow": {
     "slide_type": "fragment"
    }
   },
   "source": [
    "Plotting in or out of Jupyter; tables of numbers."
   ]
  },
  {
   "cell_type": "code",
   "execution_count": null,
   "metadata": {
    "slideshow": {
     "slide_type": "-"
    }
   },
   "outputs": [],
   "source": [
    "from vega import VegaLite as canvas                    # for inline plots in Jupyter\n",
    "# import vegascope; canvas = vegascope.LocalCanvas()   # if you don't want to use Jupyter (traditional TCanvas in browser)"
   ]
  },
  {
   "cell_type": "code",
   "execution_count": null,
   "metadata": {
    "slideshow": {
     "slide_type": "-"
    }
   },
   "outputs": [],
   "source": [
    "h.step().to(canvas)\n",
    "# h.pandas()"
   ]
  },
  {
   "cell_type": "markdown",
   "metadata": {
    "slideshow": {
     "slide_type": "slide"
    }
   },
   "source": [
    "<p style=\"margin-bottom: -20px; padding-bottom: 0px\">Plays well with the scientific Python ecosystem:</p>\n",
    "\n",
    "   * Numpy for large data input\n",
    "   * Plots in or out of Jupyter (both through [Vega-Lite](https://vega.github.io/vega-lite/)), as well as ROOT histograms through PyROOT\n",
    "   * Pandas for tabular access"
   ]
  },
  {
   "cell_type": "markdown",
   "metadata": {
    "slideshow": {
     "slide_type": "fragment"
    }
   },
   "source": [
    "<p style=\"margin-bottom: -20px; padding-bottom: 0px\">Fits HEP expectations:</p>\n",
    "\n",
    "   * re-fillable, \"hadd\"-able\n",
    "   * weights with sumw2, HEP-style error handling\n",
    "   * profile plots"
   ]
  },
  {
   "cell_type": "markdown",
   "metadata": {
    "slideshow": {
     "slide_type": "fragment"
    }
   },
   "source": [
    "<p style=\"margin-bottom: -20px; padding-bottom: 0px\">But also some improvements:</p>\n",
    "\n",
    "   * all histograms are n-dimensional\n",
    "   * plotting is a matter of slicing and projecting onto graphical facets (x, y, color, trellis)\n",
    "   * quantities to plot are reordered to fill in an optimal way, minimizing passes over data"
   ]
  },
  {
   "cell_type": "markdown",
   "metadata": {
    "slideshow": {
     "slide_type": "slide"
    }
   },
   "source": [
    "N-dimensional histograms:"
   ]
  },
  {
   "cell_type": "code",
   "execution_count": null,
   "metadata": {},
   "outputs": [],
   "source": [
    "h = Hist(bin(\"Jet_pt\", 100, 0, 100), bin(\"Jet_eta\", 100, -5, 5), bin(\"Jet_phi\", 100, -numpy.pi, numpy.pi))"
   ]
  },
  {
   "cell_type": "code",
   "execution_count": null,
   "metadata": {},
   "outputs": [],
   "source": [
    "import uproot\n",
    "tree = uproot.open(\"~/NanoAOD-DYJetsToLL.root\")[\"Events\"]\n",
    "h.fill(**tree.arrays([\"Jet_pt\", \"Jet_eta\", \"Jet_phi\"]))"
   ]
  },
  {
   "cell_type": "code",
   "execution_count": null,
   "metadata": {
    "slideshow": {
     "slide_type": "fragment"
    }
   },
   "outputs": [],
   "source": [
    "h.step(\"Jet_eta\").to(canvas)"
   ]
  },
  {
   "cell_type": "code",
   "execution_count": null,
   "metadata": {
    "slideshow": {
     "slide_type": "fragment"
    }
   },
   "outputs": [],
   "source": [
    "h.overlay(\"Jet_pt\").step(\"Jet_eta\").to(canvas)"
   ]
  },
  {
   "cell_type": "code",
   "execution_count": null,
   "metadata": {
    "slideshow": {
     "slide_type": "slide"
    }
   },
   "outputs": [],
   "source": [
    "h.select(\"15 <= Jet_pt < 20 and -0.1 <= Jet_eta < 0.1 and Jet_phi < -pi*0.94\").pandas()"
   ]
  },
  {
   "cell_type": "markdown",
   "metadata": {
    "slideshow": {
     "slide_type": "slide"
    }
   },
   "source": [
    "These axis labels are not strings; they're algebraic expressions."
   ]
  },
  {
   "cell_type": "code",
   "execution_count": null,
   "metadata": {},
   "outputs": [],
   "source": [
    "h = Hist(bin(\"a**2\", 100, 0, 100), bin(\"a**3\", 100, 0, 100), bin(\"a*b\", 100, 0, 100))\n",
    "h.fill(a=numpy.random.normal(0, 1, 1000000), b=numpy.random.normal(0, 1, 1000000))"
   ]
  },
  {
   "cell_type": "code",
   "execution_count": null,
   "metadata": {
    "slideshow": {
     "slide_type": "fragment"
    }
   },
   "outputs": [],
   "source": [
    "h.fields\n",
    "# h.axis\n",
    "# h._showgoals()    # internal debugging method"
   ]
  },
  {
   "cell_type": "markdown",
   "metadata": {
    "slideshow": {
     "slide_type": "slide"
    }
   },
   "source": [
    "An n-dimensional distribution can be binned in a variety of ways in the same histogram:\n",
    "\n",
    "   * **bin(expr, numbins, low, high)** regularly bin **low** to **high** in **numbins** bins\n",
    "   * **intbin(expr, min, max)** integers from **min** to **max** (inclusive)\n",
    "   * **split(expr, edges)** irregular binning at each **edge**\n",
    "   * **cut(expr)** boolean expression (2 bins) for post-fill selection or tables/plots of efficiency\n",
    "   * **groupby(expr)** categorical data (strings)\n",
    "   * **groupbin(expr, binwidth, origin=0)** sparse binning\n",
    "\n",
    "And as many dependent variables as you want can be added as profile axes:\n",
    "\n",
    "   * **profile(expr)** collect mean and error-in-mean of **expr** at each bin"
   ]
  },
  {
   "cell_type": "markdown",
   "metadata": {
    "slideshow": {
     "slide_type": "slide"
    }
   },
   "source": [
    "If a set of histograms are collected into a `Book`, they are all filled with a single `.fill` call that avoids repeated reading and/or repeated calculations."
   ]
  },
  {
   "cell_type": "code",
   "execution_count": null,
   "metadata": {
    "slideshow": {
     "slide_type": "-"
    }
   },
   "outputs": [],
   "source": [
    "h = Book()\n",
    "h[\"vs pt\"] = Hist(bin(\"Jet_pt\", 100, 0, 100), profile(\"Jet_chHEF\"), profile(\"Jet_chEmEF\"), profile(\"Jet_neHEF\"))\n",
    "h[\"vs eta\"] = Hist(bin(\"Jet_eta\", 100, -5, 5), profile(\"Jet_chHEF\"), profile(\"Jet_chEmEF\"), profile(\"Jet_neHEF\"))\n",
    "h[\"vs phi\"] = Hist(bin(\"Jet_phi\", 100, -numpy.pi, numpy.pi), profile(\"Jet_chHEF\"), profile(\"Jet_chEmEF\"), profile(\"Jet_neHEF\"))\n",
    "\n",
    "h.fill(**tree.arrays([\"Jet_pt\", \"Jet_eta\", \"Jet_phi\", \"Jet_area\", \"Jet_qgl\", \"Jet_chHEF\", \"Jet_chEmEF\", \"Jet_neHEF\"]))"
   ]
  },
  {
   "cell_type": "code",
   "execution_count": null,
   "metadata": {
    "slideshow": {
     "slide_type": "fragment"
    }
   },
   "outputs": [],
   "source": [
    "h[\"vs eta\"].marker(profile=\"Jet_neHEF\").to(canvas)\n",
    "# h._showgoals()"
   ]
  },
  {
   "cell_type": "markdown",
   "metadata": {
    "slideshow": {
     "slide_type": "fragment"
    }
   },
   "source": [
    "→ Write analysis scripts that look like many `TTree::Draw` commands, yet only pass over the data once."
   ]
  },
  {
   "cell_type": "markdown",
   "metadata": {
    "slideshow": {
     "slide_type": "slide"
    }
   },
   "source": [
    "Separately created and filled histograms can be added (hadd) or grouped (new categorical axis)."
   ]
  },
  {
   "cell_type": "code",
   "execution_count": null,
   "metadata": {},
   "outputs": [],
   "source": [
    "muonpt = Hist(bin(\"pt\", 100, 0, 100), fill=tree.array(\"Muon_pt\"), weight=10)\n",
    "jetpt = Hist(bin(\"pt\", 100, 0, 100), fill=tree.array(\"Jet_pt\"), weight=1)"
   ]
  },
  {
   "cell_type": "code",
   "execution_count": null,
   "metadata": {},
   "outputs": [],
   "source": [
    "h = Hist.group(muon=muonpt, jet=jetpt)"
   ]
  },
  {
   "cell_type": "code",
   "execution_count": null,
   "metadata": {
    "slideshow": {
     "slide_type": "fragment"
    }
   },
   "outputs": [],
   "source": [
    "h.pandas()\n",
    "# h.beside(\"source\").step(\"pt\").to(canvas)"
   ]
  },
  {
   "cell_type": "markdown",
   "metadata": {
    "slideshow": {
     "slide_type": "slide"
    }
   },
   "source": [
    "Of course you can make ROOT histograms, too!"
   ]
  },
  {
   "cell_type": "code",
   "execution_count": null,
   "metadata": {},
   "outputs": [],
   "source": [
    "import ROOT\n",
    "tcanvas = ROOT.TCanvas()\n",
    "\n",
    "cache = {}                                  # cache gives histograms a place to live\n",
    "h.project(\"pt\").root(cache=cache).Draw()    # to create and draw them in one line\n",
    "tcanvas.Draw()"
   ]
  }
 ],
 "metadata": {
  "celltoolbar": "Slideshow",
  "kernelspec": {
   "display_name": "hats-sci-py",
   "language": "python",
   "name": "hats-sci-py"
  },
  "language_info": {
   "codemirror_mode": {
    "name": "ipython",
    "version": 2
   },
   "file_extension": ".py",
   "mimetype": "text/x-python",
   "name": "python",
   "nbconvert_exporter": "python",
   "pygments_lexer": "ipython2",
   "version": "2.7.14+"
  }
 },
 "nbformat": 4,
 "nbformat_minor": 2
}
