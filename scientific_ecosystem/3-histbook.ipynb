{
 "cells": [
  {
   "cell_type": "markdown",
   "metadata": {
    "slideshow": {
     "slide_type": "slide"
    }
   },
   "source": [
    "# histbook\n",
    "\n",
    "Numpy-native histogramming"
   ]
  },
  {
   "cell_type": "markdown",
   "metadata": {
    "slideshow": {
     "slide_type": "slide"
    }
   },
   "source": [
    "Numpy, Pandas, and just about every statistical toolbox has a \"histogram\" command, but HEP physicists would find them underwhelming:\n",
    "\n",
    "   * they usually go directly from data in memory to a plot: no interface for accumulating data from disk, accessing bin contents programmatically, or even setting bin ranges by hand\n",
    "   * they sometimes don't have weights, negative weights; and I've never seen profile plots"
   ]
  },
  {
   "cell_type": "markdown",
   "metadata": {
    "slideshow": {
     "slide_type": "fragment"
    }
   },
   "source": [
    "Could use ROOT, but then we'd have to send data *back* over the divide."
   ]
  },
  {
   "cell_type": "markdown",
   "metadata": {
    "slideshow": {
     "slide_type": "fragment"
    }
   },
   "source": [
    "Besides, histogram interfaces can be improved."
   ]
  },
  {
   "cell_type": "markdown",
   "metadata": {
    "slideshow": {
     "slide_type": "slide"
    }
   },
   "source": [
    "Familiar (to HEP) interface, except that we fill a whole array instead of one value:"
   ]
  },
  {
   "cell_type": "code",
   "execution_count": null,
   "metadata": {},
   "outputs": [],
   "source": [
    "import numpy\n",
    "from histbook import *\n",
    "h = Hist(bin(\"x\", 10, -5, 5))"
   ]
  },
  {
   "cell_type": "code",
   "execution_count": null,
   "metadata": {},
   "outputs": [],
   "source": [
    "h.fill(x=numpy.random.normal(-1.5, 1, 1000000))        # fill with some data"
   ]
  },
  {
   "cell_type": "code",
   "execution_count": null,
   "metadata": {
    "slideshow": {
     "slide_type": "fragment"
    }
   },
   "outputs": [],
   "source": [
    "h.fill(x=numpy.random.normal(1.5, 1, 1000000))         # fill with more data"
   ]
  },
  {
   "cell_type": "code",
   "execution_count": null,
   "metadata": {
    "slideshow": {
     "slide_type": "fragment"
    }
   },
   "outputs": [],
   "source": [
    "from vega import VegaLite as canvas                    # for inline plots in Jupyter\n",
    "# import vegascope; canvas = vegascope.LocalCanvas()   # if you don't want to use Jupyter (traditional TCanvas in browser)"
   ]
  },
  {
   "cell_type": "code",
   "execution_count": null,
   "metadata": {
    "slideshow": {
     "slide_type": "-"
    }
   },
   "outputs": [],
   "source": [
    "h.step().to(canvas)"
   ]
  },
  {
   "cell_type": "code",
   "execution_count": null,
   "metadata": {
    "slideshow": {
     "slide_type": "fragment"
    }
   },
   "outputs": [],
   "source": [
    "h.pandas()"
   ]
  },
  {
   "cell_type": "markdown",
   "metadata": {
    "slideshow": {
     "slide_type": "slide"
    }
   },
   "source": [
    "Plays well with the scientific Python ecosystem:\n",
    "   * Numpy for large data input\n",
    "   * [Vega-Lite](https://vega.github.io/vega-lite/) for default plotting (PyROOT is an option)\n",
    "   * Pandas for tabular access"
   ]
  },
  {
   "cell_type": "markdown",
   "metadata": {
    "slideshow": {
     "slide_type": "fragment"
    }
   },
   "source": [
    "Plays well with HEP expectations:\n",
    "   * re-fillable, \"hadd\"-able, profile plots\n",
    "   * weights with sumw2, HEP-style error handling"
   ]
  },
  {
   "cell_type": "markdown",
   "metadata": {
    "slideshow": {
     "slide_type": "fragment"
    }
   },
   "source": [
    "But also:\n",
    "   * all histograms are n-dimensional\n",
    "   * plotting is a matter of slicing and projecting onto graphical facets (x, y, color, trellis)\n",
    "   * quantities to plot are reordered to fill in an optimal way, minimizing passes over data"
   ]
  },
  {
   "cell_type": "markdown",
   "metadata": {
    "slideshow": {
     "slide_type": "slide"
    }
   },
   "source": [
    "N-dimensional histograms:"
   ]
  },
  {
   "cell_type": "code",
   "execution_count": null,
   "metadata": {},
   "outputs": [],
   "source": [
    "h = Hist(bin(\"Jet_pt\", 100, 0, 100), bin(\"Jet_eta\", 100, -5, 5), bin(\"Jet_phi\", 100, -numpy.pi, numpy.pi))"
   ]
  },
  {
   "cell_type": "code",
   "execution_count": null,
   "metadata": {},
   "outputs": [],
   "source": [
    "import uproot\n",
    "tree = uproot.open(\"~/storage/data/NanoAOD-DYJetsToLL.root\")[\"Events\"]\n",
    "h.fill(**tree.arrays([\"Jet_pt\", \"Jet_eta\", \"Jet_phi\"]))"
   ]
  },
  {
   "cell_type": "code",
   "execution_count": null,
   "metadata": {
    "slideshow": {
     "slide_type": "fragment"
    }
   },
   "outputs": [],
   "source": [
    "h.step(\"Jet_eta\").to(canvas)"
   ]
  },
  {
   "cell_type": "code",
   "execution_count": null,
   "metadata": {
    "slideshow": {
     "slide_type": "fragment"
    }
   },
   "outputs": [],
   "source": [
    "h.overlay(\"Jet_eta\").step(\"Jet_pt\").to(canvas)"
   ]
  },
  {
   "cell_type": "code",
   "execution_count": null,
   "metadata": {
    "slideshow": {
     "slide_type": "slide"
    }
   },
   "outputs": [],
   "source": [
    "h.select(\"15 <= Jet_pt < 20 and -0.1 <= Jet_eta < 0.1 and Jet_phi < -pi*0.94\").pandas()"
   ]
  },
  {
   "cell_type": "markdown",
   "metadata": {
    "slideshow": {
     "slide_type": "slide"
    }
   },
   "source": [
    "These axis labels are not strings; they're algebraic expressions."
   ]
  },
  {
   "cell_type": "code",
   "execution_count": null,
   "metadata": {},
   "outputs": [],
   "source": [
    "h = Hist(bin(\"x**2\", 100, 0, 100), bin(\"x**3\", 100, 0, 100), bin(\"x*y\", 100, 0, 100))\n",
    "h.fill(x=numpy.random.normal(0, 1, 1000000), y=numpy.random.normal(0, 1, 1000000))"
   ]
  },
  {
   "cell_type": "code",
   "execution_count": null,
   "metadata": {
    "slideshow": {
     "slide_type": "fragment"
    }
   },
   "outputs": [],
   "source": [
    "h.fields"
   ]
  },
  {
   "cell_type": "code",
   "execution_count": null,
   "metadata": {
    "slideshow": {
     "slide_type": "fragment"
    }
   },
   "outputs": [],
   "source": [
    "h.axis"
   ]
  },
  {
   "cell_type": "markdown",
   "metadata": {
    "slideshow": {
     "slide_type": "slide"
    }
   },
   "source": [
    "An n-dimensional distribution can be binned in a variety of ways in the same histogram:\n",
    "\n",
    "   * **bin(expr, numbins, low, high)** regularly bin **low** to **high** in **numbins** bins\n",
    "   * **intbin(expr, min, max)** integers from **min** to **max** (inclusive)\n",
    "   * **split(expr, edges)** irregular binning at each **edge**\n",
    "   * **cut(expr)** boolean expression (2 bins)\n",
    "   * **groupby(expr)** categorical data (strings)\n",
    "   * **groupbin(expr, binwidth, origin=0)** sparse binning\n",
    "\n",
    "And as many dependent variables as you want can be added as profile axes:\n",
    "\n",
    "   * **profile(expr)**"
   ]
  },
  {
   "cell_type": "markdown",
   "metadata": {
    "slideshow": {
     "slide_type": "slide"
    }
   },
   "source": [
    "If a set of histograms are collected into a `Book`, they are all filled with a single `.fill` call that avoids repeated reading and/or repeated calculations."
   ]
  },
  {
   "cell_type": "code",
   "execution_count": null,
   "metadata": {
    "slideshow": {
     "slide_type": "-"
    }
   },
   "outputs": [],
   "source": [
    "h = Book()\n",
    "h[\"vs pt\"] = Hist(bin(\"Jet_pt\", 100, 0, 100), profile(\"Jet_chHEF\"), profile(\"Jet_chEmEF\"), profile(\"Jet_neHEF\"))\n",
    "h[\"vs eta\"] = Hist(bin(\"Jet_eta\", 100, -5, 5), profile(\"Jet_chHEF\"), profile(\"Jet_chEmEF\"), profile(\"Jet_neHEF\"))\n",
    "h[\"vs phi\"] = Hist(bin(\"Jet_phi\", 100, -numpy.pi, numpy.pi), profile(\"Jet_chHEF\"), profile(\"Jet_chEmEF\"), profile(\"Jet_neHEF\"))\n",
    "\n",
    "h.fill(**tree.arrays([\"Jet_pt\", \"Jet_eta\", \"Jet_phi\", \"Jet_area\", \"Jet_qgl\", \"Jet_chHEF\", \"Jet_chEmEF\", \"Jet_neHEF\"]))"
   ]
  },
  {
   "cell_type": "code",
   "execution_count": null,
   "metadata": {
    "slideshow": {
     "slide_type": "fragment"
    }
   },
   "outputs": [],
   "source": [
    "h[\"vs eta\"].marker(profile=\"Jet_neHEF\").to(canvas)"
   ]
  },
  {
   "cell_type": "markdown",
   "metadata": {
    "slideshow": {
     "slide_type": "fragment"
    }
   },
   "source": [
    "→ Write analysis scripts that look like many `TTree::Draw` commands, yet only pass over the data once."
   ]
  },
  {
   "cell_type": "markdown",
   "metadata": {
    "slideshow": {
     "slide_type": "slide"
    }
   },
   "source": [
    "Separately created and filled histograms can be added (hadd) or grouped (new categorical axis)."
   ]
  },
  {
   "cell_type": "code",
   "execution_count": null,
   "metadata": {},
   "outputs": [],
   "source": [
    "muonpt = Hist(bin(\"pt\", 100, 0, 100), fill=tree.array(\"Muon_pt\"), weight=10)\n",
    "jetpt = Hist(bin(\"pt\", 100, 0, 100), fill=tree.array(\"Jet_pt\"), weight=1)"
   ]
  },
  {
   "cell_type": "code",
   "execution_count": null,
   "metadata": {},
   "outputs": [],
   "source": [
    "h = Hist.group(muon=muonpt, jet=jetpt)"
   ]
  },
  {
   "cell_type": "code",
   "execution_count": null,
   "metadata": {
    "slideshow": {
     "slide_type": "fragment"
    }
   },
   "outputs": [],
   "source": [
    "h.beside(\"source\").step(\"pt\").to(canvas)"
   ]
  },
  {
   "cell_type": "markdown",
   "metadata": {
    "slideshow": {
     "slide_type": "slide"
    }
   },
   "source": [
    "Of course you can make ROOT histograms, too!"
   ]
  },
  {
   "cell_type": "code",
   "execution_count": null,
   "metadata": {},
   "outputs": [],
   "source": [
    "import ROOT\n",
    "tcanvas = ROOT.TCanvas()\n",
    "\n",
    "cache = {}                                  # cache gives histograms a place to live\n",
    "h.project(\"pt\").root(cache=cache).Draw()    # to create and draw them in one line\n",
    "tcanvas.Draw()"
   ]
  }
 ],
 "metadata": {
  "celltoolbar": "Slideshow",
  "kernelspec": {
   "display_name": "Python 2",
   "language": "python",
   "name": "python2"
  },
  "language_info": {
   "codemirror_mode": {
    "name": "ipython",
    "version": 2
   },
   "file_extension": ".py",
   "mimetype": "text/x-python",
   "name": "python",
   "nbconvert_exporter": "python",
   "pygments_lexer": "ipython2",
   "version": "2.7.12"
  }
 },
 "nbformat": 4,
 "nbformat_minor": 2
}
