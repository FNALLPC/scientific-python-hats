{
 "cells": [
  {
   "cell_type": "markdown",
   "metadata": {
    "slideshow": {
     "slide_type": "slide"
    }
   },
   "source": [
    "# histbook\n",
    "\n",
    "Numpy-native histogramming"
   ]
  },
  {
   "cell_type": "markdown",
   "metadata": {
    "slideshow": {
     "slide_type": "slide"
    }
   },
   "source": [
    "Numpy, Pandas, and just about every statistical toolbox has a \"histogram\" command, but HEP physicists would find them underwhelming:\n",
    "\n",
    "   * they usually go directly from data in memory to a plot: no interface for accumulating data from disk, accessing bin contents programmatically, or even setting bin ranges by hand\n",
    "   * they sometimes don't have weights, negative weights; and I've never seen profile plots"
   ]
  },
  {
   "cell_type": "markdown",
   "metadata": {
    "slideshow": {
     "slide_type": "fragment"
    }
   },
   "source": [
    "Could use ROOT, but then we'd have to send data *back* over the divide."
   ]
  },
  {
   "cell_type": "markdown",
   "metadata": {
    "slideshow": {
     "slide_type": "fragment"
    }
   },
   "source": [
    "Besides, histogram interfaces can be improved."
   ]
  },
  {
   "cell_type": "markdown",
   "metadata": {
    "slideshow": {
     "slide_type": "slide"
    }
   },
   "source": [
    "Familiar (to HEP) interface, except that we fill a whole array instead of one value:"
   ]
  },
  {
   "cell_type": "code",
   "execution_count": 1,
   "metadata": {},
   "outputs": [],
   "source": [
    "import numpy\n",
    "from histbook import *\n",
    "h = Hist(bin(\"x\", 10, -5, 5))"
   ]
  },
  {
   "cell_type": "code",
   "execution_count": 2,
   "metadata": {},
   "outputs": [],
   "source": [
    "h.fill(x=numpy.random.normal(-1.5, 1, 1000000))        # fill with some data"
   ]
  },
  {
   "cell_type": "code",
   "execution_count": 3,
   "metadata": {
    "slideshow": {
     "slide_type": "fragment"
    }
   },
   "outputs": [],
   "source": [
    "h.fill(x=numpy.random.normal(1.5, 1, 1000000))         # fill with more data"
   ]
  },
  {
   "cell_type": "code",
   "execution_count": 4,
   "metadata": {
    "slideshow": {
     "slide_type": "fragment"
    }
   },
   "outputs": [],
   "source": [
    "from vega import VegaLite as canvas                    # for inline plots in Jupyter\n",
    "# import vegascope; canvas = vegascope.LocalCanvas()   # if you don't want to use Jupyter (traditional TCanvas in browser)"
   ]
  },
  {
   "cell_type": "code",
   "execution_count": null,
   "metadata": {
    "slideshow": {
     "slide_type": "-"
    }
   },
   "outputs": [],
   "source": [
    "h.step().to(canvas)"
   ]
  },
  {
   "cell_type": "code",
   "execution_count": null,
   "metadata": {
    "slideshow": {
     "slide_type": "fragment"
    }
   },
   "outputs": [],
   "source": [
    "h.pandas()"
   ]
  },
  {
   "cell_type": "markdown",
   "metadata": {
    "slideshow": {
     "slide_type": "slide"
    }
   },
   "source": [
    "Plays well with the scientific Python ecosystem:\n",
    "   * Numpy for large data input\n",
    "   * [Vega-Lite](https://vega.github.io/vega-lite/) for default plotting (PyROOT is an option)\n",
    "   * Pandas for tabular access"
   ]
  },
  {
   "cell_type": "markdown",
   "metadata": {
    "slideshow": {
     "slide_type": "fragment"
    }
   },
   "source": [
    "Plays well with HEP expectations:\n",
    "   * re-fillable, \"hadd\"-able, profile plots\n",
    "   * weights with sumw2, HEP-style error handling"
   ]
  },
  {
   "cell_type": "markdown",
   "metadata": {
    "slideshow": {
     "slide_type": "fragment"
    }
   },
   "source": [
    "But also:\n",
    "   * all histograms are n-dimensional\n",
    "   * plotting is a matter of slicing and projecting onto graphical facets (x, y, color, trellis)\n",
    "   * quantities to plot are reordered to fill in an optimal way, minimizing passes over data"
   ]
  },
  {
   "cell_type": "markdown",
   "metadata": {
    "slideshow": {
     "slide_type": "slide"
    }
   },
   "source": [
    "N-dimensional histograms:"
   ]
  },
  {
   "cell_type": "code",
   "execution_count": null,
   "metadata": {},
   "outputs": [],
   "source": [
    "h = Hist(bin(\"Jet_pt\", 100, 0, 100), bin(\"Jet_eta\", 100, -5, 5), bin(\"Jet_phi\", 100, -numpy.pi, numpy.pi))"
   ]
  },
  {
   "cell_type": "code",
   "execution_count": 5,
   "metadata": {},
   "outputs": [
    {
     "ename": "ValueError",
     "evalue": "required field 'x' not found in fill arguments",
     "output_type": "error",
     "traceback": [
      "\u001b[0;31m---------------------------------------------------------------------------\u001b[0m",
      "\u001b[0;31mValueError\u001b[0m                                Traceback (most recent call last)",
      "\u001b[0;32m<ipython-input-5-5408edb7a48e>\u001b[0m in \u001b[0;36m<module>\u001b[0;34m()\u001b[0m\n\u001b[1;32m      1\u001b[0m \u001b[0;32mimport\u001b[0m \u001b[0muproot\u001b[0m\u001b[0;34m\u001b[0m\u001b[0m\n\u001b[1;32m      2\u001b[0m \u001b[0mtree\u001b[0m \u001b[0;34m=\u001b[0m \u001b[0muproot\u001b[0m\u001b[0;34m.\u001b[0m\u001b[0mopen\u001b[0m\u001b[0;34m(\u001b[0m\u001b[0;34m\"~/storage/data/NanoAOD-DYJetsToLL.root\"\u001b[0m\u001b[0;34m)\u001b[0m\u001b[0;34m[\u001b[0m\u001b[0;34m\"Events\"\u001b[0m\u001b[0;34m]\u001b[0m\u001b[0;34m\u001b[0m\u001b[0m\n\u001b[0;32m----> 3\u001b[0;31m \u001b[0mh\u001b[0m\u001b[0;34m.\u001b[0m\u001b[0mfill\u001b[0m\u001b[0;34m(\u001b[0m\u001b[0;34m**\u001b[0m\u001b[0mtree\u001b[0m\u001b[0;34m.\u001b[0m\u001b[0marrays\u001b[0m\u001b[0;34m(\u001b[0m\u001b[0;34m[\u001b[0m\u001b[0;34m\"Jet_pt\"\u001b[0m\u001b[0;34m,\u001b[0m \u001b[0;34m\"Jet_eta\"\u001b[0m\u001b[0;34m,\u001b[0m \u001b[0;34m\"Jet_phi\"\u001b[0m\u001b[0;34m]\u001b[0m\u001b[0;34m)\u001b[0m\u001b[0;34m)\u001b[0m\u001b[0;34m\u001b[0m\u001b[0m\n\u001b[0m",
      "\u001b[0;32m/home/pivarski/.local/lib/python2.7/site-packages/histbook-0.0.5-py2.7.egg/histbook/hist.pyc\u001b[0m in \u001b[0;36mfill\u001b[0;34m(self, arrays, **more)\u001b[0m\n\u001b[1;32m    391\u001b[0m \u001b[0;34m\u001b[0m\u001b[0m\n\u001b[1;32m    392\u001b[0m         \u001b[0mself\u001b[0m\u001b[0;34m.\u001b[0m\u001b[0m_prefill\u001b[0m\u001b[0;34m(\u001b[0m\u001b[0;34m)\u001b[0m\u001b[0;34m\u001b[0m\u001b[0m\n\u001b[0;32m--> 393\u001b[0;31m         \u001b[0mlength\u001b[0m \u001b[0;34m=\u001b[0m \u001b[0mself\u001b[0m\u001b[0;34m.\u001b[0m\u001b[0m_fill\u001b[0m\u001b[0;34m(\u001b[0m\u001b[0marrays\u001b[0m\u001b[0;34m)\u001b[0m\u001b[0;34m\u001b[0m\u001b[0m\n\u001b[0m\u001b[1;32m    394\u001b[0m         \u001b[0mself\u001b[0m\u001b[0;34m.\u001b[0m\u001b[0m_postfill\u001b[0m\u001b[0;34m(\u001b[0m\u001b[0marrays\u001b[0m\u001b[0;34m,\u001b[0m \u001b[0mlength\u001b[0m\u001b[0;34m)\u001b[0m\u001b[0;34m\u001b[0m\u001b[0m\n\u001b[1;32m    395\u001b[0m \u001b[0;34m\u001b[0m\u001b[0m\n",
      "\u001b[0;32m/home/pivarski/.local/lib/python2.7/site-packages/histbook-0.0.5-py2.7.egg/histbook/hist.pyc\u001b[0m in \u001b[0;36m_fill\u001b[0;34m(self, arrays)\u001b[0m\n\u001b[1;32m     85\u001b[0m                     \u001b[0marray\u001b[0m \u001b[0;34m=\u001b[0m \u001b[0marrays\u001b[0m\u001b[0;34m[\u001b[0m\u001b[0minstruction\u001b[0m\u001b[0;34m.\u001b[0m\u001b[0mextern\u001b[0m\u001b[0;34m]\u001b[0m\u001b[0;34m\u001b[0m\u001b[0m\n\u001b[1;32m     86\u001b[0m                 \u001b[0;32mexcept\u001b[0m \u001b[0mKeyError\u001b[0m\u001b[0;34m:\u001b[0m\u001b[0;34m\u001b[0m\u001b[0m\n\u001b[0;32m---> 87\u001b[0;31m                     \u001b[0;32mraise\u001b[0m \u001b[0mValueError\u001b[0m\u001b[0;34m(\u001b[0m\u001b[0;34m\"required field {0} not found in fill arguments\"\u001b[0m\u001b[0;34m.\u001b[0m\u001b[0mformat\u001b[0m\u001b[0;34m(\u001b[0m\u001b[0mrepr\u001b[0m\u001b[0;34m(\u001b[0m\u001b[0minstruction\u001b[0m\u001b[0;34m.\u001b[0m\u001b[0mextern\u001b[0m\u001b[0;34m)\u001b[0m\u001b[0;34m)\u001b[0m\u001b[0;34m)\u001b[0m\u001b[0;34m\u001b[0m\u001b[0m\n\u001b[0m\u001b[1;32m     88\u001b[0m \u001b[0;34m\u001b[0m\u001b[0m\n\u001b[1;32m     89\u001b[0m                 \u001b[0;32mif\u001b[0m \u001b[0;32mnot\u001b[0m \u001b[0misinstance\u001b[0m\u001b[0;34m(\u001b[0m\u001b[0marray\u001b[0m\u001b[0;34m,\u001b[0m \u001b[0mnumpy\u001b[0m\u001b[0;34m.\u001b[0m\u001b[0mndarray\u001b[0m\u001b[0;34m)\u001b[0m\u001b[0;34m:\u001b[0m\u001b[0;34m\u001b[0m\u001b[0m\n",
      "\u001b[0;31mValueError\u001b[0m: required field 'x' not found in fill arguments"
     ]
    }
   ],
   "source": [
    "import uproot\n",
    "tree = uproot.open(\"~/storage/data/NanoAOD-DYJetsToLL.root\")[\"Events\"]\n",
    "h.fill(**tree.arrays([\"Jet_pt\", \"Jet_eta\", \"Jet_phi\"]))"
   ]
  },
  {
   "cell_type": "code",
   "execution_count": null,
   "metadata": {
    "slideshow": {
     "slide_type": "fragment"
    }
   },
   "outputs": [],
   "source": [
    "h.step(\"Jet_eta\").to(canvas)"
   ]
  },
  {
   "cell_type": "code",
   "execution_count": null,
   "metadata": {
    "slideshow": {
     "slide_type": "fragment"
    }
   },
   "outputs": [],
   "source": [
    "h.overlay(\"Jet_eta\").step(\"Jet_pt\").to(canvas)"
   ]
  },
  {
   "cell_type": "code",
   "execution_count": null,
   "metadata": {
    "slideshow": {
     "slide_type": "slide"
    }
   },
   "outputs": [],
   "source": [
    "h.select(\"15 <= Jet_pt < 20 and -0.1 <= Jet_eta < 0.1 and Jet_phi < -pi*0.94\").pandas()"
   ]
  },
  {
   "cell_type": "markdown",
   "metadata": {
    "slideshow": {
     "slide_type": "slide"
    }
   },
   "source": [
    "These axis labels are not strings; they're algebraic expressions."
   ]
  },
  {
   "cell_type": "code",
   "execution_count": null,
   "metadata": {},
   "outputs": [],
   "source": [
    "h = Hist(bin(\"x**2\", 100, 0, 100), bin(\"x**3\", 100, 0, 100), bin(\"x*y\", 100, 0, 100))\n",
    "h.fill(x=numpy.random.normal(0, 1, 1000000), y=numpy.random.normal(0, 1, 1000000))"
   ]
  },
  {
   "cell_type": "code",
   "execution_count": null,
   "metadata": {
    "slideshow": {
     "slide_type": "fragment"
    }
   },
   "outputs": [],
   "source": [
    "h.fields"
   ]
  },
  {
   "cell_type": "code",
   "execution_count": null,
   "metadata": {
    "slideshow": {
     "slide_type": "fragment"
    }
   },
   "outputs": [],
   "source": [
    "h.axis"
   ]
  },
  {
   "cell_type": "markdown",
   "metadata": {
    "slideshow": {
     "slide_type": "slide"
    }
   },
   "source": [
    "An n-dimensional distribution can be binned in a variety of ways in the same histogram:\n",
    "\n",
    "   * **bin(expr, numbins, low, high)** regularly bin **low** to **high** in **numbins** bins\n",
    "   * **intbin(expr, min, max)** integers from **min** to **max** (inclusive)\n",
    "   * **split(expr, edges)** irregular binning at each **edge**\n",
    "   * **cut(expr)** boolean expression (2 bins)\n",
    "   * **groupby(expr)** categorical data (strings)\n",
    "   * **groupbin(expr, binwidth, origin=0)** sparse binning\n",
    "\n",
    "And as many dependent variables as you want can be added as profile axes:\n",
    "\n",
    "   * **profile(expr)**"
   ]
  },
  {
   "cell_type": "markdown",
   "metadata": {
    "slideshow": {
     "slide_type": "slide"
    }
   },
   "source": [
    "If a set of histograms are collected into a `Book`, they are all filled with a single `.fill` call that avoids repeated reading and/or repeated calculations."
   ]
  },
  {
   "cell_type": "code",
   "execution_count": null,
   "metadata": {
    "slideshow": {
     "slide_type": "-"
    }
   },
   "outputs": [],
   "source": [
    "h = Book()\n",
    "h[\"vs pt\"] = Hist(bin(\"Jet_pt\", 100, 0, 100), profile(\"Jet_chHEF\"), profile(\"Jet_chEmEF\"), profile(\"Jet_neHEF\"))\n",
    "h[\"vs eta\"] = Hist(bin(\"Jet_eta\", 100, -5, 5), profile(\"Jet_chHEF\"), profile(\"Jet_chEmEF\"), profile(\"Jet_neHEF\"))\n",
    "h[\"vs phi\"] = Hist(bin(\"Jet_phi\", 100, -numpy.pi, numpy.pi), profile(\"Jet_chHEF\"), profile(\"Jet_chEmEF\"), profile(\"Jet_neHEF\"))\n",
    "\n",
    "h.fill(**tree.arrays([\"Jet_pt\", \"Jet_eta\", \"Jet_phi\", \"Jet_area\", \"Jet_qgl\", \"Jet_chHEF\", \"Jet_chEmEF\", \"Jet_neHEF\"]))"
   ]
  },
  {
   "cell_type": "code",
   "execution_count": null,
   "metadata": {
    "slideshow": {
     "slide_type": "fragment"
    }
   },
   "outputs": [],
   "source": [
    "h[\"vs eta\"].marker(profile=\"Jet_neHEF\").to(canvas)"
   ]
  },
  {
   "cell_type": "markdown",
   "metadata": {
    "slideshow": {
     "slide_type": "fragment"
    }
   },
   "source": [
    "→ Write analysis scripts that look like many `TTree::Draw` commands, yet only pass over the data once."
   ]
  },
  {
   "cell_type": "markdown",
   "metadata": {
    "slideshow": {
     "slide_type": "slide"
    }
   },
   "source": [
    "Separately created and filled histograms can be added (hadd) or grouped (new categorical axis)."
   ]
  },
  {
   "cell_type": "code",
   "execution_count": 6,
   "metadata": {},
   "outputs": [],
   "source": [
    "muonpt = Hist(bin(\"pt\", 100, 0, 100), fill=tree.array(\"Muon_pt\"), weight=10)\n",
    "jetpt = Hist(bin(\"pt\", 100, 0, 100), fill=tree.array(\"Jet_pt\"), weight=1)"
   ]
  },
  {
   "cell_type": "code",
   "execution_count": 7,
   "metadata": {},
   "outputs": [],
   "source": [
    "h = Hist.group(muon=muonpt, jet=jetpt)"
   ]
  },
  {
   "cell_type": "code",
   "execution_count": 14,
   "metadata": {
    "slideshow": {
     "slide_type": "fragment"
    }
   },
   "outputs": [
    {
     "data": {
      "text/html": [
       "<div class=\"vega-embed\" id=\"f0872ac8-3990-48d5-be66-a2411cd15567\"></div>\n",
       "\n",
       "<style>\n",
       ".vega-embed .vega-actions > a {\n",
       "    transition: opacity 200ms ease-in;\n",
       "    opacity: 0.3;\n",
       "    margin-right: 0.6em;\n",
       "    color: #444;\n",
       "    text-decoration: none;\n",
       "}\n",
       "\n",
       ".vega-embed .vega-actions > a:hover {\n",
       "    color: #000;\n",
       "    text-decoration: underline;\n",
       "}\n",
       "\n",
       ".vega-embed:hover .vega-actions > a {\n",
       "    opacity: 1;\n",
       "    transition: 0s;\n",
       "}\n",
       "\n",
       ".vega-embed .error p {\n",
       "    color: firebrick;\n",
       "    font-size: 1.2em;\n",
       "}\n",
       "</style>\n"
      ]
     },
     "metadata": {
      "jupyter-vega": "#f0872ac8-3990-48d5-be66-a2411cd15567"
     },
     "output_type": "display_data"
    },
    {
     "data": {
      "application/javascript": [
       "var spec = {\"encoding\": {\"y\": {\"field\": \"a2\", \"type\": \"quantitative\", \"axis\": {\"title\": \"entries per bin\"}}, \"x\": {\"field\": \"a1\", \"scale\": {\"zero\": false}, \"type\": \"quantitative\", \"axis\": {\"title\": \"pt\"}}, \"column\": {\"field\": \"a0\", \"type\": \"nominal\", \"header\": {\"title\": \"source\"}}}, \"width\": null, \"title\": null, \"data\": {\"values\": [{\"a1\": 0.0, \"a0\": \"jet\", \"a2\": 0.0}, {\"a1\": 1e-08, \"a0\": \"jet\", \"a2\": 0.0}, {\"a1\": 1.0, \"a0\": \"jet\", \"a2\": 0.0}, {\"a1\": 2.0, \"a0\": \"jet\", \"a2\": 0.0}, {\"a1\": 3.0, \"a0\": \"jet\", \"a2\": 0.0}, {\"a1\": 4.0, \"a0\": \"jet\", \"a2\": 0.0}, {\"a1\": 5.0, \"a0\": \"jet\", \"a2\": 0.0}, {\"a1\": 6.0, \"a0\": \"jet\", \"a2\": 0.0}, {\"a1\": 7.000000000000001, \"a0\": \"jet\", \"a2\": 0.0}, {\"a1\": 8.0, \"a0\": \"jet\", \"a2\": 0.0}, {\"a1\": 9.0, \"a0\": \"jet\", \"a2\": 0.0}, {\"a1\": 10.0, \"a0\": \"jet\", \"a2\": 0.0}, {\"a1\": 11.0, \"a0\": \"jet\", \"a2\": 0.0}, {\"a1\": 12.0, \"a0\": \"jet\", \"a2\": 0.0}, {\"a1\": 13.0, \"a0\": \"jet\", \"a2\": 0.0}, {\"a1\": 14.000000000000002, \"a0\": \"jet\", \"a2\": 0.0}, {\"a1\": 15.0, \"a0\": \"jet\", \"a2\": 846912.0}, {\"a1\": 16.0, \"a0\": \"jet\", \"a2\": 666989.0}, {\"a1\": 17.0, \"a0\": \"jet\", \"a2\": 543744.0}, {\"a1\": 18.0, \"a0\": \"jet\", \"a2\": 442675.0}, {\"a1\": 19.0, \"a0\": \"jet\", \"a2\": 369772.0}, {\"a1\": 20.0, \"a0\": \"jet\", \"a2\": 311080.0}, {\"a1\": 21.0, \"a0\": \"jet\", \"a2\": 261364.0}, {\"a1\": 22.0, \"a0\": \"jet\", \"a2\": 224555.0}, {\"a1\": 23.0, \"a0\": \"jet\", \"a2\": 196715.0}, {\"a1\": 24.0, \"a0\": \"jet\", \"a2\": 174644.0}, {\"a1\": 25.0, \"a0\": \"jet\", \"a2\": 156748.0}, {\"a1\": 26.0, \"a0\": \"jet\", \"a2\": 142769.0}, {\"a1\": 27.0, \"a0\": \"jet\", \"a2\": 132267.0}, {\"a1\": 28.000000000000004, \"a0\": \"jet\", \"a2\": 122424.0}, {\"a1\": 28.999999999999996, \"a0\": \"jet\", \"a2\": 115187.0}, {\"a1\": 30.0, \"a0\": \"jet\", \"a2\": 108715.0}, {\"a1\": 31.0, \"a0\": \"jet\", \"a2\": 105748.0}, {\"a1\": 32.0, \"a0\": \"jet\", \"a2\": 98450.0}, {\"a1\": 33.0, \"a0\": \"jet\", \"a2\": 96253.0}, {\"a1\": 34.0, \"a0\": \"jet\", \"a2\": 93323.0}, {\"a1\": 35.0, \"a0\": \"jet\", \"a2\": 90606.0}, {\"a1\": 36.0, \"a0\": \"jet\", \"a2\": 88126.0}, {\"a1\": 37.0, \"a0\": \"jet\", \"a2\": 86634.0}, {\"a1\": 38.0, \"a0\": \"jet\", \"a2\": 85679.0}, {\"a1\": 39.0, \"a0\": \"jet\", \"a2\": 84719.0}, {\"a1\": 40.0, \"a0\": \"jet\", \"a2\": 83851.0}, {\"a1\": 41.0, \"a0\": \"jet\", \"a2\": 82297.0}, {\"a1\": 42.0, \"a0\": \"jet\", \"a2\": 81599.0}, {\"a1\": 43.0, \"a0\": \"jet\", \"a2\": 81037.0}, {\"a1\": 44.0, \"a0\": \"jet\", \"a2\": 80489.0}, {\"a1\": 45.0, \"a0\": \"jet\", \"a2\": 79333.0}, {\"a1\": 46.0, \"a0\": \"jet\", \"a2\": 79118.0}, {\"a1\": 47.0, \"a0\": \"jet\", \"a2\": 77474.0}, {\"a1\": 48.0, \"a0\": \"jet\", \"a2\": 75877.0}, {\"a1\": 49.0, \"a0\": \"jet\", \"a2\": 73095.0}, {\"a1\": 50.0, \"a0\": \"jet\", \"a2\": 69481.0}, {\"a1\": 51.0, \"a0\": \"jet\", \"a2\": 66099.0}, {\"a1\": 52.0, \"a0\": \"jet\", \"a2\": 61915.0}, {\"a1\": 53.0, \"a0\": \"jet\", \"a2\": 58116.0}, {\"a1\": 54.0, \"a0\": \"jet\", \"a2\": 53695.0}, {\"a1\": 55.00000000000001, \"a0\": \"jet\", \"a2\": 49551.0}, {\"a1\": 56.00000000000001, \"a0\": \"jet\", \"a2\": 45317.0}, {\"a1\": 56.99999999999999, \"a0\": \"jet\", \"a2\": 41306.0}, {\"a1\": 57.99999999999999, \"a0\": \"jet\", \"a2\": 36942.0}, {\"a1\": 59.0, \"a0\": \"jet\", \"a2\": 33597.0}, {\"a1\": 60.0, \"a0\": \"jet\", \"a2\": 30277.0}, {\"a1\": 61.0, \"a0\": \"jet\", \"a2\": 27657.0}, {\"a1\": 62.0, \"a0\": \"jet\", \"a2\": 24812.0}, {\"a1\": 63.0, \"a0\": \"jet\", \"a2\": 22532.0}, {\"a1\": 64.0, \"a0\": \"jet\", \"a2\": 19810.0}, {\"a1\": 65.0, \"a0\": \"jet\", \"a2\": 18441.0}, {\"a1\": 66.0, \"a0\": \"jet\", \"a2\": 16908.0}, {\"a1\": 67.0, \"a0\": \"jet\", \"a2\": 15593.0}, {\"a1\": 68.0, \"a0\": \"jet\", \"a2\": 14330.0}, {\"a1\": 69.0, \"a0\": \"jet\", \"a2\": 12965.0}, {\"a1\": 70.0, \"a0\": \"jet\", \"a2\": 12000.0}, {\"a1\": 71.0, \"a0\": \"jet\", \"a2\": 10997.0}, {\"a1\": 72.0, \"a0\": \"jet\", \"a2\": 10244.0}, {\"a1\": 73.0, \"a0\": \"jet\", \"a2\": 9412.0}, {\"a1\": 74.0, \"a0\": \"jet\", \"a2\": 8682.0}, {\"a1\": 75.0, \"a0\": \"jet\", \"a2\": 8168.0}, {\"a1\": 76.0, \"a0\": \"jet\", \"a2\": 7499.0}, {\"a1\": 77.0, \"a0\": \"jet\", \"a2\": 7212.0}, {\"a1\": 78.0, \"a0\": \"jet\", \"a2\": 6835.0}, {\"a1\": 79.0, \"a0\": \"jet\", \"a2\": 6230.0}, {\"a1\": 80.0, \"a0\": \"jet\", \"a2\": 6045.0}, {\"a1\": 81.0, \"a0\": \"jet\", \"a2\": 5499.0}, {\"a1\": 82.0, \"a0\": \"jet\", \"a2\": 5275.0}, {\"a1\": 83.0, \"a0\": \"jet\", \"a2\": 4886.0}, {\"a1\": 84.0, \"a0\": \"jet\", \"a2\": 4668.0}, {\"a1\": 85.0, \"a0\": \"jet\", \"a2\": 4478.0}, {\"a1\": 86.0, \"a0\": \"jet\", \"a2\": 4194.0}, {\"a1\": 87.0, \"a0\": \"jet\", \"a2\": 3898.0}, {\"a1\": 88.0, \"a0\": \"jet\", \"a2\": 3762.0}, {\"a1\": 89.0, \"a0\": \"jet\", \"a2\": 3567.0}, {\"a1\": 90.0, \"a0\": \"jet\", \"a2\": 3379.0}, {\"a1\": 91.0, \"a0\": \"jet\", \"a2\": 3289.0}, {\"a1\": 92.0, \"a0\": \"jet\", \"a2\": 3035.0}, {\"a1\": 93.0, \"a0\": \"jet\", \"a2\": 2890.0}, {\"a1\": 94.0, \"a0\": \"jet\", \"a2\": 2786.0}, {\"a1\": 95.0, \"a0\": \"jet\", \"a2\": 2674.0}, {\"a1\": 96.0, \"a0\": \"jet\", \"a2\": 2528.0}, {\"a1\": 97.0, \"a0\": \"jet\", \"a2\": 2477.0}, {\"a1\": 98.0, \"a0\": \"jet\", \"a2\": 2356.0}, {\"a1\": 99.0, \"a0\": \"jet\", \"a2\": 2245.0}, {\"a1\": 100.0, \"a0\": \"jet\", \"a2\": 0.0}, {\"a1\": 0.0, \"a0\": \"muon\", \"a2\": 0.0}, {\"a1\": 1e-08, \"a0\": \"muon\", \"a2\": 0.0}, {\"a1\": 1.0, \"a0\": \"muon\", \"a2\": 0.0}, {\"a1\": 2.0, \"a0\": \"muon\", \"a2\": 0.0}, {\"a1\": 3.0, \"a0\": \"muon\", \"a2\": 632250.0}, {\"a1\": 4.0, \"a0\": \"muon\", \"a2\": 316670.0}, {\"a1\": 5.0, \"a0\": \"muon\", \"a2\": 201550.0}, {\"a1\": 6.0, \"a0\": \"muon\", \"a2\": 156570.0}, {\"a1\": 7.000000000000001, \"a0\": \"muon\", \"a2\": 137540.0}, {\"a1\": 8.0, \"a0\": \"muon\", \"a2\": 130220.0}, {\"a1\": 9.0, \"a0\": \"muon\", \"a2\": 127710.0}, {\"a1\": 10.0, \"a0\": \"muon\", \"a2\": 126550.0}, {\"a1\": 11.0, \"a0\": \"muon\", \"a2\": 126230.0}, {\"a1\": 12.0, \"a0\": \"muon\", \"a2\": 129370.0}, {\"a1\": 13.0, \"a0\": \"muon\", \"a2\": 132250.0}, {\"a1\": 14.000000000000002, \"a0\": \"muon\", \"a2\": 136890.0}, {\"a1\": 15.0, \"a0\": \"muon\", \"a2\": 140130.0}, {\"a1\": 16.0, \"a0\": \"muon\", \"a2\": 146100.0}, {\"a1\": 17.0, \"a0\": \"muon\", \"a2\": 150380.0}, {\"a1\": 18.0, \"a0\": \"muon\", \"a2\": 153830.0}, {\"a1\": 19.0, \"a0\": \"muon\", \"a2\": 159740.0}, {\"a1\": 20.0, \"a0\": \"muon\", \"a2\": 164130.0}, {\"a1\": 21.0, \"a0\": \"muon\", \"a2\": 167480.0}, {\"a1\": 22.0, \"a0\": \"muon\", \"a2\": 173230.0}, {\"a1\": 23.0, \"a0\": \"muon\", \"a2\": 180240.0}, {\"a1\": 24.0, \"a0\": \"muon\", \"a2\": 185480.0}, {\"a1\": 25.0, \"a0\": \"muon\", \"a2\": 187800.0}, {\"a1\": 26.0, \"a0\": \"muon\", \"a2\": 194750.0}, {\"a1\": 27.0, \"a0\": \"muon\", \"a2\": 199270.0}, {\"a1\": 28.000000000000004, \"a0\": \"muon\", \"a2\": 204150.0}, {\"a1\": 28.999999999999996, \"a0\": \"muon\", \"a2\": 209430.0}, {\"a1\": 30.0, \"a0\": \"muon\", \"a2\": 215480.0}, {\"a1\": 31.0, \"a0\": \"muon\", \"a2\": 214910.0}, {\"a1\": 32.0, \"a0\": \"muon\", \"a2\": 223310.0}, {\"a1\": 33.0, \"a0\": \"muon\", \"a2\": 229110.0}, {\"a1\": 34.0, \"a0\": \"muon\", \"a2\": 237240.0}, {\"a1\": 35.0, \"a0\": \"muon\", \"a2\": 239560.0}, {\"a1\": 36.0, \"a0\": \"muon\", \"a2\": 245820.0}, {\"a1\": 37.0, \"a0\": \"muon\", \"a2\": 252710.0}, {\"a1\": 38.0, \"a0\": \"muon\", \"a2\": 257230.0}, {\"a1\": 39.0, \"a0\": \"muon\", \"a2\": 264180.0}, {\"a1\": 40.0, \"a0\": \"muon\", \"a2\": 267750.0}, {\"a1\": 41.0, \"a0\": \"muon\", \"a2\": 273250.0}, {\"a1\": 42.0, \"a0\": \"muon\", \"a2\": 269700.0}, {\"a1\": 43.0, \"a0\": \"muon\", \"a2\": 267490.0}, {\"a1\": 44.0, \"a0\": \"muon\", \"a2\": 255130.0}, {\"a1\": 45.0, \"a0\": \"muon\", \"a2\": 230720.0}, {\"a1\": 46.0, \"a0\": \"muon\", \"a2\": 199770.0}, {\"a1\": 47.0, \"a0\": \"muon\", \"a2\": 170050.0}, {\"a1\": 48.0, \"a0\": \"muon\", \"a2\": 144010.0}, {\"a1\": 49.0, \"a0\": \"muon\", \"a2\": 120170.0}, {\"a1\": 50.0, \"a0\": \"muon\", \"a2\": 100440.0}, {\"a1\": 51.0, \"a0\": \"muon\", \"a2\": 89290.0}, {\"a1\": 52.0, \"a0\": \"muon\", \"a2\": 76080.0}, {\"a1\": 53.0, \"a0\": \"muon\", \"a2\": 67480.0}, {\"a1\": 54.0, \"a0\": \"muon\", \"a2\": 58200.0}, {\"a1\": 55.00000000000001, \"a0\": \"muon\", \"a2\": 51010.0}, {\"a1\": 56.00000000000001, \"a0\": \"muon\", \"a2\": 45830.0}, {\"a1\": 56.99999999999999, \"a0\": \"muon\", \"a2\": 41210.0}, {\"a1\": 57.99999999999999, \"a0\": \"muon\", \"a2\": 37040.0}, {\"a1\": 59.0, \"a0\": \"muon\", \"a2\": 32790.0}, {\"a1\": 60.0, \"a0\": \"muon\", \"a2\": 30230.0}, {\"a1\": 61.0, \"a0\": \"muon\", \"a2\": 27430.0}, {\"a1\": 62.0, \"a0\": \"muon\", \"a2\": 25080.0}, {\"a1\": 63.0, \"a0\": \"muon\", \"a2\": 23230.0}, {\"a1\": 64.0, \"a0\": \"muon\", \"a2\": 21290.0}, {\"a1\": 65.0, \"a0\": \"muon\", \"a2\": 19100.0}, {\"a1\": 66.0, \"a0\": \"muon\", \"a2\": 18250.0}, {\"a1\": 67.0, \"a0\": \"muon\", \"a2\": 16620.0}, {\"a1\": 68.0, \"a0\": \"muon\", \"a2\": 15860.0}, {\"a1\": 69.0, \"a0\": \"muon\", \"a2\": 14380.0}, {\"a1\": 70.0, \"a0\": \"muon\", \"a2\": 13130.0}, {\"a1\": 71.0, \"a0\": \"muon\", \"a2\": 12370.0}, {\"a1\": 72.0, \"a0\": \"muon\", \"a2\": 11700.0}, {\"a1\": 73.0, \"a0\": \"muon\", \"a2\": 10590.0}, {\"a1\": 74.0, \"a0\": \"muon\", \"a2\": 9620.0}, {\"a1\": 75.0, \"a0\": \"muon\", \"a2\": 9480.0}, {\"a1\": 76.0, \"a0\": \"muon\", \"a2\": 8540.0}, {\"a1\": 77.0, \"a0\": \"muon\", \"a2\": 8110.0}, {\"a1\": 78.0, \"a0\": \"muon\", \"a2\": 7350.0}, {\"a1\": 79.0, \"a0\": \"muon\", \"a2\": 7390.0}, {\"a1\": 80.0, \"a0\": \"muon\", \"a2\": 6610.0}, {\"a1\": 81.0, \"a0\": \"muon\", \"a2\": 6510.0}, {\"a1\": 82.0, \"a0\": \"muon\", \"a2\": 6180.0}, {\"a1\": 83.0, \"a0\": \"muon\", \"a2\": 5820.0}, {\"a1\": 84.0, \"a0\": \"muon\", \"a2\": 5760.0}, {\"a1\": 85.0, \"a0\": \"muon\", \"a2\": 5030.0}, {\"a1\": 86.0, \"a0\": \"muon\", \"a2\": 5080.0}, {\"a1\": 87.0, \"a0\": \"muon\", \"a2\": 4680.0}, {\"a1\": 88.0, \"a0\": \"muon\", \"a2\": 4690.0}, {\"a1\": 89.0, \"a0\": \"muon\", \"a2\": 4050.0}, {\"a1\": 90.0, \"a0\": \"muon\", \"a2\": 4050.0}, {\"a1\": 91.0, \"a0\": \"muon\", \"a2\": 3680.0}, {\"a1\": 92.0, \"a0\": \"muon\", \"a2\": 3530.0}, {\"a1\": 93.0, \"a0\": \"muon\", \"a2\": 3080.0}, {\"a1\": 94.0, \"a0\": \"muon\", \"a2\": 3280.0}, {\"a1\": 95.0, \"a0\": \"muon\", \"a2\": 3000.0}, {\"a1\": 96.0, \"a0\": \"muon\", \"a2\": 2820.0}, {\"a1\": 97.0, \"a0\": \"muon\", \"a2\": 2710.0}, {\"a1\": 98.0, \"a0\": \"muon\", \"a2\": 2380.0}, {\"a1\": 99.0, \"a0\": \"muon\", \"a2\": 2610.0}, {\"a1\": 100.0, \"a0\": \"muon\", \"a2\": 0.0}]}, \"$schema\": \"https://vega.github.io/schema/vega-lite/v2.json\", \"mark\": {\"type\": \"line\", \"interpolate\": \"step-before\"}, \"config\": null, \"transform\": [], \"height\": null};\n",
       "var opt = {};\n",
       "var selector = \"#f0872ac8-3990-48d5-be66-a2411cd15567\";\n",
       "var type = \"vega-lite\";\n",
       "\n",
       "var output_area = this;\n",
       "\n",
       "require(['nbextensions/jupyter-vega/index'], function(vega) {\n",
       "  vega.render(selector, spec, type, opt, output_area);\n",
       "}, function (err) {\n",
       "  if (err.requireType !== 'scripterror') {\n",
       "    throw(err);\n",
       "  }\n",
       "});\n"
      ]
     },
     "metadata": {
      "jupyter-vega": "#f0872ac8-3990-48d5-be66-a2411cd15567"
     },
     "output_type": "display_data"
    },
    {
     "data": {
      "image/png": "[encoded data removed]"
     },
     "metadata": {
      "jupyter-vega": "#f0872ac8-3990-48d5-be66-a2411cd15567"
     },
     "output_type": "display_data"
    }
   ],
   "source": [
    "h.beside(\"source\").step(\"pt\").to(canvas)"
   ]
  },
  {
   "cell_type": "code",
   "execution_count": null,
   "metadata": {
    "slideshow": {
     "slide_type": "slide"
    }
   },
   "outputs": [],
   "source": []
  }
 ],
 "metadata": {
  "celltoolbar": "Slideshow",
  "kernelspec": {
   "display_name": "Python 2",
   "language": "python",
   "name": "python2"
  },
  "language_info": {
   "codemirror_mode": {
    "name": "ipython",
    "version": 2
   },
   "file_extension": ".py",
   "mimetype": "text/x-python",
   "name": "python",
   "nbconvert_exporter": "python",
   "pygments_lexer": "ipython2",
   "version": "2.7.12"
  }
 },
 "nbformat": 4,
 "nbformat_minor": 2
}
