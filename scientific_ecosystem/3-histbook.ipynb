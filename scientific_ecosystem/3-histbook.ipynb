{
 "cells": [
  {
   "cell_type": "markdown",
   "metadata": {
    "slideshow": {
     "slide_type": "slide"
    }
   },
   "source": [
    "# histbook\n",
    "\n",
    "Numpy-native histogramming"
   ]
  },
  {
   "cell_type": "markdown",
   "metadata": {
    "slideshow": {
     "slide_type": "slide"
    }
   },
   "source": [
    "Numpy, Pandas, and just about every statistical toolbox has a \"histogram\" command, but HEP physicists would find them underwhelming:\n",
    "\n",
    "   * they usually go directly from raw data (in memory) to a plot: no interface for accumulating data from disk, accessing bin contents programmatically, or even setting bin ranges by hand\n",
    "   * they sometimes don't have weights, negative weights, and never have profile plots"
   ]
  },
  {
   "cell_type": "markdown",
   "metadata": {
    "slideshow": {
     "slide_type": "fragment"
    }
   },
   "source": [
    "Could use ROOT, but then we'd have to send data *back* over the divide."
   ]
  },
  {
   "cell_type": "markdown",
   "metadata": {
    "slideshow": {
     "slide_type": "fragment"
    }
   },
   "source": [
    "Besides, histogram interfaces can be improved."
   ]
  },
  {
   "cell_type": "markdown",
   "metadata": {
    "slideshow": {
     "slide_type": "slide"
    }
   },
   "source": [
    "Familiar (to HEP) interface, except that we fill a whole array instead of one value:"
   ]
  },
  {
   "cell_type": "code",
   "execution_count": null,
   "metadata": {},
   "outputs": [],
   "source": [
    "import numpy\n",
    "from histbook import *\n",
    "h = Hist(bin(\"x\", 10, -5, 5))"
   ]
  },
  {
   "cell_type": "code",
   "execution_count": null,
   "metadata": {},
   "outputs": [],
   "source": [
    "h.fill(x=numpy.random.normal(-1.5, 1, 1000000))        # fill with some data"
   ]
  },
  {
   "cell_type": "code",
   "execution_count": null,
   "metadata": {
    "slideshow": {
     "slide_type": "fragment"
    }
   },
   "outputs": [],
   "source": [
    "h.fill(x=numpy.random.normal(1.5, 1, 1000000))         # fill with more data"
   ]
  },
  {
   "cell_type": "code",
   "execution_count": null,
   "metadata": {
    "slideshow": {
     "slide_type": "fragment"
    }
   },
   "outputs": [],
   "source": [
    "from vega import VegaLite as canvas                    # plots in Jupyter\n",
    "# import vegascope; canvas = vegascope.LocalCanvas()   # if you don't want to use Jupyter"
   ]
  },
  {
   "cell_type": "code",
   "execution_count": null,
   "metadata": {
    "slideshow": {
     "slide_type": "-"
    }
   },
   "outputs": [],
   "source": [
    "h.step().to(canvas)"
   ]
  },
  {
   "cell_type": "code",
   "execution_count": null,
   "metadata": {
    "slideshow": {
     "slide_type": "fragment"
    }
   },
   "outputs": [],
   "source": [
    "h.pandas()"
   ]
  },
  {
   "cell_type": "markdown",
   "metadata": {
    "slideshow": {
     "slide_type": "slide"
    }
   },
   "source": [
    "Plays well with the scientific Python ecosystem:\n",
    "   * Numpy for large data input\n",
    "   * [Vega-Lite](https://vega.github.io/vega-lite/) for default plotting (PyROOT is an option)\n",
    "   * Pandas for tabular access"
   ]
  },
  {
   "cell_type": "markdown",
   "metadata": {
    "slideshow": {
     "slide_type": "fragment"
    }
   },
   "source": [
    "Plays well with HEP expectations:\n",
    "   * re-fillable, \"hadd\"-able, profile plots\n",
    "   * weights with sumw2, HEP-style error handling"
   ]
  },
  {
   "cell_type": "markdown",
   "metadata": {
    "slideshow": {
     "slide_type": "fragment"
    }
   },
   "source": [
    "But also:\n",
    "   * all histograms are n-dimensional\n",
    "   * plotting is a matter of slicing and projecting onto graphical facets (x, y, color, trellis)\n",
    "   * quantities to plot are reordered to fill in an optimal way, minimizing passes over data"
   ]
  },
  {
   "cell_type": "markdown",
   "metadata": {
    "slideshow": {
     "slide_type": "slide"
    }
   },
   "source": [
    "N-dimensional histograms:"
   ]
  },
  {
   "cell_type": "code",
   "execution_count": null,
   "metadata": {},
   "outputs": [],
   "source": [
    "h = Hist(bin(\"Jet_pt\", 100, 0, 100), bin(\"Jet_eta\", 100, -5, 5), bin(\"Jet_phi\", 100, -numpy.pi, numpy.pi))"
   ]
  },
  {
   "cell_type": "code",
   "execution_count": null,
   "metadata": {},
   "outputs": [],
   "source": [
    "import uproot\n",
    "tree = uproot.open(\"~/storage/data/NanoAOD-DYJetsToLL.root\")[\"Events\"]\n",
    "h.fill(**tree.arrays([\"Jet_pt\", \"Jet_eta\", \"Jet_phi\"]))"
   ]
  },
  {
   "cell_type": "code",
   "execution_count": null,
   "metadata": {
    "slideshow": {
     "slide_type": "fragment"
    }
   },
   "outputs": [],
   "source": [
    "h.step(\"Jet_eta\").to(canvas)"
   ]
  },
  {
   "cell_type": "code",
   "execution_count": null,
   "metadata": {
    "slideshow": {
     "slide_type": "fragment"
    }
   },
   "outputs": [],
   "source": [
    "h.rebin(\"Jet_eta\", (-5, -4, -2, 2, 4, 5)).overlay(\"Jet_eta\").step(\"Jet_pt\", yscale=\"log\").to(canvas)"
   ]
  },
  {
   "cell_type": "code",
   "execution_count": null,
   "metadata": {
    "slideshow": {
     "slide_type": "slide"
    }
   },
   "outputs": [],
   "source": []
  }
 ],
 "metadata": {
  "celltoolbar": "Slideshow",
  "kernelspec": {
   "display_name": "Python 2",
   "language": "python",
   "name": "python2"
  },
  "language_info": {
   "codemirror_mode": {
    "name": "ipython",
    "version": 2
   },
   "file_extension": ".py",
   "mimetype": "text/x-python",
   "name": "python",
   "nbconvert_exporter": "python",
   "pygments_lexer": "ipython2",
   "version": "2.7.12"
  }
 },
 "nbformat": 4,
 "nbformat_minor": 2
}
