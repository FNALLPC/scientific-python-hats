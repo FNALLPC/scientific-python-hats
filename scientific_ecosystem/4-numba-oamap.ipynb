{
 "cells": [
  {
   "cell_type": "markdown",
   "metadata": {
    "slideshow": {
     "slide_type": "slide"
    }
   },
   "source": [
    "# Numba and OAMap\n",
    "\n",
    "Vectorization is hard; I just want a #$*& `for` loop"
   ]
  },
  {
   "cell_type": "markdown",
   "metadata": {
    "slideshow": {
     "slide_type": "slide"
    }
   },
   "source": [
    "Remember how we selected pairs of muons to compute a mass?"
   ]
  },
  {
   "cell_type": "code",
   "execution_count": 18,
   "metadata": {},
   "outputs": [
    {
     "data": {
      "text/plain": [
       "array([19.148365, 94.62449 , 49.54908 , ..., 92.07987 , 90.85128 ,\n",
       "       94.247894], dtype=float32)"
      ]
     },
     "execution_count": 18,
     "metadata": {},
     "output_type": "execute_result"
    }
   ],
   "source": [
    "import uproot\n",
    "import numpy\n",
    "\n",
    "# get data\n",
    "tree = uproot.open(\"~/data/NanoAOD-DYJetsToLL.root\")[\"Events\"]\n",
    "pt, eta, phi = tree.arrays([\"Muon_pt\", \"Muon_eta\", \"Muon_phi\"], outputtype=tuple)\n",
    "starts, stops = pt.starts, pt.stops\n",
    "pt, eta, phi = numpy.array(pt), numpy.array(eta), numpy.array(phi)\n",
    "\n",
    "# manipulate arrays in a vectorized way\n",
    "has2muons = stops - starts >= 2          # boolean mask filter\n",
    "firsts = starts[has2muons]               # indexes of first particle in each event (that has two)\n",
    "seconds = starts[has2muons] + 1          # indexes of second particle in each event (that has two)\n",
    "pt1, pt2 = pt[firsts], pt[seconds]       # first and second muon pt per event\n",
    "eta1, eta2 = eta[firsts], eta[seconds]   # first and second muon eta per event\n",
    "phi1, phi2 = phi[firsts], phi[seconds]   # first and second muon phi per event\n",
    "\n",
    "# vectorized calculation of masses from first and second muon per event\n",
    "numpy.sqrt(2*pt1*pt2*(numpy.cosh(eta1 - eta2) - numpy.cos(phi1 - phi2)))"
   ]
  },
  {
   "cell_type": "markdown",
   "metadata": {
    "slideshow": {
     "slide_type": "slide"
    }
   },
   "source": [
    "Wouldn't you rather"
   ]
  },
  {
   "cell_type": "code",
   "execution_count": 2,
   "metadata": {},
   "outputs": [
    {
     "name": "stdout",
     "output_type": "stream",
     "text": [
      "19.148364743\n",
      "94.6244869733\n",
      "49.5490818031\n",
      "49.835226297\n",
      "88.555875296\n",
      "83.837374085\n",
      "92.7251867529\n",
      "65.7990486619\n",
      "96.6128233991\n",
      "95.3178588469\n",
      "89.6244324542\n",
      "68.7956518411\n",
      "71.6876477709\n",
      "92.2909234339\n",
      "88.161053443\n",
      "90.4691122597\n",
      "44.1174087363\n",
      "91.7549133756\n",
      "88.888118427\n"
     ]
    }
   ],
   "source": [
    "import math\n",
    "import oamap.backend.root.cmsnano\n",
    "\n",
    "# get events that you can iterate over\n",
    "events = oamap.backend.root.cmsnano.proxy(\"~/data/NanoAOD-DYJetsToLL.root\")\n",
    "\n",
    "for event in events[:100]:        # iteration (over the first hundred) with a for loop\n",
    "    if len(event.Muon) >= 2:      # selection with an if statement\n",
    "        mu1 = event.Muon[0]\n",
    "        mu2 = event.Muon[1]\n",
    "        mass = math.sqrt(2*mu1.pt*mu2.pt*(math.cosh(mu1.eta - mu2.eta) - math.cos(mu1.phi - mu2.phi)))\n",
    "        print(mass)               # sequential calculation of each individual event"
   ]
  },
  {
   "cell_type": "markdown",
   "metadata": {
    "slideshow": {
     "slide_type": "slide"
    }
   },
   "source": [
    "Vectorization can provide factors of ~8 on modern CPUs and ~32 on GPUs.\n",
    "\n",
    "Most of the factor of ~1000 came from avoiding Python `for` loops."
   ]
  },
  {
   "cell_type": "markdown",
   "metadata": {
    "slideshow": {
     "slide_type": "fragment"
    }
   },
   "source": [
    "What we really need to avoid is stepping through Python. We need compiled code.\n",
    "\n",
    "   * **External C++ code?** Works, but switching files obscures the logic of the scientific workflow.\n",
    "   * **Inline C++ code?** Clearer for small excursions, but even switching languages can be confusing and/or extra effort to translate by hand.\n",
    "   * **Compile the Python code?** Easiest in most cases. (Only problem: the Python language wasn't designed to be compiled and lacks the ability to express advanced features, so defer to the above for complex cases.)"
   ]
  },
  {
   "cell_type": "code",
   "execution_count": 3,
   "metadata": {
    "slideshow": {
     "slide_type": "slide"
    }
   },
   "outputs": [],
   "source": [
    "import numba\n",
    "\n",
    "def mass_numpy(pt1, pt2, eta1, eta2, phi1, phi2, out):\n",
    "    out[:] = numpy.sqrt(2*pt1*pt2*(numpy.cosh(eta1 - eta2) - numpy.cos(phi1 - phi2)))\n",
    "\n",
    "def mass_python(pt1, pt2, eta1, eta2, phi1, phi2, out):\n",
    "    for i in range(len(pt1)):\n",
    "        out[i] = math.sqrt(2*pt1[i]*pt2[i]*(math.cosh(eta1[i] - eta2[i]) - math.cos(phi1[i] - phi2[i])))\n",
    "\n",
    "@numba.jit(nopython=True)   # compile the following (nopython=True means we prefer errors to slow code)\n",
    "def mass_numba(pt1, pt2, eta1, eta2, phi1, phi2, out):\n",
    "    for i in range(len(pt1)):\n",
    "        out[i] = math.sqrt(2*pt1[i]*pt2[i]*(math.cosh(eta1[i] - eta2[i]) - math.cos(phi1[i] - phi2[i])))\n",
    "\n",
    "out = numpy.empty(len(pt1))"
   ]
  },
  {
   "cell_type": "code",
   "execution_count": 11,
   "metadata": {},
   "outputs": [
    {
     "name": "stdout",
     "output_type": "stream",
     "text": [
      "100 loops, best of 3: 7.23 ms per loop\n"
     ]
    }
   ],
   "source": [
    "%%timeit\n",
    "mass_numpy(pt1, pt2, eta1, eta2, phi1, phi2, out)"
   ]
  },
  {
   "cell_type": "code",
   "execution_count": 12,
   "metadata": {},
   "outputs": [
    {
     "name": "stdout",
     "output_type": "stream",
     "text": [
      "1 loop, best of 3: 1.29 s per loop\n"
     ]
    }
   ],
   "source": [
    "%%timeit\n",
    "mass_python(pt1, pt2, eta1, eta2, phi1, phi2, out)"
   ]
  },
  {
   "cell_type": "code",
   "execution_count": 14,
   "metadata": {},
   "outputs": [
    {
     "name": "stdout",
     "output_type": "stream",
     "text": [
      "100 loops, best of 3: 7.69 ms per loop\n"
     ]
    }
   ],
   "source": [
    "%%timeit\n",
    "mass_numba(pt1, pt2, eta1, eta2, phi1, phi2, out)"
   ]
  },
  {
   "cell_type": "markdown",
   "metadata": {
    "slideshow": {
     "slide_type": "slide"
    }
   },
   "source": [
    "Numba can compile most Python control structures and infers data types from the arguments of the function the first time it's called. (Each call with different argument types triggers a new compilation. The compilation process is invisible: no commands to forget.)\n",
    "\n",
    "Use it to speed up a slow loop without rewriting everything (or confusing reviewers of your analysis with indirection to other languages or files).\n",
    "\n",
    "However:\n",
    "\n",
    "   * It's compiled, so all types must be known before runtime. Code that depends on changing the type of a variable won't compile (as in C++).\n",
    "   * Numba doesn't recognize all data types in `nopython=True` mode. Without that, it falls back to slower but general Python where necessary.\n",
    "   * If `nopython=True`, it mostly recognizes arrays and numbers, but this is the part of your code that can benefit most from speeding up."
   ]
  },
  {
   "cell_type": "markdown",
   "metadata": {
    "slideshow": {
     "slide_type": "slide"
    }
   },
   "source": [
    "# OAMap: object-array mapping"
   ]
  },
  {
   "cell_type": "markdown",
   "metadata": {
    "slideshow": {
     "slide_type": "slide"
    }
   },
   "source": [
    "ROOT files (usually) store data as arrays of numbers. ROOT rebuilds an object for each event; uproot doesn't."
   ]
  },
  {
   "cell_type": "code",
   "execution_count": null,
   "metadata": {},
   "outputs": [],
   "source": [
    "tree = uproot.open(\"~/data/NanoAOD-DYJetsToLL.root\")[\"Events\"]\n",
    "print(repr(tree.array(\"Jet_pt\")))\n",
    "print(repr(tree.array(\"Jet_eta\")))"
   ]
  },
  {
   "cell_type": "code",
   "execution_count": null,
   "metadata": {
    "slideshow": {
     "slide_type": "fragment"
    }
   },
   "outputs": [],
   "source": [
    "print(repr(tree.array(\"Jet_pt\").offsets))\n",
    "print(repr(tree.array(\"Jet_pt\").content))"
   ]
  },
  {
   "cell_type": "markdown",
   "metadata": {
    "slideshow": {
     "slide_type": "slide"
    }
   },
   "source": [
    "Instead of rebuilding the whole event object, OAMap leaves data as arrays but rebuilds objects on demand (proxy objects)."
   ]
  },
  {
   "cell_type": "code",
   "execution_count": 4,
   "metadata": {
    "slideshow": {
     "slide_type": "-"
    }
   },
   "outputs": [
    {
     "data": {
      "text/plain": [
       "[<Event at index 0>, <Event at index 1>, <Event at index 2>, <Event at index 3>, <Event at index 4>, ..., <Event at index 1910347>, <Event at index 1910348>, <Event at index 1910349>, <Event at index 1910350>, <Event at index 1910351>]"
      ]
     },
     "execution_count": 4,
     "metadata": {},
     "output_type": "execute_result"
    }
   ],
   "source": [
    "events = oamap.backend.root.cmsnano.proxy(\"~/data/NanoAOD-DYJetsToLL.root\")\n",
    "events"
   ]
  },
  {
   "cell_type": "code",
   "execution_count": null,
   "metadata": {
    "slideshow": {
     "slide_type": "fragment"
    }
   },
   "outputs": [],
   "source": [
    "events[1].Jet"
   ]
  },
  {
   "cell_type": "code",
   "execution_count": null,
   "metadata": {
    "slideshow": {
     "slide_type": "fragment"
    }
   },
   "outputs": [],
   "source": [
    "events[1].Jet[0].pt"
   ]
  },
  {
   "cell_type": "markdown",
   "metadata": {
    "slideshow": {
     "slide_type": "slide"
    }
   },
   "source": [
    "And if one of these proxies enters a compiled section of code, we don't have to make any objects at all. Data references like `events[1].Jet[0].pt` are translated into array lookups.\n",
    "\n",
    "OAMap optimization has been implemented as a Numba extension."
   ]
  },
  {
   "cell_type": "code",
   "execution_count": 27,
   "metadata": {},
   "outputs": [],
   "source": [
    "@numba.jit(nopython=True)\n",
    "def mass_oamap(events, out):\n",
    "    i = 0\n",
    "    for event in events:            # yay! for loop!\n",
    "        if len(event.Muon) >= 2:    # yay! if statement!\n",
    "            mu1 = event.Muon[0]\n",
    "            mu2 = event.Muon[1]\n",
    "            out[i] = math.sqrt(2*mu1.pt*mu2.pt*(math.cosh(mu1.eta - mu2.eta) - math.cos(mu1.phi - mu2.phi)))\n",
    "            i += 1"
   ]
  },
  {
   "cell_type": "code",
   "execution_count": 28,
   "metadata": {
    "scrolled": true
   },
   "outputs": [
    {
     "name": "stdout",
     "output_type": "stream",
     "text": [
      "The slowest run took 9.25 times longer than the fastest. This could mean that an intermediate result is being cached.\n",
      "1 loop, best of 3: 22.6 ms per loop\n"
     ]
    }
   ],
   "source": [
    "%%timeit\n",
    "mass_oamap(events, out)"
   ]
  },
  {
   "cell_type": "code",
   "execution_count": 19,
   "metadata": {
    "slideshow": {
     "slide_type": "skip"
    }
   },
   "outputs": [],
   "source": [
    "def mass_equivalent_numpy(starts, stops, pt, eta, phi, out):\n",
    "    # the _equivalent_ Numpy has to find the first and second item in each event\n",
    "    has2muons = stops - starts >= 2\n",
    "    firsts = starts[has2muons]\n",
    "    seconds = starts[has2muons] + 1\n",
    "    pt1, pt2 = pt[firsts], pt[seconds]\n",
    "    eta1, eta2 = eta[firsts], eta[seconds]\n",
    "    phi1, phi2 = phi[firsts], phi[seconds]\n",
    "    out[:] = numpy.sqrt(2*pt1*pt2*(numpy.cosh(eta1 - eta2) - numpy.cos(phi1 - phi2)))"
   ]
  },
  {
   "cell_type": "code",
   "execution_count": 20,
   "metadata": {
    "slideshow": {
     "slide_type": "skip"
    }
   },
   "outputs": [
    {
     "name": "stdout",
     "output_type": "stream",
     "text": [
      "10 loops, best of 3: 26.1 ms per loop\n"
     ]
    }
   ],
   "source": [
    "%%timeit\n",
    "mass_equivalent_numpy(starts, stops, pt, eta, phi, out)"
   ]
  },
  {
   "cell_type": "markdown",
   "metadata": {
    "slideshow": {
     "slide_type": "fragment"
    }
   },
   "source": [
    "(As fast as the equivalent Numpy and 1070 times faster than Python.)"
   ]
  },
  {
   "cell_type": "code",
   "execution_count": null,
   "metadata": {
    "slideshow": {
     "slide_type": "slide"
    }
   },
   "outputs": [],
   "source": []
  }
 ],
 "metadata": {
  "celltoolbar": "Slideshow",
  "kernelspec": {
   "display_name": "Python 2",
   "language": "python",
   "name": "python2"
  },
  "language_info": {
   "codemirror_mode": {
    "name": "ipython",
    "version": 2
   },
   "file_extension": ".py",
   "mimetype": "text/x-python",
   "name": "python",
   "nbconvert_exporter": "python",
   "pygments_lexer": "ipython2",
   "version": "2.7.5"
  }
 },
 "nbformat": 4,
 "nbformat_minor": 2
}
