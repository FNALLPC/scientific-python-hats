{
 "cells": [
  {
   "cell_type": "markdown",
   "metadata": {
    "slideshow": {
     "slide_type": "slide"
    }
   },
   "source": [
    "# Numpy basics"
   ]
  },
  {
   "cell_type": "markdown",
   "metadata": {
    "slideshow": {
     "slide_type": "slide"
    }
   },
   "source": [
    "As a reminder, objects in Python (including numbers!) are abstract and dynamic:\n",
    "\n",
    "   * you don't know where they are in memory (pointer address); could be anywhere\n",
    "   * you don't know how they're represented in terms of bytes\n",
    "   * data types, member data, function arguments, etc. are checked at the last possible moment"
   ]
  },
  {
   "cell_type": "markdown",
   "metadata": {
    "slideshow": {
     "slide_type": "slide"
    }
   },
   "source": [
    "And so they are slow."
   ]
  },
  {
   "cell_type": "code",
   "execution_count": 1,
   "metadata": {
    "slideshow": {
     "slide_type": "-"
    }
   },
   "outputs": [],
   "source": [
    "import random\n",
    "data = []\n",
    "for i in range(1000000):\n",
    "    data.append(random.gauss(0, 1))"
   ]
  },
  {
   "cell_type": "code",
   "execution_count": 2,
   "metadata": {
    "slideshow": {
     "slide_type": "-"
    }
   },
   "outputs": [
    {
     "name": "stdout",
     "output_type": "stream",
     "text": [
      "1 loop, best of 3: 147 ms per loop\n"
     ]
    }
   ],
   "source": [
    "%%timeit\n",
    "data2 = []\n",
    "for x in data:\n",
    "    data2.append(x**2)"
   ]
  },
  {
   "cell_type": "markdown",
   "metadata": {
    "slideshow": {
     "slide_type": "fragment"
    }
   },
   "source": [
    "But Numpy isn't."
   ]
  },
  {
   "cell_type": "code",
   "execution_count": 3,
   "metadata": {
    "slideshow": {
     "slide_type": "-"
    }
   },
   "outputs": [],
   "source": [
    "import numpy\n",
    "data = numpy.random.normal(0, 1, 1000000)"
   ]
  },
  {
   "cell_type": "code",
   "execution_count": 5,
   "metadata": {
    "slideshow": {
     "slide_type": "-"
    }
   },
   "outputs": [
    {
     "name": "stdout",
     "output_type": "stream",
     "text": [
      "1000 loops, best of 3: 601 µs per loop\n"
     ]
    }
   ],
   "source": [
    "%%timeit\n",
    "data2 = data**2"
   ]
  },
  {
   "cell_type": "markdown",
   "metadata": {
    "slideshow": {
     "slide_type": "slide"
    }
   },
   "source": [
    "**How does it work?**\n",
    "\n",
    "A Numpy array is everything a list of Python objects is not:\n",
    "\n",
    "   * the data are known to be contiguous in memory (sequential access is important!)\n",
    "   * you can directly access and manipulate their bytes\n",
    "   * the data type of an array is specified once for the whole array\n",
    "   * *bonus:* most methods benefit from hardware vectorization\n",
    "   * *bonus:* all methods release Python's interpreter lock, so parallel threads can run at the same time\n",
    "   * *bonus:* without a type pointer for each object, numbers use less memory"
   ]
  },
  {
   "cell_type": "markdown",
   "metadata": {
    "slideshow": {
     "slide_type": "slide"
    }
   },
   "source": [
    "Numpy encourages a different order of operations: instead of processing a table of data one event at a time, it only helps if you process one operation (for all events) at a time."
   ]
  },
  {
   "cell_type": "code",
   "execution_count": 6,
   "metadata": {
    "slideshow": {
     "slide_type": "-"
    }
   },
   "outputs": [],
   "source": [
    "px = numpy.random.normal(0, 30, 100000)\n",
    "py = numpy.random.normal(0, 30, 100000)\n",
    "pz = numpy.random.normal(0, 300, 100000)"
   ]
  },
  {
   "cell_type": "markdown",
   "metadata": {
    "slideshow": {
     "slide_type": "-"
    }
   },
   "source": [
    "Instead of"
   ]
  },
  {
   "cell_type": "code",
   "execution_count": 7,
   "metadata": {
    "slideshow": {
     "slide_type": "-"
    }
   },
   "outputs": [
    {
     "name": "stdout",
     "output_type": "stream",
     "text": [
      "1 loop, best of 3: 227 ms per loop\n"
     ]
    }
   ],
   "source": [
    "%%timeit\n",
    "p = numpy.empty(100000)\n",
    "for i in range(len(p)):                                   # for each px[i], py[i], pz[i]\n",
    "    p[i] = numpy.sqrt(px[i]**2 + py[i]**2 + pz[i]**2)     # compute p[i]"
   ]
  },
  {
   "cell_type": "markdown",
   "metadata": {
    "slideshow": {
     "slide_type": "-"
    }
   },
   "source": [
    "do"
   ]
  },
  {
   "cell_type": "code",
   "execution_count": 8,
   "metadata": {
    "slideshow": {
     "slide_type": "-"
    }
   },
   "outputs": [
    {
     "name": "stdout",
     "output_type": "stream",
     "text": [
      "1000 loops, best of 3: 535 µs per loop\n"
     ]
    }
   ],
   "source": [
    "%%timeit\n",
    "p = numpy.sqrt(px**2 + py**2 + pz**2)       # compute all px**2, then all py**2, then all pz**2, then sum all, then sqrt all"
   ]
  },
  {
   "cell_type": "markdown",
   "metadata": {
    "slideshow": {
     "slide_type": "slide"
    }
   },
   "source": [
    "Normal math functions are *scalar* (e.g. binary operators like `+` or functions from `import math`). They perform one operation each time they appear in Python.\n",
    "\n",
    "Numpy math functions are *vectorized.* Given equal-length arrays as input, they return the same length array as output, performing all loops in compiled C or even vectorized across a CPU. (Some implementations perform the work in parallel or on a GPU, but not the default one.)"
   ]
  },
  {
   "cell_type": "code",
   "execution_count": 9,
   "metadata": {
    "slideshow": {
     "slide_type": "fragment"
    }
   },
   "outputs": [],
   "source": [
    "small_array = numpy.array([0, 1, 2, 3, 4, 5, 6, 7, 8, 9])"
   ]
  },
  {
   "cell_type": "code",
   "execution_count": 10,
   "metadata": {
    "slideshow": {
     "slide_type": "-"
    }
   },
   "outputs": [
    {
     "data": {
      "text/plain": [
       "array([ 0,  1,  4,  9, 16, 25, 36, 49, 64, 81])"
      ]
     },
     "execution_count": 10,
     "metadata": {},
     "output_type": "execute_result"
    }
   ],
   "source": [
    "small_array**2"
   ]
  },
  {
   "cell_type": "code",
   "execution_count": 11,
   "metadata": {
    "slideshow": {
     "slide_type": "-"
    }
   },
   "outputs": [
    {
     "data": {
      "text/plain": [
       "array([0.        , 1.        , 1.41421356, 1.73205081, 2.        ,\n",
       "       2.23606798, 2.44948974, 2.64575131, 2.82842712, 3.        ])"
      ]
     },
     "execution_count": 11,
     "metadata": {},
     "output_type": "execute_result"
    }
   ],
   "source": [
    "numpy.sqrt(small_array)"
   ]
  },
  {
   "cell_type": "code",
   "execution_count": 15,
   "metadata": {
    "slideshow": {
     "slide_type": "-"
    }
   },
   "outputs": [
    {
     "ename": "TypeError",
     "evalue": "only size-1 arrays can be converted to Python scalars",
     "output_type": "error",
     "traceback": [
      "\u001b[0;31m\u001b[0m",
      "\u001b[0;31mTypeError\u001b[0mTraceback (most recent call last)",
      "\u001b[0;32m<ipython-input-15-8aab9234cbe1>\u001b[0m in \u001b[0;36m<module>\u001b[0;34m()\u001b[0m\n\u001b[1;32m      1\u001b[0m \u001b[0;32mimport\u001b[0m \u001b[0mmath\u001b[0m\u001b[0;34m\u001b[0m\u001b[0m\n\u001b[0;32m----> 2\u001b[0;31m \u001b[0mmath\u001b[0m\u001b[0;34m.\u001b[0m\u001b[0msqrt\u001b[0m\u001b[0;34m(\u001b[0m\u001b[0msmall_array\u001b[0m\u001b[0;34m)\u001b[0m\u001b[0;34m\u001b[0m\u001b[0m\n\u001b[0m",
      "\u001b[0;31mTypeError\u001b[0m: only size-1 arrays can be converted to Python scalars"
     ]
    }
   ],
   "source": [
    "import math\n",
    "math.sqrt(small_array)"
   ]
  },
  {
   "cell_type": "markdown",
   "metadata": {
    "slideshow": {
     "slide_type": "slide"
    }
   },
   "source": [
    "They are raw bytes; you can do whatever you want with them."
   ]
  },
  {
   "cell_type": "code",
   "execution_count": 16,
   "metadata": {
    "slideshow": {
     "slide_type": "fragment"
    }
   },
   "outputs": [
    {
     "data": {
      "text/plain": [
       "array([0, 0, 0, 0, 0, 0, 0, 0, 1, 0, 0, 0, 0, 0, 0, 0, 2, 0, 0, 0, 0, 0,\n",
       "       0, 0, 3, 0, 0, 0, 0, 0, 0, 0, 4, 0, 0, 0, 0, 0, 0, 0, 5, 0, 0, 0,\n",
       "       0, 0, 0, 0, 6, 0, 0, 0, 0, 0, 0, 0, 7, 0, 0, 0, 0, 0, 0, 0, 8, 0,\n",
       "       0, 0, 0, 0, 0, 0, 9, 0, 0, 0, 0, 0, 0, 0], dtype=uint8)"
      ]
     },
     "execution_count": 16,
     "metadata": {},
     "output_type": "execute_result"
    }
   ],
   "source": [
    "asbytes = small_array.view(numpy.uint8)\n",
    "asbytes"
   ]
  },
  {
   "cell_type": "code",
   "execution_count": 17,
   "metadata": {
    "slideshow": {
     "slide_type": "fragment"
    }
   },
   "outputs": [
    {
     "data": {
      "text/plain": [
       "array([           0,            1, 528280977410,            3,\n",
       "                  4,            5,            6,            7,\n",
       "                  8,            9])"
      ]
     },
     "execution_count": 17,
     "metadata": {},
     "output_type": "execute_result"
    }
   ],
   "source": [
    "asbytes[20] = 123\n",
    "small_array"
   ]
  },
  {
   "cell_type": "markdown",
   "metadata": {
    "slideshow": {
     "slide_type": "slide"
    }
   },
   "source": [
    "They may have arbitrarily many dimensions. Changing the dimensions (in a way that keeps the total number of items constant) *does not change the underlying data.*"
   ]
  },
  {
   "cell_type": "code",
   "execution_count": 23,
   "metadata": {
    "slideshow": {
     "slide_type": "-"
    }
   },
   "outputs": [
    {
     "data": {
      "text/plain": [
       "array([[           0,            1],\n",
       "       [528280977410,            3],\n",
       "       [           4,            5],\n",
       "       [           6,            7],\n",
       "       [           8,            9]])"
      ]
     },
     "execution_count": 23,
     "metadata": {},
     "output_type": "execute_result"
    }
   ],
   "source": [
    "small_array.reshape(5, 2)"
   ]
  },
  {
   "cell_type": "markdown",
   "metadata": {
    "slideshow": {
     "slide_type": "slide"
    }
   },
   "source": [
    "The columns can be named, making it easy to swap array-of-structs with struct-of-arrays. (A `recarray` is literally the same as "
   ]
  },
  {
   "cell_type": "code",
   "execution_count": 25,
   "metadata": {
    "slideshow": {
     "slide_type": "-"
    }
   },
   "outputs": [
    {
     "data": {
      "text/plain": [
       "array([(           0, 1), (528280977410, 3), (           4, 5),\n",
       "       (           6, 7), (           8, 9)],\n",
       "      dtype=[('one', '<i8'), ('two', '<i8')])"
      ]
     },
     "execution_count": 25,
     "metadata": {},
     "output_type": "execute_result"
    }
   ],
   "source": [
    "recarray = small_array.view([(\"one\", int), (\"two\", int)])\n",
    "recarray"
   ]
  },
  {
   "cell_type": "code",
   "execution_count": 26,
   "metadata": {
    "slideshow": {
     "slide_type": "fragment"
    }
   },
   "outputs": [
    {
     "data": {
      "text/plain": [
       "array([           0, 528280977410,            4,            6,\n",
       "                  8])"
      ]
     },
     "execution_count": 26,
     "metadata": {},
     "output_type": "execute_result"
    }
   ],
   "source": [
    "recarray[\"one\"]"
   ]
  },
  {
   "cell_type": "code",
   "execution_count": 27,
   "metadata": {},
   "outputs": [
    {
     "data": {
      "text/plain": [
       "array([1, 3, 5, 7, 9])"
      ]
     },
     "execution_count": 27,
     "metadata": {},
     "output_type": "execute_result"
    }
   ],
   "source": [
    "recarray[\"two\"]"
   ]
  },
  {
   "cell_type": "code",
   "execution_count": 29,
   "metadata": {},
   "outputs": [
    {
     "data": {
      "text/plain": [
       "(4, 5)"
      ]
     },
     "execution_count": 29,
     "metadata": {},
     "output_type": "execute_result"
    }
   ],
   "source": [
    "recarray[2]"
   ]
  },
  {
   "cell_type": "markdown",
   "metadata": {
    "slideshow": {
     "slide_type": "slide"
    }
   },
   "source": [
    "Numpy arrays follow the same \"slicing\" rules as Python lists, though slicing becomes more important because it's much faster than iterating."
   ]
  },
  {
   "cell_type": "code",
   "execution_count": 30,
   "metadata": {},
   "outputs": [
    {
     "data": {
      "text/plain": [
       "array([4, 5, 6, 7])"
      ]
     },
     "execution_count": 30,
     "metadata": {},
     "output_type": "execute_result"
    }
   ],
   "source": [
    "small_array[4:-2]"
   ]
  },
  {
   "cell_type": "markdown",
   "metadata": {
    "slideshow": {
     "slide_type": "fragment"
    }
   },
   "source": [
    "But they also have new rules, such as masking by an array of booleans:"
   ]
  },
  {
   "cell_type": "code",
   "execution_count": 31,
   "metadata": {},
   "outputs": [
    {
     "data": {
      "text/plain": [
       "array([0, 1, 5, 7])"
      ]
     },
     "execution_count": 31,
     "metadata": {},
     "output_type": "execute_result"
    }
   ],
   "source": [
    "mask = numpy.array([True, True, False, False, False, True, False, True, False, False])\n",
    "small_array[mask]"
   ]
  },
  {
   "cell_type": "code",
   "execution_count": 32,
   "metadata": {
    "slideshow": {
     "slide_type": "fragment"
    }
   },
   "outputs": [
    {
     "data": {
      "text/plain": [
       "array([        1000,         1001, 528280977410,            3,\n",
       "                  4,         1005,            6,         1007,\n",
       "                  8,            9])"
      ]
     },
     "execution_count": 32,
     "metadata": {},
     "output_type": "execute_result"
    }
   ],
   "source": [
    "small_array[mask] = numpy.array([1000, 1001, 1005, 1007])\n",
    "small_array"
   ]
  },
  {
   "cell_type": "markdown",
   "metadata": {
    "slideshow": {
     "slide_type": "slide"
    }
   },
   "source": [
    "And \"fancy indexing\": using an array of indexes to filter and potentially reorder an array:"
   ]
  },
  {
   "cell_type": "code",
   "execution_count": 33,
   "metadata": {},
   "outputs": [
    {
     "data": {
      "text/plain": [
       "array([1007, 1005, 1001, 1000])"
      ]
     },
     "execution_count": 33,
     "metadata": {},
     "output_type": "execute_result"
    }
   ],
   "source": [
    "indexes = numpy.array([7, 5, 1, 0])\n",
    "small_array[indexes]"
   ]
  },
  {
   "cell_type": "code",
   "execution_count": 34,
   "metadata": {},
   "outputs": [
    {
     "data": {
      "text/plain": [
       "array([         999,          999, 528280977410,            3,\n",
       "                  4,          999,            6,          999,\n",
       "                  8,            9])"
      ]
     },
     "execution_count": 34,
     "metadata": {},
     "output_type": "execute_result"
    }
   ],
   "source": [
    "small_array[indexes] = 999\n",
    "small_array"
   ]
  },
  {
   "cell_type": "markdown",
   "metadata": {
    "slideshow": {
     "slide_type": "slide"
    }
   },
   "source": [
    "As in C/C++, you have to be very careful about what returns a view versus what returns a copy:\n",
    "\n",
    "   * **view:** the new array is a pointer to the same data as the old array; it's faster (does not scale with the size of the array) and changes to the new array affect the old array. There are times when you want that; times when you don't.\n",
    "   * **copy:** the new array is detached from the old; it's slower to create (sometimes insignificant), and changes to the new array have no effect on the old array."
   ]
  },
  {
   "cell_type": "markdown",
   "metadata": {
    "slideshow": {
     "slide_type": "fragment"
    }
   },
   "source": [
    "The `base` attribute of a view is a reference to the array the view views."
   ]
  },
  {
   "cell_type": "code",
   "execution_count": 38,
   "metadata": {},
   "outputs": [
    {
     "name": "stdout",
     "output_type": "stream",
     "text": [
      "[         999          999 528280977410            3            4\n",
      "          999            6          999            8            9]\n"
     ]
    }
   ],
   "source": [
    "view = small_array[4:-2]\n",
    "copy = small_array[4:-2].copy()\n",
    "\n",
    "print(view.base)"
   ]
  },
  {
   "cell_type": "markdown",
   "metadata": {
    "slideshow": {
     "slide_type": "slide"
    }
   },
   "source": [
    "Let's apply vectorized functions and fancy indexing to a real physics problem. Suppose that you're given an array of `Jet_pt`, an array of `Jet_eta`, and an array of indexes in which each event starts and stops:"
   ]
  },
  {
   "cell_type": "code",
   "execution_count": 39,
   "metadata": {},
   "outputs": [],
   "source": [
    "import uproot\n",
    "tree = uproot.open(\"~/data/NanoAOD-DYJetsToLL.root\")[\"Events\"]\n",
    "pt, eta = tree.arrays([\"Jet_pt\", \"Jet_eta\"], outputtype=tuple)\n",
    "starts, stops = pt.starts, pt.stops\n",
    "pt = numpy.array(pt)\n",
    "eta = numpy.array(eta)"
   ]
  },
  {
   "cell_type": "code",
   "execution_count": 40,
   "metadata": {},
   "outputs": [
    {
     "name": "stdout",
     "output_type": "stream",
     "text": [
      "[      0       0       5 ... 7388387 7388390 7388396]\n",
      "[      0       5       9 ... 7388390 7388396 7388405]\n",
      "[29.96875  21.3125   19.671875 ... 16.78125  16.28125  16.25    ]\n",
      "[-1.880127   3.0981445 -2.9746094 ... -3.5615234  4.625      0.5806885]\n"
     ]
    }
   ],
   "source": [
    "print(starts)   # the first event has no jets because starts[0] == stops[0]\n",
    "print(stops)\n",
    "print(pt)       # pt[0:5] are for jets in the second event\n",
    "print(eta)      # eta[0:5] are for jets in the second event, etc."
   ]
  },
  {
   "cell_type": "markdown",
   "metadata": {
    "slideshow": {
     "slide_type": "slide"
    }
   },
   "source": [
    "**Question 1:** How do we find the events with at least one jet?"
   ]
  },
  {
   "cell_type": "code",
   "execution_count": null,
   "metadata": {},
   "outputs": [],
   "source": [
    "hasajet = ???                   # want array of booleans: tell me what to type!\n",
    "hasajet"
   ]
  },
  {
   "cell_type": "markdown",
   "metadata": {
    "slideshow": {
     "slide_type": "fragment"
    }
   },
   "source": [
    "**Question 2:** How do we compute `pz = pt*sinh(eta)` for the first jet in each event?"
   ]
  },
  {
   "cell_type": "code",
   "execution_count": null,
   "metadata": {},
   "outputs": [],
   "source": [
    "indexes = ???                   # want array of integers: tell me what to type!\n",
    "pz = ???                        # want array of floats: tell me what to type!\n",
    "pz"
   ]
  },
  {
   "cell_type": "markdown",
   "metadata": {
    "slideshow": {
     "slide_type": "slide"
    }
   },
   "source": [
    "Most scientific libraries for Python do the number-crunching in C/C++ and the interface in Python. (One tends to see problems separated into \"slow control\" and \"fast math.\") Numpy is the common language that makes it possible to move data from one to another.\n",
    "\n",
    "Even if a software package isn't Numpy-native but does know about C arrays, you can work with it."
   ]
  },
  {
   "cell_type": "code",
   "execution_count": 41,
   "metadata": {
    "slideshow": {
     "slide_type": "fragment"
    }
   },
   "outputs": [
    {
     "ename": "ImportError",
     "evalue": "No module named ROOT",
     "output_type": "error",
     "traceback": [
      "\u001b[0;31m\u001b[0m",
      "\u001b[0;31mImportError\u001b[0mTraceback (most recent call last)",
      "\u001b[0;32m<ipython-input-41-c85fbdef70b6>\u001b[0m in \u001b[0;36m<module>\u001b[0;34m()\u001b[0m\n\u001b[0;32m----> 1\u001b[0;31m \u001b[0;32mimport\u001b[0m \u001b[0mROOT\u001b[0m\u001b[0;34m\u001b[0m\u001b[0m\n\u001b[0m\u001b[1;32m      2\u001b[0m ROOT.gInterpreter.Declare(\"\"\"\n\u001b[1;32m      3\u001b[0m void computemass(int n, float pt1, pt2, eta1, eta2, phi1, phi2, out) {\n\u001b[1;32m      4\u001b[0m     \u001b[0mTLorentzVector\u001b[0m \u001b[0mone\u001b[0m\u001b[0;34m,\u001b[0m \u001b[0mtwo\u001b[0m\u001b[0;34m;\u001b[0m\u001b[0;34m\u001b[0m\u001b[0m\n\u001b[1;32m      5\u001b[0m     for (int i = 0;  i < n;  i++) {\n",
      "\u001b[0;31mImportError\u001b[0m: No module named ROOT"
     ]
    }
   ],
   "source": [
    "import ROOT\n",
    "ROOT.gInterpreter.Declare(\"\"\"\n",
    "void computemass(int n, float pt1, pt2, eta1, eta2, phi1, phi2, out) {\n",
    "    TLorentzVector one, two;\n",
    "    for (int i = 0;  i < n;  i++) {\n",
    "        one.SetPtEtaPhiM(pt1[i], eta1[i], phi1[i], 0.1056583745);\n",
    "        two.SetPtEtaPhiM(pt2[i], eta2[i], phi2[i], 0.1056583745);\n",
    "        out[i] = (one + two).M();\n",
    "    }\n",
    "}\"\"\")"
   ]
  },
  {
   "cell_type": "code",
   "execution_count": 42,
   "metadata": {},
   "outputs": [
    {
     "data": {
      "text/plain": [
       "4"
      ]
     },
     "execution_count": 42,
     "metadata": {},
     "output_type": "execute_result"
    }
   ],
   "source": [
    "2 + 2"
   ]
  },
  {
   "cell_type": "code",
   "execution_count": null,
   "metadata": {},
   "outputs": [],
   "source": []
  }
 ],
 "metadata": {
  "celltoolbar": "Slideshow",
  "kernelspec": {
   "display_name": "Python 2",
   "language": "python",
   "name": "python2"
  },
  "language_info": {
   "codemirror_mode": {
    "name": "ipython",
    "version": 2
   },
   "file_extension": ".py",
   "mimetype": "text/x-python",
   "name": "python",
   "nbconvert_exporter": "python",
   "pygments_lexer": "ipython2",
   "version": "2.7.5"
  }
 },
 "nbformat": 4,
 "nbformat_minor": 2
}
