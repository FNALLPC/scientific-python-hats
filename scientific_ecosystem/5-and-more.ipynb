{
 "cells": [
  {
   "cell_type": "markdown",
   "metadata": {
    "slideshow": {
     "slide_type": "slide"
    }
   },
   "source": [
    "# SymPy"
   ]
  },
  {
   "cell_type": "markdown",
   "metadata": {
    "slideshow": {
     "slide_type": "slide"
    }
   },
   "source": [
    "You can do Mathematica-style symbolic algebra in the same environment as data processing."
   ]
  },
  {
   "cell_type": "code",
   "execution_count": null,
   "metadata": {},
   "outputs": [],
   "source": [
    "import sympy\n",
    "sympy.init_printing()"
   ]
  },
  {
   "cell_type": "code",
   "execution_count": null,
   "metadata": {},
   "outputs": [],
   "source": [
    "E1, px1, py1, pz1, eta1, phi1 = sympy.symbols(\"E1, px1, py1, pz1, eta1, phi1\", real=True)\n",
    "E2, px2, py2, pz2, eta2, phi2 = sympy.symbols(\"E2, px2, py2, pz2, eta2, phi2\", real=True)\n",
    "pt1, pt2 = sympy.symbols(\"pt1, pt2\", nonnegative=True)"
   ]
  },
  {
   "cell_type": "code",
   "execution_count": null,
   "metadata": {
    "slideshow": {
     "slide_type": "fragment"
    }
   },
   "outputs": [],
   "source": [
    "pt1eq = sympy.Eq(pt1, sympy.sqrt(px1**2 + py1**2))\n",
    "pt2eq = sympy.Eq(pt2, sympy.sqrt(px2**2 + py2**2))\n",
    "pt1eq"
   ]
  },
  {
   "cell_type": "code",
   "execution_count": null,
   "metadata": {},
   "outputs": [],
   "source": [
    "eta1eq = sympy.Eq(eta1, sympy.atanh(pz1 / sympy.sqrt(px1**2 + py1**2 + pz1**2)))\n",
    "eta2eq = sympy.Eq(eta2, sympy.atanh(pz2 / sympy.sqrt(px2**2 + py2**2 + pz2**2)))\n",
    "eta1eq"
   ]
  },
  {
   "cell_type": "code",
   "execution_count": null,
   "metadata": {},
   "outputs": [],
   "source": [
    "phi1eq = sympy.Eq(phi1, sympy.atan2(py1, px1))\n",
    "phi2eq = sympy.Eq(phi2, sympy.atan2(py2, px2))\n",
    "phi1eq"
   ]
  },
  {
   "cell_type": "markdown",
   "metadata": {
    "slideshow": {
     "slide_type": "slide"
    }
   },
   "source": [
    "Invert some non-linear identities."
   ]
  },
  {
   "cell_type": "code",
   "execution_count": null,
   "metadata": {},
   "outputs": [],
   "source": [
    "sympy.solve([pt1eq, eta1eq, phi1eq], px1, py1, pz1)"
   ]
  },
  {
   "cell_type": "markdown",
   "metadata": {
    "slideshow": {
     "slide_type": "fragment"
    }
   },
   "source": [
    "It's returning three solutions and is too pedantic about signs. I'll just read off the right transformations."
   ]
  },
  {
   "cell_type": "code",
   "execution_count": null,
   "metadata": {},
   "outputs": [],
   "source": [
    "mass = sympy.sqrt((E1 + E2)**2 - (px1 + px2)**2 - (py1 + py2)**2 - (pz1 + pz2)**2)\n",
    "mass"
   ]
  },
  {
   "cell_type": "code",
   "execution_count": null,
   "metadata": {},
   "outputs": [],
   "source": [
    "mass2 = sympy.trigsimp(mass.subs(px1, pt1*sympy.cos(phi1))\n",
    "                           .subs(py1, pt1*sympy.sin(phi1))\n",
    "                           .subs(pz1, pt1*sympy.sinh(eta1))\n",
    "                           .subs(px2, pt2*sympy.cos(phi2))\n",
    "                           .subs(py2, pt2*sympy.sin(phi2))\n",
    "                           .subs(pz2, pt2*sympy.sinh(eta2)))\n",
    "mass2"
   ]
  },
  {
   "cell_type": "markdown",
   "metadata": {
    "slideshow": {
     "slide_type": "slide"
    }
   },
   "source": [
    "A nice benefit of doing symbolic math in Python is that you can convert symbolic expressions into functions for your data analysis."
   ]
  },
  {
   "cell_type": "code",
   "execution_count": null,
   "metadata": {},
   "outputs": [],
   "source": [
    "f = sympy.lambdify([E1, pt1, eta1, phi1, E2, pt2, eta2, phi2], mass2, modules=[\"numpy\"])"
   ]
  },
  {
   "cell_type": "markdown",
   "metadata": {},
   "source": [
    "`f` is a function you can execute (evaluating as \"`numpy`\" rather than the default \"`math`\")."
   ]
  },
  {
   "cell_type": "code",
   "execution_count": null,
   "metadata": {},
   "outputs": [],
   "source": [
    "f(10, 8, 0, 0, 9, 7, 0, 0)"
   ]
  },
  {
   "cell_type": "markdown",
   "metadata": {
    "slideshow": {
     "slide_type": "slide"
    }
   },
   "source": [
    "# iminuit"
   ]
  },
  {
   "cell_type": "markdown",
   "metadata": {
    "slideshow": {
     "slide_type": "slide"
    }
   },
   "source": [
    "# GooFit"
   ]
  },
  {
   "cell_type": "markdown",
   "metadata": {
    "slideshow": {
     "slide_type": "slide"
    }
   },
   "source": [
    "# NumPythia"
   ]
  }
 ],
 "metadata": {
  "celltoolbar": "Slideshow",
  "kernelspec": {
   "display_name": "Python 2",
   "language": "python",
   "name": "python2"
  },
  "language_info": {
   "codemirror_mode": {
    "name": "ipython",
    "version": 2
   },
   "file_extension": ".py",
   "mimetype": "text/x-python",
   "name": "python",
   "nbconvert_exporter": "python",
   "pygments_lexer": "ipython2",
   "version": "2.7.5"
  }
 },
 "nbformat": 4,
 "nbformat_minor": 2
}
