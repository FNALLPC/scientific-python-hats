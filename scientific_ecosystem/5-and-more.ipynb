{
 "cells": [
  {
   "cell_type": "markdown",
   "metadata": {
    "slideshow": {
     "slide_type": "slide"
    }
   },
   "source": [
    "# SymPy"
   ]
  },
  {
   "cell_type": "markdown",
   "metadata": {
    "slideshow": {
     "slide_type": "slide"
    }
   },
   "source": [
    "You can do Mathematica-style symbolic algebra in the same environment as your data analysis."
   ]
  },
  {
   "cell_type": "code",
   "execution_count": null,
   "metadata": {
    "scrolled": true
   },
   "outputs": [],
   "source": [
    "!pip install sympy --user"
   ]
  },
  {
   "cell_type": "code",
   "execution_count": null,
   "metadata": {
    "scrolled": true
   },
   "outputs": [],
   "source": [
    "import sympy\n",
    "sympy.init_printing()"
   ]
  },
  {
   "cell_type": "code",
   "execution_count": null,
   "metadata": {
    "scrolled": true
   },
   "outputs": [],
   "source": [
    "E1, px1, py1, pz1, eta1, phi1 = sympy.symbols(\"E1, px1, py1, pz1, eta1, phi1\", real=True)\n",
    "E2, px2, py2, pz2, eta2, phi2 = sympy.symbols(\"E2, px2, py2, pz2, eta2, phi2\", real=True)\n",
    "pt1, pt2 = sympy.symbols(\"pt1, pt2\", nonnegative=True)"
   ]
  },
  {
   "cell_type": "code",
   "execution_count": null,
   "metadata": {
    "scrolled": true,
    "slideshow": {
     "slide_type": "fragment"
    }
   },
   "outputs": [],
   "source": [
    "pt1eq = sympy.Eq(pt1, sympy.sqrt(px1**2 + py1**2))\n",
    "pt2eq = sympy.Eq(pt2, sympy.sqrt(px2**2 + py2**2))\n",
    "pt1eq"
   ]
  },
  {
   "cell_type": "code",
   "execution_count": null,
   "metadata": {
    "scrolled": true
   },
   "outputs": [],
   "source": [
    "eta1eq = sympy.Eq(eta1, sympy.atanh(pz1 / sympy.sqrt(px1**2 + py1**2 + pz1**2)))\n",
    "eta2eq = sympy.Eq(eta2, sympy.atanh(pz2 / sympy.sqrt(px2**2 + py2**2 + pz2**2)))\n",
    "eta1eq"
   ]
  },
  {
   "cell_type": "code",
   "execution_count": null,
   "metadata": {
    "scrolled": true
   },
   "outputs": [],
   "source": [
    "phi1eq = sympy.Eq(phi1, sympy.atan2(py1, px1))\n",
    "phi2eq = sympy.Eq(phi2, sympy.atan2(py2, px2))\n",
    "phi1eq"
   ]
  },
  {
   "cell_type": "markdown",
   "metadata": {
    "slideshow": {
     "slide_type": "slide"
    }
   },
   "source": [
    "Invert some non-linear identities."
   ]
  },
  {
   "cell_type": "code",
   "execution_count": null,
   "metadata": {
    "scrolled": true
   },
   "outputs": [],
   "source": [
    "sympy.solve([pt1eq, eta1eq, phi1eq], px1, py1, pz1)"
   ]
  },
  {
   "cell_type": "markdown",
   "metadata": {
    "slideshow": {
     "slide_type": "fragment"
    }
   },
   "source": [
    "It's returning three solutions and is too pedantic about signs. I'll just read off the right transformations."
   ]
  },
  {
   "cell_type": "code",
   "execution_count": null,
   "metadata": {
    "scrolled": true
   },
   "outputs": [],
   "source": [
    "mass = sympy.sqrt((E1 + E2)**2 - (px1 + px2)**2 - (py1 + py2)**2 - (pz1 + pz2)**2)\n",
    "mass"
   ]
  },
  {
   "cell_type": "code",
   "execution_count": null,
   "metadata": {
    "scrolled": true
   },
   "outputs": [],
   "source": [
    "mass2 = sympy.trigsimp(mass.subs(px1, pt1*sympy.cos(phi1))\n",
    "                           .subs(py1, pt1*sympy.sin(phi1))\n",
    "                           .subs(pz1, pt1*sympy.sinh(eta1))\n",
    "                           .subs(px2, pt2*sympy.cos(phi2))\n",
    "                           .subs(py2, pt2*sympy.sin(phi2))\n",
    "                           .subs(pz2, pt2*sympy.sinh(eta2)))\n",
    "mass2"
   ]
  },
  {
   "cell_type": "markdown",
   "metadata": {
    "slideshow": {
     "slide_type": "slide"
    }
   },
   "source": [
    "A nice benefit of doing symbolic math in Python is that you can convert symbolic expressions into functions for your data analysis."
   ]
  },
  {
   "cell_type": "code",
   "execution_count": null,
   "metadata": {
    "scrolled": true
   },
   "outputs": [],
   "source": [
    "f = sympy.lambdify([E1, pt1, eta1, phi1, E2, pt2, eta2, phi2], mass2, modules=[\"numpy\"])"
   ]
  },
  {
   "cell_type": "markdown",
   "metadata": {},
   "source": [
    "`f` is a function you can execute (evaluating as \"`numpy`\" rather than the default \"`math`\")."
   ]
  },
  {
   "cell_type": "code",
   "execution_count": null,
   "metadata": {
    "scrolled": true
   },
   "outputs": [],
   "source": [
    "f(10, 8, 0, 0, 9, 7, 0, 0)"
   ]
  },
  {
   "cell_type": "markdown",
   "metadata": {
    "slideshow": {
     "slide_type": "slide"
    }
   },
   "source": [
    "# iminuit"
   ]
  },
  {
   "cell_type": "markdown",
   "metadata": {
    "slideshow": {
     "slide_type": "slide"
    }
   },
   "source": [
    "iminuit lets you fit functions in Python. It's a clone of PyMinuit, which I created to fit the data in my thesis.  `:)`\n",
    "\n",
    "The installation takes a minute or two— it's probably compiling MINUIT."
   ]
  },
  {
   "cell_type": "code",
   "execution_count": null,
   "metadata": {
    "scrolled": true
   },
   "outputs": [],
   "source": [
    "!pip install iminuit --user"
   ]
  },
  {
   "cell_type": "code",
   "execution_count": null,
   "metadata": {
    "scrolled": true
   },
   "outputs": [],
   "source": [
    "from iminuit import Minuit"
   ]
  },
  {
   "cell_type": "code",
   "execution_count": null,
   "metadata": {
    "scrolled": true,
    "slideshow": {
     "slide_type": "slide"
    }
   },
   "outputs": [],
   "source": [
    "def f(x, y, z):\n",
    "    return (x - 2)**2 + (y - 3)**2 + (z - 4)**2\n",
    "\n",
    "minuit = Minuit(f, x=0, y=0, z=0, error_x=1, error_y=1, error_z=1, errordef=1)\n",
    "minuit.migrad()\n",
    "minuit.minos()\n",
    "print(minuit.values)\n",
    "print(minuit.errors)\n",
    "print(minuit.get_merrors())"
   ]
  },
  {
   "cell_type": "markdown",
   "metadata": {
    "slideshow": {
     "slide_type": "slide"
    }
   },
   "source": [
    "There are also projects built on iminuit (it's becoming an ecosystem)."
   ]
  },
  {
   "cell_type": "code",
   "execution_count": null,
   "metadata": {
    "scrolled": true
   },
   "outputs": [],
   "source": [
    "!pip install probfit --user"
   ]
  },
  {
   "cell_type": "code",
   "execution_count": null,
   "metadata": {
    "scrolled": true
   },
   "outputs": [],
   "source": [
    "import numpy\n",
    "import probfit\n",
    "\n",
    "data = numpy.random.normal(0, 1, 10000)\n",
    "unbinned_likelihood = probfit.UnbinnedLH(probfit.gaussian, data)\n",
    "minuit = Minuit(unbinned_likelihood, mean=0.1, sigma=1.1)\n",
    "minuit.migrad()"
   ]
  },
  {
   "cell_type": "code",
   "execution_count": null,
   "metadata": {
    "scrolled": true,
    "slideshow": {
     "slide_type": "slide"
    }
   },
   "outputs": [],
   "source": [
    "!pip install matplotlib==2.0.2 --user"
   ]
  },
  {
   "cell_type": "code",
   "execution_count": null,
   "metadata": {},
   "outputs": [],
   "source": [
    "plot = unbinned_likelihood.draw(minuit)"
   ]
  },
  {
   "cell_type": "code",
   "execution_count": null,
   "metadata": {
    "slideshow": {
     "slide_type": "fragment"
    }
   },
   "outputs": [],
   "source": [
    "plot = minuit.draw_mnprofile(\"mean\")"
   ]
  },
  {
   "cell_type": "code",
   "execution_count": null,
   "metadata": {
    "scrolled": true,
    "slideshow": {
     "slide_type": "fragment"
    }
   },
   "outputs": [],
   "source": [
    "plot = minuit.draw_mncontour(\"mean\", \"sigma\")"
   ]
  },
  {
   "cell_type": "markdown",
   "metadata": {
    "slideshow": {
     "slide_type": "slide"
    }
   },
   "source": [
    "# NumPythia\n",
    "\n",
    "(I mostly like the name.)"
   ]
  },
  {
   "cell_type": "code",
   "execution_count": null,
   "metadata": {
    "scrolled": true,
    "slideshow": {
     "slide_type": "slide"
    }
   },
   "outputs": [],
   "source": [
    "!pip install numpythia --user"
   ]
  },
  {
   "cell_type": "code",
   "execution_count": null,
   "metadata": {
    "scrolled": true
   },
   "outputs": [],
   "source": [
    "import numpythia\n",
    "import numpythia.testcmnd\n",
    "import pandas\n",
    "\n",
    "pythia = numpythia.Pythia(numpythia.testcmnd.get_cmnd(\"w\"), random_state=1)"
   ]
  },
  {
   "cell_type": "code",
   "execution_count": null,
   "metadata": {
    "scrolled": true
   },
   "outputs": [],
   "source": [
    "events = list(pythia(events=1))    # pythia is a generator; evaluate it\n",
    "pandas.DataFrame(events[0].all())  # event.all(SELECTION) returns a Numpy record array, so of course we Pandas it"
   ]
  },
  {
   "cell_type": "markdown",
   "metadata": {
    "slideshow": {
     "slide_type": "slide"
    }
   },
   "source": [
    "# pyjet\n",
    "\n",
    "FastJet in Numpy"
   ]
  },
  {
   "cell_type": "code",
   "execution_count": null,
   "metadata": {
    "scrolled": true,
    "slideshow": {
     "slide_type": "slide"
    }
   },
   "outputs": [],
   "source": [
    "!pip install pyjet --user"
   ]
  },
  {
   "cell_type": "code",
   "execution_count": null,
   "metadata": {},
   "outputs": [],
   "source": [
    "import pyjet\n",
    "\n",
    "fourvectors = events[0].all()[[\"E\", \"px\", \"py\", \"pz\"]]\n",
    "for jet in pyjet.cluster(fourvectors, R=1.0, p=-1, ep=True).inclusive_jets():\n",
    "    print(jet)"
   ]
  },
  {
   "cell_type": "markdown",
   "metadata": {
    "slideshow": {
     "slide_type": "slide"
    }
   },
   "source": [
    "# PyPDT"
   ]
  },
  {
   "cell_type": "code",
   "execution_count": null,
   "metadata": {
    "slideshow": {
     "slide_type": "slide"
    }
   },
   "outputs": [],
   "source": [
    "!pip install pypdt --user"
   ]
  },
  {
   "cell_type": "code",
   "execution_count": null,
   "metadata": {
    "scrolled": true
   },
   "outputs": [],
   "source": [
    "import pypdt\n",
    "\n",
    "for pdgid in set(events[0].all()[\"pdgid\"]):\n",
    "    p = pypdt.get(pdgid)\n",
    "    if p is not None:\n",
    "        print(\"{}: {} mass: {} width {} lifetime {} ctau {}\".format(\n",
    "            pdgid, p.name, p.mass, p.width, p.lifetime, p.ctau))"
   ]
  }
 ],
 "metadata": {
  "celltoolbar": "Slideshow",
  "kernelspec": {
   "display_name": "Python 2",
   "language": "python",
   "name": "python2"
  },
  "language_info": {
   "codemirror_mode": {
    "name": "ipython",
    "version": 2
   },
   "file_extension": ".py",
   "mimetype": "text/x-python",
   "name": "python",
   "nbconvert_exporter": "python",
   "pygments_lexer": "ipython2",
   "version": "2.7.5"
  }
 },
 "nbformat": 4,
 "nbformat_minor": 2
}
