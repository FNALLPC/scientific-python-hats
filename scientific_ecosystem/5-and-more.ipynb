{
 "cells": [
  {
   "cell_type": "markdown",
   "metadata": {
    "slideshow": {
     "slide_type": "slide"
    }
   },
   "source": [
    "# SymPy"
   ]
  },
  {
   "cell_type": "markdown",
   "metadata": {
    "slideshow": {
     "slide_type": "slide"
    }
   },
   "source": [
    "You can do Mathematica-style symbolic algebra in the same environment as data processing."
   ]
  },
  {
   "cell_type": "code",
   "execution_count": 1,
   "metadata": {},
   "outputs": [],
   "source": [
    "import sympy\n",
    "sympy.init_printing()"
   ]
  },
  {
   "cell_type": "code",
   "execution_count": 2,
   "metadata": {},
   "outputs": [],
   "source": [
    "E1, px1, py1, pz1, eta1, phi1 = sympy.symbols(\"E1, px1, py1, pz1, eta1, phi1\", real=True)\n",
    "E2, px2, py2, pz2, eta2, phi2 = sympy.symbols(\"E2, px2, py2, pz2, eta2, phi2\", real=True)\n",
    "pt1, pt2 = sympy.symbols(\"pt1, pt2\", nonnegative=True)"
   ]
  },
  {
   "cell_type": "code",
   "execution_count": 3,
   "metadata": {
    "slideshow": {
     "slide_type": "fragment"
    }
   },
   "outputs": [
    {
     "data": {
      "text/latex": [
       "$$pt_{1} = \\sqrt{px_{1}^{2} + py_{1}^{2}}$$"
      ],
      "text/plain": [
       "         _____________\n",
       "        ╱    2      2 \n",
       "pt₁ = ╲╱  px₁  + py₁  "
      ]
     },
     "execution_count": 3,
     "metadata": {},
     "output_type": "execute_result"
    }
   ],
   "source": [
    "pt1eq = sympy.Eq(pt1, sympy.sqrt(px1**2 + py1**2))\n",
    "pt2eq = sympy.Eq(pt2, sympy.sqrt(px2**2 + py2**2))\n",
    "pt1eq"
   ]
  },
  {
   "cell_type": "code",
   "execution_count": 4,
   "metadata": {},
   "outputs": [
    {
     "data": {
      "text/latex": [
       "$$\\eta_{1} = \\operatorname{atanh}{\\left (\\frac{pz_{1}}{\\sqrt{px_{1}^{2} + py_{1}^{2} + pz_{1}^{2}}} \\right )}$$"
      ],
      "text/plain": [
       "          ⎛          pz₁          ⎞\n",
       "η₁ = atanh⎜───────────────────────⎟\n",
       "          ⎜   ____________________⎟\n",
       "          ⎜  ╱    2      2      2 ⎟\n",
       "          ⎝╲╱  px₁  + py₁  + pz₁  ⎠"
      ]
     },
     "execution_count": 4,
     "metadata": {},
     "output_type": "execute_result"
    }
   ],
   "source": [
    "eta1eq = sympy.Eq(eta1, sympy.atanh(pz1 / sympy.sqrt(px1**2 + py1**2 + pz1**2)))\n",
    "eta2eq = sympy.Eq(eta2, sympy.atanh(pz2 / sympy.sqrt(px2**2 + py2**2 + pz2**2)))\n",
    "eta1eq"
   ]
  },
  {
   "cell_type": "code",
   "execution_count": 5,
   "metadata": {},
   "outputs": [
    {
     "data": {
      "text/latex": [
       "$$\\phi_{1} = \\operatorname{atan_{2}}{\\left (py_{1},px_{1} \\right )}$$"
      ],
      "text/plain": [
       "φ₁ = atan2(py₁, px₁)"
      ]
     },
     "execution_count": 5,
     "metadata": {},
     "output_type": "execute_result"
    }
   ],
   "source": [
    "phi1eq = sympy.Eq(phi1, sympy.atan2(py1, px1))\n",
    "phi2eq = sympy.Eq(phi2, sympy.atan2(py2, px2))\n",
    "phi1eq"
   ]
  },
  {
   "cell_type": "markdown",
   "metadata": {
    "slideshow": {
     "slide_type": "slide"
    }
   },
   "source": [
    "Invert some non-linear identities."
   ]
  },
  {
   "cell_type": "code",
   "execution_count": 6,
   "metadata": {},
   "outputs": [
    {
     "data": {
      "text/latex": [
       "$$\\left [ \\left ( - pt_{1} \\left|{\\cos{\\left (\\phi_{1} \\right )}}\\right|, \\quad pt_{1} \\sin{\\left (\\phi_{1} \\right )}, \\quad - pt_{1} \\tanh{\\left (\\eta_{1} \\right )} \\left|{\\cosh{\\left (\\eta_{1} \\right )}}\\right|\\right ), \\quad \\left ( - pt_{1} \\left|{\\cos{\\left (\\phi_{1} \\right )}}\\right|, \\quad pt_{1} \\sin{\\left (\\phi_{1} \\right )}, \\quad pt_{1} \\tanh{\\left (\\eta_{1} \\right )} \\left|{\\cosh{\\left (\\eta_{1} \\right )}}\\right|\\right ), \\quad \\left ( pt_{1} \\left|{\\cos{\\left (\\phi_{1} \\right )}}\\right|, \\quad pt_{1} \\sin{\\left (\\phi_{1} \\right )}, \\quad - pt_{1} \\tanh{\\left (\\eta_{1} \\right )} \\left|{\\cosh{\\left (\\eta_{1} \\right )}}\\right|\\right ), \\quad \\left ( pt_{1} \\left|{\\cos{\\left (\\phi_{1} \\right )}}\\right|, \\quad pt_{1} \\sin{\\left (\\phi_{1} \\right )}, \\quad pt_{1} \\tanh{\\left (\\eta_{1} \\right )} \\left|{\\cosh{\\left (\\eta_{1} \\right )}}\\right|\\right )\\right ]$$"
      ],
      "text/plain": [
       "[(-pt₁⋅│cos(φ₁)│, pt₁⋅sin(φ₁), -pt₁⋅tanh(η₁)⋅│cosh(η₁)│), (-pt₁⋅│cos(φ₁)│, pt₁\n",
       "⋅sin(φ₁), pt₁⋅tanh(η₁)⋅│cosh(η₁)│), (pt₁⋅│cos(φ₁)│, pt₁⋅sin(φ₁), -pt₁⋅tanh(η₁)\n",
       "⋅│cosh(η₁)│), (pt₁⋅│cos(φ₁)│, pt₁⋅sin(φ₁), pt₁⋅tanh(η₁)⋅│cosh(η₁)│)]"
      ]
     },
     "execution_count": 6,
     "metadata": {},
     "output_type": "execute_result"
    }
   ],
   "source": [
    "sympy.solve([pt1eq, eta1eq, phi1eq], px1, py1, pz1)"
   ]
  },
  {
   "cell_type": "markdown",
   "metadata": {
    "slideshow": {
     "slide_type": "fragment"
    }
   },
   "source": [
    "It's returning three solutions and is too pedantic about signs. I'll just read off the right transformations."
   ]
  },
  {
   "cell_type": "code",
   "execution_count": 7,
   "metadata": {},
   "outputs": [
    {
     "data": {
      "text/latex": [
       "$$\\sqrt{\\left(E_{1} + E_{2}\\right)^{2} - \\left(px_{1} + px_{2}\\right)^{2} - \\left(py_{1} + py_{2}\\right)^{2} - \\left(pz_{1} + pz_{2}\\right)^{2}}$$"
      ],
      "text/plain": [
       "   _________________________________________________________\n",
       "  ╱          2              2              2              2 \n",
       "╲╱  (E₁ + E₂)  - (px₁ + px₂)  - (py₁ + py₂)  - (pz₁ + pz₂)  "
      ]
     },
     "execution_count": 7,
     "metadata": {},
     "output_type": "execute_result"
    }
   ],
   "source": [
    "mass = sympy.sqrt((E1 + E2)**2 - (px1 + px2)**2 - (py1 + py2)**2 - (pz1 + pz2)**2)\n",
    "mass"
   ]
  },
  {
   "cell_type": "code",
   "execution_count": 8,
   "metadata": {},
   "outputs": [
    {
     "data": {
      "text/latex": [
       "$$\\sqrt{E_{1}^{2} + 2 E_{1} E_{2} + E_{2}^{2} - pt_{1}^{2} \\cosh^{2}{\\left (\\eta_{1} \\right )} - 2 pt_{1} pt_{2} \\cos{\\left (\\phi_{1} - \\phi_{2} \\right )} - 2 pt_{1} pt_{2} \\sinh{\\left (\\eta_{1} \\right )} \\sinh{\\left (\\eta_{2} \\right )} - pt_{2}^{2} \\cosh^{2}{\\left (\\eta_{2} \\right )}}$$"
      ],
      "text/plain": [
       "   ___________________________________________________________________________\n",
       "  ╱   2               2      2     2                                          \n",
       "╲╱  E₁  + 2⋅E₁⋅E₂ + E₂  - pt₁ ⋅cosh (η₁) - 2⋅pt₁⋅pt₂⋅cos(φ₁ - φ₂) - 2⋅pt₁⋅pt₂⋅\n",
       "\n",
       "___________________________________\n",
       "                       2     2     \n",
       "sinh(η₁)⋅sinh(η₂) - pt₂ ⋅cosh (η₂) "
      ]
     },
     "execution_count": 8,
     "metadata": {},
     "output_type": "execute_result"
    }
   ],
   "source": [
    "mass2 = sympy.trigsimp(mass.subs(px1, pt1*sympy.cos(phi1))\n",
    "                           .subs(py1, pt1*sympy.sin(phi1))\n",
    "                           .subs(pz1, pt1*sympy.sinh(eta1))\n",
    "                           .subs(px2, pt2*sympy.cos(phi2))\n",
    "                           .subs(py2, pt2*sympy.sin(phi2))\n",
    "                           .subs(pz2, pt2*sympy.sinh(eta2)))\n",
    "mass2"
   ]
  },
  {
   "cell_type": "markdown",
   "metadata": {
    "slideshow": {
     "slide_type": "slide"
    }
   },
   "source": [
    "A nice benefit of doing symbolic math in Python is that you can convert symbolic expressions into functions for your data analysis."
   ]
  },
  {
   "cell_type": "code",
   "execution_count": 9,
   "metadata": {},
   "outputs": [],
   "source": [
    "f = sympy.lambdify([E1, pt1, eta1, phi1, E2, pt2, eta2, phi2], mass2, modules=[\"numpy\"])"
   ]
  },
  {
   "cell_type": "markdown",
   "metadata": {},
   "source": [
    "`f` is a function you can execute (evaluating as \"`numpy`\" rather than the default \"`math`\")."
   ]
  },
  {
   "cell_type": "code",
   "execution_count": 10,
   "metadata": {},
   "outputs": [
    {
     "data": {
      "text/latex": [
       "$$11.661903789690601$$"
      ],
      "text/plain": [
       "11.661903789690601"
      ]
     },
     "execution_count": 10,
     "metadata": {},
     "output_type": "execute_result"
    }
   ],
   "source": [
    "f(10, 8, 0, 0, 9, 7, 0, 0)"
   ]
  },
  {
   "cell_type": "markdown",
   "metadata": {
    "slideshow": {
     "slide_type": "slide"
    }
   },
   "source": [
    "# iminuit"
   ]
  },
  {
   "cell_type": "markdown",
   "metadata": {
    "slideshow": {
     "slide_type": "slide"
    }
   },
   "source": [
    "# GooFit"
   ]
  },
  {
   "cell_type": "markdown",
   "metadata": {
    "slideshow": {
     "slide_type": "slide"
    }
   },
   "source": [
    "# NumPythia"
   ]
  }
 ],
 "metadata": {
  "celltoolbar": "Slideshow",
  "kernelspec": {
   "display_name": "Python 2",
   "language": "python",
   "name": "python2"
  },
  "language_info": {
   "codemirror_mode": {
    "name": "ipython",
    "version": 2
   },
   "file_extension": ".py",
   "mimetype": "text/x-python",
   "name": "python",
   "nbconvert_exporter": "python",
   "pygments_lexer": "ipython2",
   "version": "2.7.5"
  }
 },
 "nbformat": 4,
 "nbformat_minor": 2
}
