{
 "cells": [
  {
   "cell_type": "markdown",
   "metadata": {},
   "source": [
    "Setup Instructions\n",
    "==============\n",
    "These instructions need to be run once to teach Jupyter about the software environment we'd like to use for the tutorial. It's important that you've followd all the steps in [HATSatLPCSetup2019](https://twiki.cern.ch/twiki/bin/view/CMS/HATSatLPCSetup2019), particularly the grid certificate instructions!\n",
    "\n",
    "The following cell just needs to be executed once. If you logout and log back in, the setup will remain."
   ]
  },
  {
   "cell_type": "code",
   "execution_count": 1,
   "metadata": {
    "scrolled": true
   },
   "outputs": [
    {
     "name": "stdout",
     "output_type": "stream",
     "text": [
      "Loaded CMSSW_10_6_0 into hats-sci-py!\n"
     ]
    },
    {
     "name": "stderr",
     "output_type": "stream",
     "text": [
      "WARNING: In non-interactive mode release checks e.g. deprecated releases, production architectures are disabled.\n"
     ]
    }
   ],
   "source": [
    "%%bash\n",
    "#!/bin/bash\n",
    "\n",
    "CMSSW_VER=\"CMSSW_10_6_0\"\n",
    "KERNEL_NAME=\"hats-sci-py\"\n",
    "\n",
    "set -e\n",
    "# Get the CMSSW libraries (specifically ROOT)\n",
    "SCRAM_ARCH=$(ls -d /cvmfs/cms.cern.ch/$(/cvmfs/cms.cern.ch/common/cmsos)*/cms/cmssw/${CMSSW_VER} | tail -n 1 | awk -F / '{ print $4 }')\n",
    "export SCRAM_ARCH\n",
    "source /cvmfs/cms.cern.ch/cmsset_default.sh\n",
    "if [ -d cmssw-env ]; then\n",
    "    rm -rf cmssw-env\n",
    "fi\n",
    "scramv1 project --name cmssw-env CMSSW $CMSSW_VER \n",
    "\n",
    "cd cmssw-env\n",
    "eval `scramv1 runtime -sh`\n",
    "\n",
    "# Make a wrapper script to load CMSSW python\n",
    "cat << 'EOF' > bin/python_wrapper.sh\n",
    "#!/bin/bash\n",
    "DIR=\"$( cd \"$( dirname \"${BASH_SOURCE[0]}\" )\" && pwd )\"\n",
    "source /cvmfs/cms.cern.ch/cmsset_default.sh\n",
    "cd $DIR\n",
    "eval `scramv1 runtime -sh`\n",
    "cd -\n",
    "exec python \"$@\"\n",
    "EOF\n",
    "chmod +x bin/python_wrapper.sh\n",
    "\n",
    "# Create the kernel\n",
    "mkdir -p \"$HOME/.local/share/jupyter/kernels/$KERNEL_NAME\"\n",
    "cat << EOF > \"$HOME/.local/share/jupyter/kernels/$KERNEL_NAME/kernel.json\"\n",
    "{\n",
    " \"display_name\": \"$KERNEL_NAME\", \n",
    " \"language\": \"python\", \n",
    " \"argv\": [\n",
    "  \"$PWD/bin/python_wrapper.sh\", \n",
    "  \"-m\", \n",
    "  \"ipykernel_launcher\", \n",
    "  \"-f\", \n",
    "  \"{connection_file}\"\n",
    " ]\n",
    "}\n",
    "EOF\n",
    "\n",
    "# Report OK\n",
    "echo \"Loaded $CMSSW_VERSION into $KERNEL_NAME!\""
   ]
  },
  {
   "cell_type": "markdown",
   "metadata": {},
   "source": [
    "Results\n",
    "=======\n",
    "\n",
    "If successful, you should see something similar to the following:\n",
    "\n",
    "```\n",
    "Loaded CMSSW_10_6_0 into hats-sci-py!\n",
    "WARNING: In non-interactive mode release checks e.g. deprecated releases, production architectures are disabled.\n",
    "```\n",
    "\n",
    "The new kernel you just made will then show up in the various Jupyter dropdowns, adding it alongside the stock defaults."
   ]
  },
  {
   "cell_type": "code",
   "execution_count": null,
   "metadata": {},
   "outputs": [],
   "source": []
  }
 ],
 "metadata": {
  "kernelspec": {
   "display_name": "Python 2",
   "language": "python",
   "name": "python2"
  },
  "language_info": {
   "codemirror_mode": {
    "name": "ipython",
    "version": 2
   },
   "file_extension": ".py",
   "mimetype": "text/x-python",
   "name": "python",
   "nbconvert_exporter": "python",
   "pygments_lexer": "ipython2",
   "version": "2.7.5"
  }
 },
 "nbformat": 4,
 "nbformat_minor": 2
}
